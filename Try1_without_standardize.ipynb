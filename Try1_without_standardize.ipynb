{
 "cells": [
  {
   "cell_type": "code",
   "execution_count": 3,
   "metadata": {
    "id": "ZlAssCPy9YCa"
   },
   "outputs": [],
   "source": [
    "import pandas as pd\n",
    "df = pd.read_csv('C:\\\\Users\\\\acer\\\\Desktop\\\\Data Science\\\\DS 3003\\\\Project 03\\\\Dataset\\\\credit_train.csv')\n"
   ]
  },
  {
   "cell_type": "code",
   "execution_count": 4,
   "metadata": {
    "id": "TStuXjOC9oAa"
   },
   "outputs": [],
   "source": [
    "from sklearn.model_selection import train_test_split\n",
    "import matplotlib.pyplot as plt\n",
    "import seaborn as sns\n",
    "import numpy as np"
   ]
  },
  {
   "cell_type": "code",
   "execution_count": 5,
   "metadata": {
    "colab": {
     "base_uri": "https://localhost:8080/",
     "height": 538
    },
    "id": "zbMdfPuR9n8-",
    "outputId": "20f5bd41-8831-496b-fd18-5dcef716d95c"
   },
   "outputs": [
    {
     "data": {
      "text/html": [
       "<div>\n",
       "<style scoped>\n",
       "    .dataframe tbody tr th:only-of-type {\n",
       "        vertical-align: middle;\n",
       "    }\n",
       "\n",
       "    .dataframe tbody tr th {\n",
       "        vertical-align: top;\n",
       "    }\n",
       "\n",
       "    .dataframe thead th {\n",
       "        text-align: right;\n",
       "    }\n",
       "</style>\n",
       "<table border=\"1\" class=\"dataframe\">\n",
       "  <thead>\n",
       "    <tr style=\"text-align: right;\">\n",
       "      <th></th>\n",
       "      <th>Loan ID</th>\n",
       "      <th>Customer ID</th>\n",
       "      <th>Loan Status</th>\n",
       "      <th>Current Loan Amount</th>\n",
       "      <th>Term</th>\n",
       "      <th>Credit Score</th>\n",
       "      <th>Annual Income</th>\n",
       "      <th>Years in current job</th>\n",
       "      <th>Home Ownership</th>\n",
       "      <th>Purpose</th>\n",
       "      <th>Monthly Debt</th>\n",
       "      <th>Years of Credit History</th>\n",
       "      <th>Months since last delinquent</th>\n",
       "      <th>Number of Open Accounts</th>\n",
       "      <th>Number of Credit Problems</th>\n",
       "      <th>Current Credit Balance</th>\n",
       "      <th>Maximum Open Credit</th>\n",
       "      <th>Bankruptcies</th>\n",
       "      <th>Tax Liens</th>\n",
       "    </tr>\n",
       "  </thead>\n",
       "  <tbody>\n",
       "    <tr>\n",
       "      <th>0</th>\n",
       "      <td>14dd8831-6af5-400b-83ec-68e61888a048</td>\n",
       "      <td>981165ec-3274-42f5-a3b4-d104041a9ca9</td>\n",
       "      <td>Fully Paid</td>\n",
       "      <td>445412.0</td>\n",
       "      <td>Short Term</td>\n",
       "      <td>709.0</td>\n",
       "      <td>1167493.0</td>\n",
       "      <td>8 years</td>\n",
       "      <td>Home Mortgage</td>\n",
       "      <td>Home Improvements</td>\n",
       "      <td>5214.74</td>\n",
       "      <td>17.2</td>\n",
       "      <td>NaN</td>\n",
       "      <td>6.0</td>\n",
       "      <td>1.0</td>\n",
       "      <td>228190.0</td>\n",
       "      <td>416746.0</td>\n",
       "      <td>1.0</td>\n",
       "      <td>0.0</td>\n",
       "    </tr>\n",
       "    <tr>\n",
       "      <th>1</th>\n",
       "      <td>4771cc26-131a-45db-b5aa-537ea4ba5342</td>\n",
       "      <td>2de017a3-2e01-49cb-a581-08169e83be29</td>\n",
       "      <td>Fully Paid</td>\n",
       "      <td>262328.0</td>\n",
       "      <td>Short Term</td>\n",
       "      <td>NaN</td>\n",
       "      <td>NaN</td>\n",
       "      <td>10+ years</td>\n",
       "      <td>Home Mortgage</td>\n",
       "      <td>Debt Consolidation</td>\n",
       "      <td>33295.98</td>\n",
       "      <td>21.1</td>\n",
       "      <td>8.0</td>\n",
       "      <td>35.0</td>\n",
       "      <td>0.0</td>\n",
       "      <td>229976.0</td>\n",
       "      <td>850784.0</td>\n",
       "      <td>0.0</td>\n",
       "      <td>0.0</td>\n",
       "    </tr>\n",
       "    <tr>\n",
       "      <th>2</th>\n",
       "      <td>4eed4e6a-aa2f-4c91-8651-ce984ee8fb26</td>\n",
       "      <td>5efb2b2b-bf11-4dfd-a572-3761a2694725</td>\n",
       "      <td>Fully Paid</td>\n",
       "      <td>99999999.0</td>\n",
       "      <td>Short Term</td>\n",
       "      <td>741.0</td>\n",
       "      <td>2231892.0</td>\n",
       "      <td>8 years</td>\n",
       "      <td>Own Home</td>\n",
       "      <td>Debt Consolidation</td>\n",
       "      <td>29200.53</td>\n",
       "      <td>14.9</td>\n",
       "      <td>29.0</td>\n",
       "      <td>18.0</td>\n",
       "      <td>1.0</td>\n",
       "      <td>297996.0</td>\n",
       "      <td>750090.0</td>\n",
       "      <td>0.0</td>\n",
       "      <td>0.0</td>\n",
       "    </tr>\n",
       "    <tr>\n",
       "      <th>3</th>\n",
       "      <td>77598f7b-32e7-4e3b-a6e5-06ba0d98fe8a</td>\n",
       "      <td>e777faab-98ae-45af-9a86-7ce5b33b1011</td>\n",
       "      <td>Fully Paid</td>\n",
       "      <td>347666.0</td>\n",
       "      <td>Long Term</td>\n",
       "      <td>721.0</td>\n",
       "      <td>806949.0</td>\n",
       "      <td>3 years</td>\n",
       "      <td>Own Home</td>\n",
       "      <td>Debt Consolidation</td>\n",
       "      <td>8741.90</td>\n",
       "      <td>12.0</td>\n",
       "      <td>NaN</td>\n",
       "      <td>9.0</td>\n",
       "      <td>0.0</td>\n",
       "      <td>256329.0</td>\n",
       "      <td>386958.0</td>\n",
       "      <td>0.0</td>\n",
       "      <td>0.0</td>\n",
       "    </tr>\n",
       "    <tr>\n",
       "      <th>4</th>\n",
       "      <td>d4062e70-befa-4995-8643-a0de73938182</td>\n",
       "      <td>81536ad9-5ccf-4eb8-befb-47a4d608658e</td>\n",
       "      <td>Fully Paid</td>\n",
       "      <td>176220.0</td>\n",
       "      <td>Short Term</td>\n",
       "      <td>NaN</td>\n",
       "      <td>NaN</td>\n",
       "      <td>5 years</td>\n",
       "      <td>Rent</td>\n",
       "      <td>Debt Consolidation</td>\n",
       "      <td>20639.70</td>\n",
       "      <td>6.1</td>\n",
       "      <td>NaN</td>\n",
       "      <td>15.0</td>\n",
       "      <td>0.0</td>\n",
       "      <td>253460.0</td>\n",
       "      <td>427174.0</td>\n",
       "      <td>0.0</td>\n",
       "      <td>0.0</td>\n",
       "    </tr>\n",
       "  </tbody>\n",
       "</table>\n",
       "</div>"
      ],
      "text/plain": [
       "                                Loan ID                           Customer ID  \\\n",
       "0  14dd8831-6af5-400b-83ec-68e61888a048  981165ec-3274-42f5-a3b4-d104041a9ca9   \n",
       "1  4771cc26-131a-45db-b5aa-537ea4ba5342  2de017a3-2e01-49cb-a581-08169e83be29   \n",
       "2  4eed4e6a-aa2f-4c91-8651-ce984ee8fb26  5efb2b2b-bf11-4dfd-a572-3761a2694725   \n",
       "3  77598f7b-32e7-4e3b-a6e5-06ba0d98fe8a  e777faab-98ae-45af-9a86-7ce5b33b1011   \n",
       "4  d4062e70-befa-4995-8643-a0de73938182  81536ad9-5ccf-4eb8-befb-47a4d608658e   \n",
       "\n",
       "  Loan Status  Current Loan Amount        Term  Credit Score  Annual Income  \\\n",
       "0  Fully Paid             445412.0  Short Term         709.0      1167493.0   \n",
       "1  Fully Paid             262328.0  Short Term           NaN            NaN   \n",
       "2  Fully Paid           99999999.0  Short Term         741.0      2231892.0   \n",
       "3  Fully Paid             347666.0   Long Term         721.0       806949.0   \n",
       "4  Fully Paid             176220.0  Short Term           NaN            NaN   \n",
       "\n",
       "  Years in current job Home Ownership             Purpose  Monthly Debt  \\\n",
       "0              8 years  Home Mortgage   Home Improvements       5214.74   \n",
       "1            10+ years  Home Mortgage  Debt Consolidation      33295.98   \n",
       "2              8 years       Own Home  Debt Consolidation      29200.53   \n",
       "3              3 years       Own Home  Debt Consolidation       8741.90   \n",
       "4              5 years           Rent  Debt Consolidation      20639.70   \n",
       "\n",
       "   Years of Credit History  Months since last delinquent  \\\n",
       "0                     17.2                           NaN   \n",
       "1                     21.1                           8.0   \n",
       "2                     14.9                          29.0   \n",
       "3                     12.0                           NaN   \n",
       "4                      6.1                           NaN   \n",
       "\n",
       "   Number of Open Accounts  Number of Credit Problems  Current Credit Balance  \\\n",
       "0                      6.0                        1.0                228190.0   \n",
       "1                     35.0                        0.0                229976.0   \n",
       "2                     18.0                        1.0                297996.0   \n",
       "3                      9.0                        0.0                256329.0   \n",
       "4                     15.0                        0.0                253460.0   \n",
       "\n",
       "   Maximum Open Credit  Bankruptcies  Tax Liens  \n",
       "0             416746.0           1.0        0.0  \n",
       "1             850784.0           0.0        0.0  \n",
       "2             750090.0           0.0        0.0  \n",
       "3             386958.0           0.0        0.0  \n",
       "4             427174.0           0.0        0.0  "
      ]
     },
     "execution_count": 5,
     "metadata": {},
     "output_type": "execute_result"
    }
   ],
   "source": [
    "df.head()"
   ]
  },
  {
   "cell_type": "code",
   "execution_count": 6,
   "metadata": {
    "colab": {
     "base_uri": "https://localhost:8080/",
     "height": 355
    },
    "id": "qSOOYn8k9n52",
    "outputId": "327d7840-5880-4b1f-ef0e-6da0a79f39ae"
   },
   "outputs": [
    {
     "data": {
      "text/html": [
       "<div>\n",
       "<style scoped>\n",
       "    .dataframe tbody tr th:only-of-type {\n",
       "        vertical-align: middle;\n",
       "    }\n",
       "\n",
       "    .dataframe tbody tr th {\n",
       "        vertical-align: top;\n",
       "    }\n",
       "\n",
       "    .dataframe thead th {\n",
       "        text-align: right;\n",
       "    }\n",
       "</style>\n",
       "<table border=\"1\" class=\"dataframe\">\n",
       "  <thead>\n",
       "    <tr style=\"text-align: right;\">\n",
       "      <th></th>\n",
       "      <th>Current Loan Amount</th>\n",
       "      <th>Credit Score</th>\n",
       "      <th>Annual Income</th>\n",
       "      <th>Monthly Debt</th>\n",
       "      <th>Years of Credit History</th>\n",
       "      <th>Months since last delinquent</th>\n",
       "      <th>Number of Open Accounts</th>\n",
       "      <th>Number of Credit Problems</th>\n",
       "      <th>Current Credit Balance</th>\n",
       "      <th>Maximum Open Credit</th>\n",
       "      <th>Bankruptcies</th>\n",
       "      <th>Tax Liens</th>\n",
       "    </tr>\n",
       "  </thead>\n",
       "  <tbody>\n",
       "    <tr>\n",
       "      <th>count</th>\n",
       "      <td>1.000000e+05</td>\n",
       "      <td>80846.000000</td>\n",
       "      <td>8.084600e+04</td>\n",
       "      <td>100000.000000</td>\n",
       "      <td>100000.000000</td>\n",
       "      <td>46859.000000</td>\n",
       "      <td>100000.00000</td>\n",
       "      <td>100000.000000</td>\n",
       "      <td>1.000000e+05</td>\n",
       "      <td>9.999800e+04</td>\n",
       "      <td>99796.000000</td>\n",
       "      <td>99990.000000</td>\n",
       "    </tr>\n",
       "    <tr>\n",
       "      <th>mean</th>\n",
       "      <td>1.176045e+07</td>\n",
       "      <td>1076.456089</td>\n",
       "      <td>1.378277e+06</td>\n",
       "      <td>18472.412336</td>\n",
       "      <td>18.199141</td>\n",
       "      <td>34.901321</td>\n",
       "      <td>11.12853</td>\n",
       "      <td>0.168310</td>\n",
       "      <td>2.946374e+05</td>\n",
       "      <td>7.607984e+05</td>\n",
       "      <td>0.117740</td>\n",
       "      <td>0.029313</td>\n",
       "    </tr>\n",
       "    <tr>\n",
       "      <th>std</th>\n",
       "      <td>3.178394e+07</td>\n",
       "      <td>1475.403791</td>\n",
       "      <td>1.081360e+06</td>\n",
       "      <td>12174.992609</td>\n",
       "      <td>7.015324</td>\n",
       "      <td>21.997829</td>\n",
       "      <td>5.00987</td>\n",
       "      <td>0.482705</td>\n",
       "      <td>3.761709e+05</td>\n",
       "      <td>8.384503e+06</td>\n",
       "      <td>0.351424</td>\n",
       "      <td>0.258182</td>\n",
       "    </tr>\n",
       "    <tr>\n",
       "      <th>min</th>\n",
       "      <td>1.080200e+04</td>\n",
       "      <td>585.000000</td>\n",
       "      <td>7.662700e+04</td>\n",
       "      <td>0.000000</td>\n",
       "      <td>3.600000</td>\n",
       "      <td>0.000000</td>\n",
       "      <td>0.00000</td>\n",
       "      <td>0.000000</td>\n",
       "      <td>0.000000e+00</td>\n",
       "      <td>0.000000e+00</td>\n",
       "      <td>0.000000</td>\n",
       "      <td>0.000000</td>\n",
       "    </tr>\n",
       "    <tr>\n",
       "      <th>25%</th>\n",
       "      <td>1.796520e+05</td>\n",
       "      <td>705.000000</td>\n",
       "      <td>8.488440e+05</td>\n",
       "      <td>10214.162500</td>\n",
       "      <td>13.500000</td>\n",
       "      <td>16.000000</td>\n",
       "      <td>8.00000</td>\n",
       "      <td>0.000000</td>\n",
       "      <td>1.126700e+05</td>\n",
       "      <td>2.734380e+05</td>\n",
       "      <td>0.000000</td>\n",
       "      <td>0.000000</td>\n",
       "    </tr>\n",
       "    <tr>\n",
       "      <th>50%</th>\n",
       "      <td>3.122460e+05</td>\n",
       "      <td>724.000000</td>\n",
       "      <td>1.174162e+06</td>\n",
       "      <td>16220.300000</td>\n",
       "      <td>16.900000</td>\n",
       "      <td>32.000000</td>\n",
       "      <td>10.00000</td>\n",
       "      <td>0.000000</td>\n",
       "      <td>2.098170e+05</td>\n",
       "      <td>4.678740e+05</td>\n",
       "      <td>0.000000</td>\n",
       "      <td>0.000000</td>\n",
       "    </tr>\n",
       "    <tr>\n",
       "      <th>75%</th>\n",
       "      <td>5.249420e+05</td>\n",
       "      <td>741.000000</td>\n",
       "      <td>1.650663e+06</td>\n",
       "      <td>24012.057500</td>\n",
       "      <td>21.700000</td>\n",
       "      <td>51.000000</td>\n",
       "      <td>14.00000</td>\n",
       "      <td>0.000000</td>\n",
       "      <td>3.679588e+05</td>\n",
       "      <td>7.829580e+05</td>\n",
       "      <td>0.000000</td>\n",
       "      <td>0.000000</td>\n",
       "    </tr>\n",
       "    <tr>\n",
       "      <th>max</th>\n",
       "      <td>1.000000e+08</td>\n",
       "      <td>7510.000000</td>\n",
       "      <td>1.655574e+08</td>\n",
       "      <td>435843.280000</td>\n",
       "      <td>70.500000</td>\n",
       "      <td>176.000000</td>\n",
       "      <td>76.00000</td>\n",
       "      <td>15.000000</td>\n",
       "      <td>3.287897e+07</td>\n",
       "      <td>1.539738e+09</td>\n",
       "      <td>7.000000</td>\n",
       "      <td>15.000000</td>\n",
       "    </tr>\n",
       "  </tbody>\n",
       "</table>\n",
       "</div>"
      ],
      "text/plain": [
       "       Current Loan Amount  Credit Score  Annual Income   Monthly Debt  \\\n",
       "count         1.000000e+05  80846.000000   8.084600e+04  100000.000000   \n",
       "mean          1.176045e+07   1076.456089   1.378277e+06   18472.412336   \n",
       "std           3.178394e+07   1475.403791   1.081360e+06   12174.992609   \n",
       "min           1.080200e+04    585.000000   7.662700e+04       0.000000   \n",
       "25%           1.796520e+05    705.000000   8.488440e+05   10214.162500   \n",
       "50%           3.122460e+05    724.000000   1.174162e+06   16220.300000   \n",
       "75%           5.249420e+05    741.000000   1.650663e+06   24012.057500   \n",
       "max           1.000000e+08   7510.000000   1.655574e+08  435843.280000   \n",
       "\n",
       "       Years of Credit History  Months since last delinquent  \\\n",
       "count            100000.000000                  46859.000000   \n",
       "mean                 18.199141                     34.901321   \n",
       "std                   7.015324                     21.997829   \n",
       "min                   3.600000                      0.000000   \n",
       "25%                  13.500000                     16.000000   \n",
       "50%                  16.900000                     32.000000   \n",
       "75%                  21.700000                     51.000000   \n",
       "max                  70.500000                    176.000000   \n",
       "\n",
       "       Number of Open Accounts  Number of Credit Problems  \\\n",
       "count             100000.00000              100000.000000   \n",
       "mean                  11.12853                   0.168310   \n",
       "std                    5.00987                   0.482705   \n",
       "min                    0.00000                   0.000000   \n",
       "25%                    8.00000                   0.000000   \n",
       "50%                   10.00000                   0.000000   \n",
       "75%                   14.00000                   0.000000   \n",
       "max                   76.00000                  15.000000   \n",
       "\n",
       "       Current Credit Balance  Maximum Open Credit  Bankruptcies     Tax Liens  \n",
       "count            1.000000e+05         9.999800e+04  99796.000000  99990.000000  \n",
       "mean             2.946374e+05         7.607984e+05      0.117740      0.029313  \n",
       "std              3.761709e+05         8.384503e+06      0.351424      0.258182  \n",
       "min              0.000000e+00         0.000000e+00      0.000000      0.000000  \n",
       "25%              1.126700e+05         2.734380e+05      0.000000      0.000000  \n",
       "50%              2.098170e+05         4.678740e+05      0.000000      0.000000  \n",
       "75%              3.679588e+05         7.829580e+05      0.000000      0.000000  \n",
       "max              3.287897e+07         1.539738e+09      7.000000     15.000000  "
      ]
     },
     "execution_count": 6,
     "metadata": {},
     "output_type": "execute_result"
    }
   ],
   "source": [
    "df.describe()"
   ]
  },
  {
   "cell_type": "markdown",
   "metadata": {
    "id": "eQJ2-zWi9_u9"
   },
   "source": [
    "**Duplicates**"
   ]
  },
  {
   "cell_type": "code",
   "execution_count": 7,
   "metadata": {
    "colab": {
     "base_uri": "https://localhost:8080/"
    },
    "id": "hnMhN6rK9n1a",
    "outputId": "9566e9b6-845c-46c5-e501-ec1eb84cb364"
   },
   "outputs": [
    {
     "name": "stdout",
     "output_type": "stream",
     "text": [
      "10728\n",
      "<class 'pandas.core.frame.DataFrame'>\n",
      "Index: 89786 entries, 0 to 100000\n",
      "Data columns (total 19 columns):\n",
      " #   Column                        Non-Null Count  Dtype  \n",
      "---  ------                        --------------  -----  \n",
      " 0   Loan ID                       89785 non-null  object \n",
      " 1   Customer ID                   89785 non-null  object \n",
      " 2   Loan Status                   89785 non-null  object \n",
      " 3   Current Loan Amount           89785 non-null  float64\n",
      " 4   Term                          89785 non-null  object \n",
      " 5   Credit Score                  70631 non-null  float64\n",
      " 6   Annual Income                 70631 non-null  float64\n",
      " 7   Years in current job          85983 non-null  object \n",
      " 8   Home Ownership                89785 non-null  object \n",
      " 9   Purpose                       89785 non-null  object \n",
      " 10  Monthly Debt                  89785 non-null  float64\n",
      " 11  Years of Credit History       89785 non-null  float64\n",
      " 12  Months since last delinquent  41448 non-null  float64\n",
      " 13  Number of Open Accounts       89785 non-null  float64\n",
      " 14  Number of Credit Problems     89785 non-null  float64\n",
      " 15  Current Credit Balance        89785 non-null  float64\n",
      " 16  Maximum Open Credit           89783 non-null  float64\n",
      " 17  Bankruptcies                  89595 non-null  float64\n",
      " 18  Tax Liens                     89776 non-null  float64\n",
      "dtypes: float64(12), object(7)\n",
      "memory usage: 13.7+ MB\n"
     ]
    }
   ],
   "source": [
    "duplicates=df[df.duplicated()].shape[0]\n",
    "print(duplicates)\n",
    "\n",
    "df.drop_duplicates(inplace = True)\n",
    "df.info()"
   ]
  },
  {
   "cell_type": "code",
   "execution_count": 8,
   "metadata": {
    "id": "wQ-nKAz89ntD"
   },
   "outputs": [],
   "source": [
    "df['Current Loan Amount'] = df['Current Loan Amount'].replace(99999999.0, np.nan)\n",
    "df[['Maximum Open Credit']] = df[['Maximum Open Credit']].replace(0, np.nan)\n",
    "df[['Bankruptcies']] = df[['Bankruptcies']].replace(-1, np.nan)\n",
    "df[['Tax Liens']] = df[['Tax Liens']].replace(-1, np.nan)\n",
    "df.drop(index=100000, inplace=True)\n",
    "df.drop(columns=['Loan ID','Customer ID'], inplace=True)"
   ]
  },
  {
   "cell_type": "code",
   "execution_count": 9,
   "metadata": {
    "colab": {
     "base_uri": "https://localhost:8080/"
    },
    "id": "_tPt8kxW9npt",
    "outputId": "1f51c1cf-dd9f-434a-f1e3-9b5227c89f51"
   },
   "outputs": [
    {
     "data": {
      "text/plain": [
       "Home Ownership\n",
       "Home Mortgage    43548\n",
       "Rent             37855\n",
       "Own Home          8199\n",
       "HaveMortgage       183\n",
       "Name: count, dtype: int64"
      ]
     },
     "execution_count": 9,
     "metadata": {},
     "output_type": "execute_result"
    }
   ],
   "source": [
    "df[\"Home Ownership\"].value_counts()"
   ]
  },
  {
   "cell_type": "markdown",
   "metadata": {
    "id": "zKhsqkvR-gZ-"
   },
   "source": [
    "**Encoding**"
   ]
  },
  {
   "cell_type": "code",
   "execution_count": 10,
   "metadata": {
    "colab": {
     "base_uri": "https://localhost:8080/"
    },
    "id": "8hLqqnJK96AS",
    "outputId": "2f9548d6-fdc6-4796-e6b6-8223c0327b22"
   },
   "outputs": [
    {
     "data": {
      "text/plain": [
       "Purpose\n",
       "Debt Consolidation      70834\n",
       "Home Improvements        5237\n",
       "other                    5235\n",
       "Other                    2882\n",
       "Business Loan            1366\n",
       "Buy a Car                1165\n",
       "Medical Bills             983\n",
       "Buy House                 582\n",
       "Take a Trip               488\n",
       "major_purchase            330\n",
       "small_business            255\n",
       "moving                    135\n",
       "wedding                   105\n",
       "Educational Expenses       91\n",
       "vacation                   89\n",
       "renewable_energy            8\n",
       "Name: count, dtype: int64"
      ]
     },
     "execution_count": 10,
     "metadata": {},
     "output_type": "execute_result"
    }
   ],
   "source": [
    "df[\"Purpose\"].value_counts()"
   ]
  },
  {
   "cell_type": "code",
   "execution_count": 11,
   "metadata": {
    "id": "kl48r61N9586"
   },
   "outputs": [],
   "source": [
    "# Recategorize 'Purpose' into 5 groups\n",
    "def categorize_purpose(purpose):\n",
    "    if purpose in ['Debt Consolidation']:\n",
    "        return 'Debt Consolidation'\n",
    "    elif purpose in ['Business Loan', 'small_business']:\n",
    "        return 'Business Loan'\n",
    "    elif purpose in ['Home Improvements', 'Buy House']:\n",
    "        return 'House Loan'\n",
    "    elif purpose in ['Educational Expenses', 'Buy a Car', 'Medical Bills', 'Take a Trip', 'wedding', 'vacation','moving']:\n",
    "        return 'Personal Loan'\n",
    "    else:\n",
    "        return 'Other '\n",
    "\n",
    "# Apply the categorization function to the 'Purpose' column\n",
    "df['Purpose'] = df['Purpose'].apply(categorize_purpose)"
   ]
  },
  {
   "cell_type": "code",
   "execution_count": 12,
   "metadata": {
    "colab": {
     "base_uri": "https://localhost:8080/"
    },
    "id": "Ex_JbSDH9540",
    "outputId": "1c0088dd-c82a-4f20-b92e-7ca2ae45cd1a"
   },
   "outputs": [
    {
     "data": {
      "text/plain": [
       "Years in current job\n",
       "10+ years    27755\n",
       "2 years       8254\n",
       "< 1 year      7365\n",
       "3 years       7339\n",
       "5 years       6136\n",
       "1 year        5832\n",
       "4 years       5511\n",
       "6 years       5134\n",
       "7 years       4989\n",
       "8 years       4121\n",
       "9 years       3547\n",
       "Name: count, dtype: int64"
      ]
     },
     "execution_count": 12,
     "metadata": {},
     "output_type": "execute_result"
    }
   ],
   "source": [
    "df[\"Years in current job\"].value_counts()"
   ]
  },
  {
   "cell_type": "code",
   "execution_count": 13,
   "metadata": {
    "id": "R-9O9YrQ9511"
   },
   "outputs": [],
   "source": [
    "# Recategorize into 5 levels\n",
    "def categorize_years(years):\n",
    "    if isinstance(years, str) and '10+ years' in years:\n",
    "        return '10+ years'\n",
    "    elif isinstance(years, str) and years in ['9 years', '8 years', '7 years']:\n",
    "        return '7-9 years'\n",
    "    elif isinstance(years, str) and years in ['6 years', '5 years', '4 years','3 years']:\n",
    "        return '3-6 years'\n",
    "    elif isinstance(years, str):\n",
    "        return '< 3 years'\n",
    "    else:\n",
    "        return 'Missing or Invalid'\n",
    "\n",
    "# Apply the categorization function to the 'Years in current job' column\n",
    "df['Years in current job'] = df['Years in current job'].apply(categorize_years)\n"
   ]
  },
  {
   "cell_type": "code",
   "execution_count": 14,
   "metadata": {
    "id": "iEl_EEdJ95yi"
   },
   "outputs": [],
   "source": [
    "#convert \"Loan Status\" into numerical values\n",
    "df[\"Loan Status\"] = df[\"Loan Status\"].astype('category')\n",
    "df[\"Loan Status\"] = df[\"Loan Status\"].cat.codes\n",
    "\n",
    "#convert \"Term\" into numerical values\n",
    "df[\"Term\"] = df[\"Term\"].astype('category')\n",
    "df[\"Term\"] = df[\"Term\"].cat.codes\n",
    "\n",
    "#convert \"Home Ownership\t\" into numerical values\n",
    "df[\"Home Ownership\"] = df[\"Home Ownership\"].astype('category')\n",
    "df[\"Home Ownership\"] = df[\"Home Ownership\"].cat.codes\n",
    "\n",
    "#convert \"Purpose\" into numerical values\n",
    "df[\"Purpose\"] = df[\"Purpose\"].astype('category')\n",
    "df[\"Purpose\"] = df[\"Purpose\"].cat.codes\n",
    "\n",
    "#convert \"Years in current job\" into numerical values\n",
    "df[\"Years in current job\"] = df[\"Years in current job\"].astype('category')\n",
    "df[\"Years in current job\"] = df[\"Years in current job\"].cat.codes"
   ]
  },
  {
   "cell_type": "code",
   "execution_count": 15,
   "metadata": {
    "colab": {
     "base_uri": "https://localhost:8080/",
     "height": 495
    },
    "id": "lGfcuknT95vh",
    "outputId": "b7938530-e8cc-49e3-f0d0-448a78bee80e"
   },
   "outputs": [
    {
     "data": {
      "text/html": [
       "<div>\n",
       "<style scoped>\n",
       "    .dataframe tbody tr th:only-of-type {\n",
       "        vertical-align: middle;\n",
       "    }\n",
       "\n",
       "    .dataframe tbody tr th {\n",
       "        vertical-align: top;\n",
       "    }\n",
       "\n",
       "    .dataframe thead th {\n",
       "        text-align: right;\n",
       "    }\n",
       "</style>\n",
       "<table border=\"1\" class=\"dataframe\">\n",
       "  <thead>\n",
       "    <tr style=\"text-align: right;\">\n",
       "      <th></th>\n",
       "      <th>Loan Status</th>\n",
       "      <th>Current Loan Amount</th>\n",
       "      <th>Term</th>\n",
       "      <th>Credit Score</th>\n",
       "      <th>Annual Income</th>\n",
       "      <th>Years in current job</th>\n",
       "      <th>Home Ownership</th>\n",
       "      <th>Purpose</th>\n",
       "      <th>Monthly Debt</th>\n",
       "      <th>Years of Credit History</th>\n",
       "      <th>Months since last delinquent</th>\n",
       "      <th>Number of Open Accounts</th>\n",
       "      <th>Number of Credit Problems</th>\n",
       "      <th>Current Credit Balance</th>\n",
       "      <th>Maximum Open Credit</th>\n",
       "      <th>Bankruptcies</th>\n",
       "      <th>Tax Liens</th>\n",
       "    </tr>\n",
       "  </thead>\n",
       "  <tbody>\n",
       "    <tr>\n",
       "      <th>0</th>\n",
       "      <td>1</td>\n",
       "      <td>445412.0</td>\n",
       "      <td>1</td>\n",
       "      <td>709.0</td>\n",
       "      <td>1167493.0</td>\n",
       "      <td>2</td>\n",
       "      <td>1</td>\n",
       "      <td>2</td>\n",
       "      <td>5214.74</td>\n",
       "      <td>17.2</td>\n",
       "      <td>NaN</td>\n",
       "      <td>6.0</td>\n",
       "      <td>1.0</td>\n",
       "      <td>228190.0</td>\n",
       "      <td>416746.0</td>\n",
       "      <td>1.0</td>\n",
       "      <td>0.0</td>\n",
       "    </tr>\n",
       "    <tr>\n",
       "      <th>1</th>\n",
       "      <td>1</td>\n",
       "      <td>262328.0</td>\n",
       "      <td>1</td>\n",
       "      <td>NaN</td>\n",
       "      <td>NaN</td>\n",
       "      <td>0</td>\n",
       "      <td>1</td>\n",
       "      <td>1</td>\n",
       "      <td>33295.98</td>\n",
       "      <td>21.1</td>\n",
       "      <td>8.0</td>\n",
       "      <td>35.0</td>\n",
       "      <td>0.0</td>\n",
       "      <td>229976.0</td>\n",
       "      <td>850784.0</td>\n",
       "      <td>0.0</td>\n",
       "      <td>0.0</td>\n",
       "    </tr>\n",
       "    <tr>\n",
       "      <th>2</th>\n",
       "      <td>1</td>\n",
       "      <td>NaN</td>\n",
       "      <td>1</td>\n",
       "      <td>741.0</td>\n",
       "      <td>2231892.0</td>\n",
       "      <td>2</td>\n",
       "      <td>2</td>\n",
       "      <td>1</td>\n",
       "      <td>29200.53</td>\n",
       "      <td>14.9</td>\n",
       "      <td>29.0</td>\n",
       "      <td>18.0</td>\n",
       "      <td>1.0</td>\n",
       "      <td>297996.0</td>\n",
       "      <td>750090.0</td>\n",
       "      <td>0.0</td>\n",
       "      <td>0.0</td>\n",
       "    </tr>\n",
       "    <tr>\n",
       "      <th>3</th>\n",
       "      <td>1</td>\n",
       "      <td>347666.0</td>\n",
       "      <td>0</td>\n",
       "      <td>721.0</td>\n",
       "      <td>806949.0</td>\n",
       "      <td>1</td>\n",
       "      <td>2</td>\n",
       "      <td>1</td>\n",
       "      <td>8741.90</td>\n",
       "      <td>12.0</td>\n",
       "      <td>NaN</td>\n",
       "      <td>9.0</td>\n",
       "      <td>0.0</td>\n",
       "      <td>256329.0</td>\n",
       "      <td>386958.0</td>\n",
       "      <td>0.0</td>\n",
       "      <td>0.0</td>\n",
       "    </tr>\n",
       "    <tr>\n",
       "      <th>4</th>\n",
       "      <td>1</td>\n",
       "      <td>176220.0</td>\n",
       "      <td>1</td>\n",
       "      <td>NaN</td>\n",
       "      <td>NaN</td>\n",
       "      <td>1</td>\n",
       "      <td>3</td>\n",
       "      <td>1</td>\n",
       "      <td>20639.70</td>\n",
       "      <td>6.1</td>\n",
       "      <td>NaN</td>\n",
       "      <td>15.0</td>\n",
       "      <td>0.0</td>\n",
       "      <td>253460.0</td>\n",
       "      <td>427174.0</td>\n",
       "      <td>0.0</td>\n",
       "      <td>0.0</td>\n",
       "    </tr>\n",
       "    <tr>\n",
       "      <th>...</th>\n",
       "      <td>...</td>\n",
       "      <td>...</td>\n",
       "      <td>...</td>\n",
       "      <td>...</td>\n",
       "      <td>...</td>\n",
       "      <td>...</td>\n",
       "      <td>...</td>\n",
       "      <td>...</td>\n",
       "      <td>...</td>\n",
       "      <td>...</td>\n",
       "      <td>...</td>\n",
       "      <td>...</td>\n",
       "      <td>...</td>\n",
       "      <td>...</td>\n",
       "      <td>...</td>\n",
       "      <td>...</td>\n",
       "      <td>...</td>\n",
       "    </tr>\n",
       "    <tr>\n",
       "      <th>99994</th>\n",
       "      <td>1</td>\n",
       "      <td>210584.0</td>\n",
       "      <td>1</td>\n",
       "      <td>719.0</td>\n",
       "      <td>783389.0</td>\n",
       "      <td>3</td>\n",
       "      <td>1</td>\n",
       "      <td>3</td>\n",
       "      <td>3727.61</td>\n",
       "      <td>17.4</td>\n",
       "      <td>18.0</td>\n",
       "      <td>6.0</td>\n",
       "      <td>0.0</td>\n",
       "      <td>456.0</td>\n",
       "      <td>259160.0</td>\n",
       "      <td>0.0</td>\n",
       "      <td>0.0</td>\n",
       "    </tr>\n",
       "    <tr>\n",
       "      <th>99996</th>\n",
       "      <td>1</td>\n",
       "      <td>NaN</td>\n",
       "      <td>1</td>\n",
       "      <td>732.0</td>\n",
       "      <td>1289416.0</td>\n",
       "      <td>3</td>\n",
       "      <td>3</td>\n",
       "      <td>1</td>\n",
       "      <td>13109.05</td>\n",
       "      <td>9.4</td>\n",
       "      <td>21.0</td>\n",
       "      <td>22.0</td>\n",
       "      <td>0.0</td>\n",
       "      <td>153045.0</td>\n",
       "      <td>509234.0</td>\n",
       "      <td>0.0</td>\n",
       "      <td>0.0</td>\n",
       "    </tr>\n",
       "    <tr>\n",
       "      <th>99997</th>\n",
       "      <td>1</td>\n",
       "      <td>103136.0</td>\n",
       "      <td>1</td>\n",
       "      <td>742.0</td>\n",
       "      <td>1150545.0</td>\n",
       "      <td>1</td>\n",
       "      <td>3</td>\n",
       "      <td>1</td>\n",
       "      <td>7315.57</td>\n",
       "      <td>18.8</td>\n",
       "      <td>18.0</td>\n",
       "      <td>12.0</td>\n",
       "      <td>1.0</td>\n",
       "      <td>109554.0</td>\n",
       "      <td>537548.0</td>\n",
       "      <td>1.0</td>\n",
       "      <td>0.0</td>\n",
       "    </tr>\n",
       "    <tr>\n",
       "      <th>99998</th>\n",
       "      <td>1</td>\n",
       "      <td>530332.0</td>\n",
       "      <td>1</td>\n",
       "      <td>746.0</td>\n",
       "      <td>1717524.0</td>\n",
       "      <td>2</td>\n",
       "      <td>3</td>\n",
       "      <td>1</td>\n",
       "      <td>9890.07</td>\n",
       "      <td>15.0</td>\n",
       "      <td>NaN</td>\n",
       "      <td>8.0</td>\n",
       "      <td>0.0</td>\n",
       "      <td>404225.0</td>\n",
       "      <td>738254.0</td>\n",
       "      <td>0.0</td>\n",
       "      <td>0.0</td>\n",
       "    </tr>\n",
       "    <tr>\n",
       "      <th>99999</th>\n",
       "      <td>1</td>\n",
       "      <td>NaN</td>\n",
       "      <td>1</td>\n",
       "      <td>743.0</td>\n",
       "      <td>935180.0</td>\n",
       "      <td>4</td>\n",
       "      <td>2</td>\n",
       "      <td>1</td>\n",
       "      <td>9118.10</td>\n",
       "      <td>13.0</td>\n",
       "      <td>NaN</td>\n",
       "      <td>4.0</td>\n",
       "      <td>1.0</td>\n",
       "      <td>45600.0</td>\n",
       "      <td>91014.0</td>\n",
       "      <td>1.0</td>\n",
       "      <td>0.0</td>\n",
       "    </tr>\n",
       "  </tbody>\n",
       "</table>\n",
       "<p>89785 rows × 17 columns</p>\n",
       "</div>"
      ],
      "text/plain": [
       "       Loan Status  Current Loan Amount  Term  Credit Score  Annual Income  \\\n",
       "0                1             445412.0     1         709.0      1167493.0   \n",
       "1                1             262328.0     1           NaN            NaN   \n",
       "2                1                  NaN     1         741.0      2231892.0   \n",
       "3                1             347666.0     0         721.0       806949.0   \n",
       "4                1             176220.0     1           NaN            NaN   \n",
       "...            ...                  ...   ...           ...            ...   \n",
       "99994            1             210584.0     1         719.0       783389.0   \n",
       "99996            1                  NaN     1         732.0      1289416.0   \n",
       "99997            1             103136.0     1         742.0      1150545.0   \n",
       "99998            1             530332.0     1         746.0      1717524.0   \n",
       "99999            1                  NaN     1         743.0       935180.0   \n",
       "\n",
       "       Years in current job  Home Ownership  Purpose  Monthly Debt  \\\n",
       "0                         2               1        2       5214.74   \n",
       "1                         0               1        1      33295.98   \n",
       "2                         2               2        1      29200.53   \n",
       "3                         1               2        1       8741.90   \n",
       "4                         1               3        1      20639.70   \n",
       "...                     ...             ...      ...           ...   \n",
       "99994                     3               1        3       3727.61   \n",
       "99996                     3               3        1      13109.05   \n",
       "99997                     1               3        1       7315.57   \n",
       "99998                     2               3        1       9890.07   \n",
       "99999                     4               2        1       9118.10   \n",
       "\n",
       "       Years of Credit History  Months since last delinquent  \\\n",
       "0                         17.2                           NaN   \n",
       "1                         21.1                           8.0   \n",
       "2                         14.9                          29.0   \n",
       "3                         12.0                           NaN   \n",
       "4                          6.1                           NaN   \n",
       "...                        ...                           ...   \n",
       "99994                     17.4                          18.0   \n",
       "99996                      9.4                          21.0   \n",
       "99997                     18.8                          18.0   \n",
       "99998                     15.0                           NaN   \n",
       "99999                     13.0                           NaN   \n",
       "\n",
       "       Number of Open Accounts  Number of Credit Problems  \\\n",
       "0                          6.0                        1.0   \n",
       "1                         35.0                        0.0   \n",
       "2                         18.0                        1.0   \n",
       "3                          9.0                        0.0   \n",
       "4                         15.0                        0.0   \n",
       "...                        ...                        ...   \n",
       "99994                      6.0                        0.0   \n",
       "99996                     22.0                        0.0   \n",
       "99997                     12.0                        1.0   \n",
       "99998                      8.0                        0.0   \n",
       "99999                      4.0                        1.0   \n",
       "\n",
       "       Current Credit Balance  Maximum Open Credit  Bankruptcies  Tax Liens  \n",
       "0                    228190.0             416746.0           1.0        0.0  \n",
       "1                    229976.0             850784.0           0.0        0.0  \n",
       "2                    297996.0             750090.0           0.0        0.0  \n",
       "3                    256329.0             386958.0           0.0        0.0  \n",
       "4                    253460.0             427174.0           0.0        0.0  \n",
       "...                       ...                  ...           ...        ...  \n",
       "99994                   456.0             259160.0           0.0        0.0  \n",
       "99996                153045.0             509234.0           0.0        0.0  \n",
       "99997                109554.0             537548.0           1.0        0.0  \n",
       "99998                404225.0             738254.0           0.0        0.0  \n",
       "99999                 45600.0              91014.0           1.0        0.0  \n",
       "\n",
       "[89785 rows x 17 columns]"
      ]
     },
     "execution_count": 15,
     "metadata": {},
     "output_type": "execute_result"
    }
   ],
   "source": [
    "df"
   ]
  },
  {
   "cell_type": "markdown",
   "metadata": {
    "id": "lVOk2LwWAOZs"
   },
   "source": [
    "**Split**"
   ]
  },
  {
   "cell_type": "code",
   "execution_count": 16,
   "metadata": {
    "colab": {
     "base_uri": "https://localhost:8080/"
    },
    "id": "QIKekXxJ95sp",
    "outputId": "243edbed-6334-4b03-a698-65c98f8d1e63"
   },
   "outputs": [
    {
     "name": "stdout",
     "output_type": "stream",
     "text": [
      "<class 'pandas.core.frame.DataFrame'>\n",
      "Index: 62849 entries, 60607 to 16057\n",
      "Data columns (total 17 columns):\n",
      " #   Column                        Non-Null Count  Dtype  \n",
      "---  ------                        --------------  -----  \n",
      " 0   Loan Status                   62849 non-null  int8   \n",
      " 1   Current Loan Amount           54777 non-null  float64\n",
      " 2   Term                          62849 non-null  int8   \n",
      " 3   Credit Score                  49396 non-null  float64\n",
      " 4   Annual Income                 49396 non-null  float64\n",
      " 5   Years in current job          62849 non-null  int8   \n",
      " 6   Home Ownership                62849 non-null  int8   \n",
      " 7   Purpose                       62849 non-null  int8   \n",
      " 8   Monthly Debt                  62849 non-null  float64\n",
      " 9   Years of Credit History       62849 non-null  float64\n",
      " 10  Months since last delinquent  29043 non-null  float64\n",
      " 11  Number of Open Accounts       62849 non-null  float64\n",
      " 12  Number of Credit Problems     62849 non-null  float64\n",
      " 13  Current Credit Balance        62849 non-null  float64\n",
      " 14  Maximum Open Credit           62394 non-null  float64\n",
      " 15  Bankruptcies                  62708 non-null  float64\n",
      " 16  Tax Liens                     62845 non-null  float64\n",
      "dtypes: float64(12), int8(5)\n",
      "memory usage: 6.5 MB\n"
     ]
    }
   ],
   "source": [
    "#split\n",
    "x_train, x_test = train_test_split(df, test_size=0.3, random_state=42)\n",
    "x_train.info()"
   ]
  },
  {
   "cell_type": "markdown",
   "metadata": {
    "id": "ZOTAg8MzAo57"
   },
   "source": [
    "**Missing Values**"
   ]
  },
  {
   "cell_type": "markdown",
   "metadata": {
    "id": "g3EAtfmFAtIe"
   },
   "source": [
    "Missing values in train set"
   ]
  },
  {
   "cell_type": "code",
   "execution_count": 17,
   "metadata": {
    "colab": {
     "base_uri": "https://localhost:8080/"
    },
    "id": "w6GBthGrAplo",
    "outputId": "3ea66476-97f4-4d39-b8e2-b1f53b4c7e5e"
   },
   "outputs": [
    {
     "name": "stdout",
     "output_type": "stream",
     "text": [
      "Loan Status                      0.000000\n",
      "Current Loan Amount             12.843482\n",
      "Term                             0.000000\n",
      "Credit Score                    21.405273\n",
      "Annual Income                   21.405273\n",
      "Years in current job             0.000000\n",
      "Home Ownership                   0.000000\n",
      "Purpose                          0.000000\n",
      "Monthly Debt                     0.000000\n",
      "Years of Credit History          0.000000\n",
      "Months since last delinquent    53.789241\n",
      "Number of Open Accounts          0.000000\n",
      "Number of Credit Problems        0.000000\n",
      "Current Credit Balance           0.000000\n",
      "Maximum Open Credit              0.723957\n",
      "Bankruptcies                     0.224347\n",
      "Tax Liens                        0.006364\n",
      "dtype: float64\n"
     ]
    }
   ],
   "source": [
    "percentage_missing = (x_train.isnull().sum() / len(x_train)) * 100\n",
    "print(percentage_missing)"
   ]
  },
  {
   "cell_type": "markdown",
   "metadata": {
    "id": "A0JWcrIuA0Ku"
   },
   "source": [
    "Missing values in test set"
   ]
  },
  {
   "cell_type": "code",
   "execution_count": 18,
   "metadata": {
    "colab": {
     "base_uri": "https://localhost:8080/"
    },
    "id": "fAtk-HUYAqgF",
    "outputId": "821a45b3-d2a1-4f9f-a528-295dd9a7a215"
   },
   "outputs": [
    {
     "name": "stdout",
     "output_type": "stream",
     "text": [
      "Loan Status                      0.000000\n",
      "Current Loan Amount             12.667063\n",
      "Term                             0.000000\n",
      "Credit Score                    21.164984\n",
      "Annual Income                   21.164984\n",
      "Years in current job             0.000000\n",
      "Home Ownership                   0.000000\n",
      "Purpose                          0.000000\n",
      "Monthly Debt                     0.000000\n",
      "Years of Credit History          0.000000\n",
      "Months since last delinquent    53.946391\n",
      "Number of Open Accounts          0.000000\n",
      "Number of Credit Problems        0.000000\n",
      "Current Credit Balance           0.000000\n",
      "Maximum Open Credit              0.649688\n",
      "Bankruptcies                     0.181913\n",
      "Tax Liens                        0.018563\n",
      "dtype: float64\n"
     ]
    }
   ],
   "source": [
    "percentage_missing = (x_test.isnull().sum() / len(x_test)) * 100\n",
    "print(percentage_missing)"
   ]
  },
  {
   "cell_type": "code",
   "execution_count": 19,
   "metadata": {
    "id": "bLAcbA6rAqce"
   },
   "outputs": [],
   "source": [
    "a=x_train['Credit Score'].median()\n",
    "x_train['Credit Score'].fillna(a, inplace=True)\n",
    "x_test['Credit Score'].fillna(a, inplace=True)\n",
    "\n",
    "b=x_train['Annual Income'].median()\n",
    "x_train['Annual Income'].fillna(b, inplace=True)\n",
    "x_test['Annual Income'].fillna(b, inplace=True)\n",
    "\n",
    "c=x_train['Current Loan Amount'].median()\n",
    "x_train['Current Loan Amount'].fillna(c, inplace=True)\n",
    "x_test['Current Loan Amount'].fillna(c, inplace=True)\n"
   ]
  },
  {
   "cell_type": "code",
   "execution_count": 20,
   "metadata": {
    "id": "G0rFXlFFAqZj"
   },
   "outputs": [],
   "source": [
    "x_train.dropna(subset=['Tax Liens','Maximum Open Credit','Bankruptcies'],inplace=True)\n",
    "x_test.dropna(subset=['Tax Liens','Maximum Open Credit','Bankruptcies'],inplace=True)"
   ]
  },
  {
   "cell_type": "markdown",
   "metadata": {
    "id": "eNqWzhZxBDn8"
   },
   "source": [
    "df_dropped(without Months since last delinquent)"
   ]
  },
  {
   "cell_type": "code",
   "execution_count": 21,
   "metadata": {
    "id": "_rRhvLGKAqWr"
   },
   "outputs": [],
   "source": [
    "x_train_dropped = x_train.drop(columns=['Months since last delinquent'], axis=1)\n",
    "x_test_dropped = x_test.drop(columns=['Months since last delinquent'], axis=1)"
   ]
  },
  {
   "cell_type": "code",
   "execution_count": 22,
   "metadata": {
    "colab": {
     "base_uri": "https://localhost:8080/"
    },
    "id": "c1L833r9AqT0",
    "outputId": "ba96617b-8983-47fa-df4c-81f6cf70eddb"
   },
   "outputs": [
    {
     "data": {
      "text/plain": [
       "Loan Status                  0.0\n",
       "Current Loan Amount          0.0\n",
       "Term                         0.0\n",
       "Credit Score                 0.0\n",
       "Annual Income                0.0\n",
       "Years in current job         0.0\n",
       "Home Ownership               0.0\n",
       "Purpose                      0.0\n",
       "Monthly Debt                 0.0\n",
       "Years of Credit History      0.0\n",
       "Number of Open Accounts      0.0\n",
       "Number of Credit Problems    0.0\n",
       "Current Credit Balance       0.0\n",
       "Maximum Open Credit          0.0\n",
       "Bankruptcies                 0.0\n",
       "Tax Liens                    0.0\n",
       "dtype: float64"
      ]
     },
     "execution_count": 22,
     "metadata": {},
     "output_type": "execute_result"
    }
   ],
   "source": [
    "(x_train_dropped.isnull().sum() / len(x_train)) * 100"
   ]
  },
  {
   "cell_type": "code",
   "execution_count": 23,
   "metadata": {
    "colab": {
     "base_uri": "https://localhost:8080/"
    },
    "id": "6TdrWRcAAqQs",
    "outputId": "1b3264d9-9402-4b08-daec-1734a302810a"
   },
   "outputs": [
    {
     "data": {
      "text/plain": [
       "Loan Status                  0.0\n",
       "Current Loan Amount          0.0\n",
       "Term                         0.0\n",
       "Credit Score                 0.0\n",
       "Annual Income                0.0\n",
       "Years in current job         0.0\n",
       "Home Ownership               0.0\n",
       "Purpose                      0.0\n",
       "Monthly Debt                 0.0\n",
       "Years of Credit History      0.0\n",
       "Number of Open Accounts      0.0\n",
       "Number of Credit Problems    0.0\n",
       "Current Credit Balance       0.0\n",
       "Maximum Open Credit          0.0\n",
       "Bankruptcies                 0.0\n",
       "Tax Liens                    0.0\n",
       "dtype: float64"
      ]
     },
     "execution_count": 23,
     "metadata": {},
     "output_type": "execute_result"
    }
   ],
   "source": [
    "(x_test_dropped.isnull().sum() / len(x_test)) * 100"
   ]
  },
  {
   "cell_type": "code",
   "execution_count": 24,
   "metadata": {
    "colab": {
     "base_uri": "https://localhost:8080/",
     "height": 495
    },
    "id": "9KLc7X3rAqNo",
    "outputId": "33367cf6-7ded-4abf-b004-9ac5debd383f"
   },
   "outputs": [
    {
     "data": {
      "text/html": [
       "<div>\n",
       "<style scoped>\n",
       "    .dataframe tbody tr th:only-of-type {\n",
       "        vertical-align: middle;\n",
       "    }\n",
       "\n",
       "    .dataframe tbody tr th {\n",
       "        vertical-align: top;\n",
       "    }\n",
       "\n",
       "    .dataframe thead th {\n",
       "        text-align: right;\n",
       "    }\n",
       "</style>\n",
       "<table border=\"1\" class=\"dataframe\">\n",
       "  <thead>\n",
       "    <tr style=\"text-align: right;\">\n",
       "      <th></th>\n",
       "      <th>Loan Status</th>\n",
       "      <th>Current Loan Amount</th>\n",
       "      <th>Term</th>\n",
       "      <th>Credit Score</th>\n",
       "      <th>Annual Income</th>\n",
       "      <th>Years in current job</th>\n",
       "      <th>Home Ownership</th>\n",
       "      <th>Purpose</th>\n",
       "      <th>Monthly Debt</th>\n",
       "      <th>Years of Credit History</th>\n",
       "      <th>Number of Open Accounts</th>\n",
       "      <th>Number of Credit Problems</th>\n",
       "      <th>Current Credit Balance</th>\n",
       "      <th>Maximum Open Credit</th>\n",
       "      <th>Bankruptcies</th>\n",
       "      <th>Tax Liens</th>\n",
       "    </tr>\n",
       "  </thead>\n",
       "  <tbody>\n",
       "    <tr>\n",
       "      <th>60607</th>\n",
       "      <td>1</td>\n",
       "      <td>266508.0</td>\n",
       "      <td>1</td>\n",
       "      <td>743.0</td>\n",
       "      <td>1545536.0</td>\n",
       "      <td>0</td>\n",
       "      <td>1</td>\n",
       "      <td>1</td>\n",
       "      <td>17644.73</td>\n",
       "      <td>12.1</td>\n",
       "      <td>9.0</td>\n",
       "      <td>2.0</td>\n",
       "      <td>229729.0</td>\n",
       "      <td>500940.0</td>\n",
       "      <td>2.0</td>\n",
       "      <td>0.0</td>\n",
       "    </tr>\n",
       "    <tr>\n",
       "      <th>72925</th>\n",
       "      <td>1</td>\n",
       "      <td>216502.0</td>\n",
       "      <td>1</td>\n",
       "      <td>714.0</td>\n",
       "      <td>2243748.0</td>\n",
       "      <td>1</td>\n",
       "      <td>1</td>\n",
       "      <td>1</td>\n",
       "      <td>34778.17</td>\n",
       "      <td>14.7</td>\n",
       "      <td>13.0</td>\n",
       "      <td>0.0</td>\n",
       "      <td>320986.0</td>\n",
       "      <td>884928.0</td>\n",
       "      <td>0.0</td>\n",
       "      <td>0.0</td>\n",
       "    </tr>\n",
       "    <tr>\n",
       "      <th>57800</th>\n",
       "      <td>0</td>\n",
       "      <td>110154.0</td>\n",
       "      <td>1</td>\n",
       "      <td>737.0</td>\n",
       "      <td>760988.0</td>\n",
       "      <td>3</td>\n",
       "      <td>1</td>\n",
       "      <td>2</td>\n",
       "      <td>17312.42</td>\n",
       "      <td>21.5</td>\n",
       "      <td>12.0</td>\n",
       "      <td>0.0</td>\n",
       "      <td>136743.0</td>\n",
       "      <td>257884.0</td>\n",
       "      <td>0.0</td>\n",
       "      <td>0.0</td>\n",
       "    </tr>\n",
       "    <tr>\n",
       "      <th>54211</th>\n",
       "      <td>0</td>\n",
       "      <td>132770.0</td>\n",
       "      <td>1</td>\n",
       "      <td>7070.0</td>\n",
       "      <td>764408.0</td>\n",
       "      <td>0</td>\n",
       "      <td>1</td>\n",
       "      <td>3</td>\n",
       "      <td>5408.16</td>\n",
       "      <td>18.0</td>\n",
       "      <td>16.0</td>\n",
       "      <td>0.0</td>\n",
       "      <td>57285.0</td>\n",
       "      <td>347314.0</td>\n",
       "      <td>0.0</td>\n",
       "      <td>0.0</td>\n",
       "    </tr>\n",
       "    <tr>\n",
       "      <th>3949</th>\n",
       "      <td>1</td>\n",
       "      <td>771386.0</td>\n",
       "      <td>0</td>\n",
       "      <td>635.0</td>\n",
       "      <td>1922458.0</td>\n",
       "      <td>1</td>\n",
       "      <td>3</td>\n",
       "      <td>1</td>\n",
       "      <td>41813.30</td>\n",
       "      <td>13.9</td>\n",
       "      <td>38.0</td>\n",
       "      <td>0.0</td>\n",
       "      <td>608095.0</td>\n",
       "      <td>2166450.0</td>\n",
       "      <td>0.0</td>\n",
       "      <td>0.0</td>\n",
       "    </tr>\n",
       "    <tr>\n",
       "      <th>...</th>\n",
       "      <td>...</td>\n",
       "      <td>...</td>\n",
       "      <td>...</td>\n",
       "      <td>...</td>\n",
       "      <td>...</td>\n",
       "      <td>...</td>\n",
       "      <td>...</td>\n",
       "      <td>...</td>\n",
       "      <td>...</td>\n",
       "      <td>...</td>\n",
       "      <td>...</td>\n",
       "      <td>...</td>\n",
       "      <td>...</td>\n",
       "      <td>...</td>\n",
       "      <td>...</td>\n",
       "      <td>...</td>\n",
       "    </tr>\n",
       "    <tr>\n",
       "      <th>6308</th>\n",
       "      <td>0</td>\n",
       "      <td>49346.0</td>\n",
       "      <td>1</td>\n",
       "      <td>746.0</td>\n",
       "      <td>1022827.0</td>\n",
       "      <td>2</td>\n",
       "      <td>1</td>\n",
       "      <td>2</td>\n",
       "      <td>17669.24</td>\n",
       "      <td>16.5</td>\n",
       "      <td>5.0</td>\n",
       "      <td>0.0</td>\n",
       "      <td>7505.0</td>\n",
       "      <td>43868.0</td>\n",
       "      <td>0.0</td>\n",
       "      <td>0.0</td>\n",
       "    </tr>\n",
       "    <tr>\n",
       "      <th>58333</th>\n",
       "      <td>0</td>\n",
       "      <td>250954.0</td>\n",
       "      <td>1</td>\n",
       "      <td>723.0</td>\n",
       "      <td>931969.0</td>\n",
       "      <td>3</td>\n",
       "      <td>3</td>\n",
       "      <td>1</td>\n",
       "      <td>17163.84</td>\n",
       "      <td>23.5</td>\n",
       "      <td>12.0</td>\n",
       "      <td>0.0</td>\n",
       "      <td>318497.0</td>\n",
       "      <td>477092.0</td>\n",
       "      <td>0.0</td>\n",
       "      <td>0.0</td>\n",
       "    </tr>\n",
       "    <tr>\n",
       "      <th>84089</th>\n",
       "      <td>1</td>\n",
       "      <td>189398.0</td>\n",
       "      <td>1</td>\n",
       "      <td>725.0</td>\n",
       "      <td>836912.0</td>\n",
       "      <td>1</td>\n",
       "      <td>2</td>\n",
       "      <td>2</td>\n",
       "      <td>11437.81</td>\n",
       "      <td>22.5</td>\n",
       "      <td>5.0</td>\n",
       "      <td>1.0</td>\n",
       "      <td>40356.0</td>\n",
       "      <td>149776.0</td>\n",
       "      <td>1.0</td>\n",
       "      <td>0.0</td>\n",
       "    </tr>\n",
       "    <tr>\n",
       "      <th>861</th>\n",
       "      <td>1</td>\n",
       "      <td>64856.0</td>\n",
       "      <td>1</td>\n",
       "      <td>722.0</td>\n",
       "      <td>1306991.0</td>\n",
       "      <td>0</td>\n",
       "      <td>1</td>\n",
       "      <td>2</td>\n",
       "      <td>15139.20</td>\n",
       "      <td>24.5</td>\n",
       "      <td>4.0</td>\n",
       "      <td>0.0</td>\n",
       "      <td>51813.0</td>\n",
       "      <td>69212.0</td>\n",
       "      <td>0.0</td>\n",
       "      <td>0.0</td>\n",
       "    </tr>\n",
       "    <tr>\n",
       "      <th>16057</th>\n",
       "      <td>1</td>\n",
       "      <td>336314.0</td>\n",
       "      <td>1</td>\n",
       "      <td>747.0</td>\n",
       "      <td>3969404.0</td>\n",
       "      <td>1</td>\n",
       "      <td>3</td>\n",
       "      <td>1</td>\n",
       "      <td>55240.79</td>\n",
       "      <td>13.5</td>\n",
       "      <td>14.0</td>\n",
       "      <td>0.0</td>\n",
       "      <td>124735.0</td>\n",
       "      <td>2367728.0</td>\n",
       "      <td>0.0</td>\n",
       "      <td>0.0</td>\n",
       "    </tr>\n",
       "  </tbody>\n",
       "</table>\n",
       "<p>62260 rows × 16 columns</p>\n",
       "</div>"
      ],
      "text/plain": [
       "       Loan Status  Current Loan Amount  Term  Credit Score  Annual Income  \\\n",
       "60607            1             266508.0     1         743.0      1545536.0   \n",
       "72925            1             216502.0     1         714.0      2243748.0   \n",
       "57800            0             110154.0     1         737.0       760988.0   \n",
       "54211            0             132770.0     1        7070.0       764408.0   \n",
       "3949             1             771386.0     0         635.0      1922458.0   \n",
       "...            ...                  ...   ...           ...            ...   \n",
       "6308             0              49346.0     1         746.0      1022827.0   \n",
       "58333            0             250954.0     1         723.0       931969.0   \n",
       "84089            1             189398.0     1         725.0       836912.0   \n",
       "861              1              64856.0     1         722.0      1306991.0   \n",
       "16057            1             336314.0     1         747.0      3969404.0   \n",
       "\n",
       "       Years in current job  Home Ownership  Purpose  Monthly Debt  \\\n",
       "60607                     0               1        1      17644.73   \n",
       "72925                     1               1        1      34778.17   \n",
       "57800                     3               1        2      17312.42   \n",
       "54211                     0               1        3       5408.16   \n",
       "3949                      1               3        1      41813.30   \n",
       "...                     ...             ...      ...           ...   \n",
       "6308                      2               1        2      17669.24   \n",
       "58333                     3               3        1      17163.84   \n",
       "84089                     1               2        2      11437.81   \n",
       "861                       0               1        2      15139.20   \n",
       "16057                     1               3        1      55240.79   \n",
       "\n",
       "       Years of Credit History  Number of Open Accounts  \\\n",
       "60607                     12.1                      9.0   \n",
       "72925                     14.7                     13.0   \n",
       "57800                     21.5                     12.0   \n",
       "54211                     18.0                     16.0   \n",
       "3949                      13.9                     38.0   \n",
       "...                        ...                      ...   \n",
       "6308                      16.5                      5.0   \n",
       "58333                     23.5                     12.0   \n",
       "84089                     22.5                      5.0   \n",
       "861                       24.5                      4.0   \n",
       "16057                     13.5                     14.0   \n",
       "\n",
       "       Number of Credit Problems  Current Credit Balance  Maximum Open Credit  \\\n",
       "60607                        2.0                229729.0             500940.0   \n",
       "72925                        0.0                320986.0             884928.0   \n",
       "57800                        0.0                136743.0             257884.0   \n",
       "54211                        0.0                 57285.0             347314.0   \n",
       "3949                         0.0                608095.0            2166450.0   \n",
       "...                          ...                     ...                  ...   \n",
       "6308                         0.0                  7505.0              43868.0   \n",
       "58333                        0.0                318497.0             477092.0   \n",
       "84089                        1.0                 40356.0             149776.0   \n",
       "861                          0.0                 51813.0              69212.0   \n",
       "16057                        0.0                124735.0            2367728.0   \n",
       "\n",
       "       Bankruptcies  Tax Liens  \n",
       "60607           2.0        0.0  \n",
       "72925           0.0        0.0  \n",
       "57800           0.0        0.0  \n",
       "54211           0.0        0.0  \n",
       "3949            0.0        0.0  \n",
       "...             ...        ...  \n",
       "6308            0.0        0.0  \n",
       "58333           0.0        0.0  \n",
       "84089           1.0        0.0  \n",
       "861             0.0        0.0  \n",
       "16057           0.0        0.0  \n",
       "\n",
       "[62260 rows x 16 columns]"
      ]
     },
     "execution_count": 24,
     "metadata": {},
     "output_type": "execute_result"
    }
   ],
   "source": [
    "x_train_dropped"
   ]
  },
  {
   "cell_type": "markdown",
   "metadata": {
    "id": "I-hRdnMqBlHk"
   },
   "source": [
    "**ADVANCED** **ANALYSIS**"
   ]
  },
  {
   "cell_type": "code",
   "execution_count": 25,
   "metadata": {
    "id": "XBMsn05HAqEb"
   },
   "outputs": [],
   "source": [
    "x_train=x_train_dropped.drop(columns = 'Loan Status')\n",
    "y_train=x_train_dropped['Loan Status']\n",
    "x_test=x_test_dropped.drop(columns = 'Loan Status')\n",
    "y_test=x_test_dropped['Loan Status']"
   ]
  },
  {
   "cell_type": "markdown",
   "metadata": {
    "id": "ujT73k2hB2O_"
   },
   "source": [
    "**1) Logistice Regression**"
   ]
  },
  {
   "cell_type": "code",
   "execution_count": 29,
   "metadata": {
    "id": "1ZnOpB-_BaBR"
   },
   "outputs": [],
   "source": [
    "import seaborn as sns\n",
    "from sklearn.linear_model import LogisticRegression\n",
    "from sklearn.metrics import confusion_matrix, accuracy_score, classification_report\n",
    "%matplotlib inline\n",
    "import warnings #to remove the warnings\n",
    "warnings.filterwarnings('ignore')"
   ]
  },
  {
   "cell_type": "code",
   "execution_count": null,
   "metadata": {
    "colab": {
     "base_uri": "https://localhost:8080/",
     "height": 74
    },
    "id": "aJbMLtddBZ79",
    "outputId": "f8c53031-9733-461e-e686-54267967a442"
   },
   "outputs": [
    {
     "data": {
      "text/html": [
       "<style>#sk-container-id-1 {color: black;background-color: white;}#sk-container-id-1 pre{padding: 0;}#sk-container-id-1 div.sk-toggleable {background-color: white;}#sk-container-id-1 label.sk-toggleable__label {cursor: pointer;display: block;width: 100%;margin-bottom: 0;padding: 0.3em;box-sizing: border-box;text-align: center;}#sk-container-id-1 label.sk-toggleable__label-arrow:before {content: \"▸\";float: left;margin-right: 0.25em;color: #696969;}#sk-container-id-1 label.sk-toggleable__label-arrow:hover:before {color: black;}#sk-container-id-1 div.sk-estimator:hover label.sk-toggleable__label-arrow:before {color: black;}#sk-container-id-1 div.sk-toggleable__content {max-height: 0;max-width: 0;overflow: hidden;text-align: left;background-color: #f0f8ff;}#sk-container-id-1 div.sk-toggleable__content pre {margin: 0.2em;color: black;border-radius: 0.25em;background-color: #f0f8ff;}#sk-container-id-1 input.sk-toggleable__control:checked~div.sk-toggleable__content {max-height: 200px;max-width: 100%;overflow: auto;}#sk-container-id-1 input.sk-toggleable__control:checked~label.sk-toggleable__label-arrow:before {content: \"▾\";}#sk-container-id-1 div.sk-estimator input.sk-toggleable__control:checked~label.sk-toggleable__label {background-color: #d4ebff;}#sk-container-id-1 div.sk-label input.sk-toggleable__control:checked~label.sk-toggleable__label {background-color: #d4ebff;}#sk-container-id-1 input.sk-hidden--visually {border: 0;clip: rect(1px 1px 1px 1px);clip: rect(1px, 1px, 1px, 1px);height: 1px;margin: -1px;overflow: hidden;padding: 0;position: absolute;width: 1px;}#sk-container-id-1 div.sk-estimator {font-family: monospace;background-color: #f0f8ff;border: 1px dotted black;border-radius: 0.25em;box-sizing: border-box;margin-bottom: 0.5em;}#sk-container-id-1 div.sk-estimator:hover {background-color: #d4ebff;}#sk-container-id-1 div.sk-parallel-item::after {content: \"\";width: 100%;border-bottom: 1px solid gray;flex-grow: 1;}#sk-container-id-1 div.sk-label:hover label.sk-toggleable__label {background-color: #d4ebff;}#sk-container-id-1 div.sk-serial::before {content: \"\";position: absolute;border-left: 1px solid gray;box-sizing: border-box;top: 0;bottom: 0;left: 50%;z-index: 0;}#sk-container-id-1 div.sk-serial {display: flex;flex-direction: column;align-items: center;background-color: white;padding-right: 0.2em;padding-left: 0.2em;position: relative;}#sk-container-id-1 div.sk-item {position: relative;z-index: 1;}#sk-container-id-1 div.sk-parallel {display: flex;align-items: stretch;justify-content: center;background-color: white;position: relative;}#sk-container-id-1 div.sk-item::before, #sk-container-id-1 div.sk-parallel-item::before {content: \"\";position: absolute;border-left: 1px solid gray;box-sizing: border-box;top: 0;bottom: 0;left: 50%;z-index: -1;}#sk-container-id-1 div.sk-parallel-item {display: flex;flex-direction: column;z-index: 1;position: relative;background-color: white;}#sk-container-id-1 div.sk-parallel-item:first-child::after {align-self: flex-end;width: 50%;}#sk-container-id-1 div.sk-parallel-item:last-child::after {align-self: flex-start;width: 50%;}#sk-container-id-1 div.sk-parallel-item:only-child::after {width: 0;}#sk-container-id-1 div.sk-dashed-wrapped {border: 1px dashed gray;margin: 0 0.4em 0.5em 0.4em;box-sizing: border-box;padding-bottom: 0.4em;background-color: white;}#sk-container-id-1 div.sk-label label {font-family: monospace;font-weight: bold;display: inline-block;line-height: 1.2em;}#sk-container-id-1 div.sk-label-container {text-align: center;}#sk-container-id-1 div.sk-container {/* jupyter's `normalize.less` sets `[hidden] { display: none; }` but bootstrap.min.css set `[hidden] { display: none !important; }` so we also need the `!important` here to be able to override the default hidden behavior on the sphinx rendered scikit-learn.org. See: https://github.com/scikit-learn/scikit-learn/issues/21755 */display: inline-block !important;position: relative;}#sk-container-id-1 div.sk-text-repr-fallback {display: none;}</style><div id=\"sk-container-id-1\" class=\"sk-top-container\"><div class=\"sk-text-repr-fallback\"><pre>LogisticRegression()</pre><b>In a Jupyter environment, please rerun this cell to show the HTML representation or trust the notebook. <br />On GitHub, the HTML representation is unable to render, please try loading this page with nbviewer.org.</b></div><div class=\"sk-container\" hidden><div class=\"sk-item\"><div class=\"sk-estimator sk-toggleable\"><input class=\"sk-toggleable__control sk-hidden--visually\" id=\"sk-estimator-id-1\" type=\"checkbox\" checked><label for=\"sk-estimator-id-1\" class=\"sk-toggleable__label sk-toggleable__label-arrow\">LogisticRegression</label><div class=\"sk-toggleable__content\"><pre>LogisticRegression()</pre></div></div></div></div></div>"
      ],
      "text/plain": [
       "LogisticRegression()"
      ]
     },
     "execution_count": 25,
     "metadata": {},
     "output_type": "execute_result"
    }
   ],
   "source": [
    "#Implementing Logistic Regression using sklearn\n",
    "modelLogistic = LogisticRegression()\n",
    "modelLogistic.fit(x_train,y_train)"
   ]
  },
  {
   "cell_type": "code",
   "execution_count": null,
   "metadata": {
    "id": "1IGr9Nf1BZ4o"
   },
   "outputs": [],
   "source": [
    "#Make prediction for the test data\n",
    "y_pred= modelLogistic.predict(x_test)"
   ]
  },
  {
   "cell_type": "code",
   "execution_count": null,
   "metadata": {
    "colab": {
     "base_uri": "https://localhost:8080/"
    },
    "id": "W2rK6mheBZ1S",
    "outputId": "c4830d46-6914-420a-a60c-53d7a6c2b44e"
   },
   "outputs": [
    {
     "data": {
      "text/plain": [
       "0.7947317699967876"
      ]
     },
     "execution_count": 27,
     "metadata": {},
     "output_type": "execute_result"
    }
   ],
   "source": [
    "# evaluate accuracy of train data\n",
    "modelLogistic.score(x_train, y_train)"
   ]
  },
  {
   "cell_type": "code",
   "execution_count": null,
   "metadata": {
    "colab": {
     "base_uri": "https://localhost:8080/"
    },
    "id": "UB7q6MZTCEwz",
    "outputId": "4ad3bb0f-655e-4895-b485-63916e8ea110"
   },
   "outputs": [
    {
     "data": {
      "text/plain": [
       "0.7926258656185663"
      ]
     },
     "execution_count": 28,
     "metadata": {},
     "output_type": "execute_result"
    }
   ],
   "source": [
    "# evaluate accuracy of test data\n",
    "modelLogistic.score(x_test, y_test)"
   ]
  },
  {
   "cell_type": "code",
   "execution_count": null,
   "metadata": {
    "colab": {
     "base_uri": "https://localhost:8080/"
    },
    "id": "YgblzHRPCEth",
    "outputId": "74ee2309-093d-4ba7-a529-077845096315"
   },
   "outputs": [
    {
     "name": "stdout",
     "output_type": "stream",
     "text": [
      "              precision    recall  f1-score   support\n",
      "\n",
      "           0       0.92      0.20      0.33      6786\n",
      "           1       0.79      0.99      0.88     19929\n",
      "\n",
      "    accuracy                           0.79     26715\n",
      "   macro avg       0.85      0.60      0.60     26715\n",
      "weighted avg       0.82      0.79      0.74     26715\n",
      "\n"
     ]
    }
   ],
   "source": [
    "print(classification_report(y_test, y_pred))"
   ]
  },
  {
   "cell_type": "code",
   "execution_count": null,
   "metadata": {
    "colab": {
     "base_uri": "https://localhost:8080/"
    },
    "id": "9neg6OArCEm6",
    "outputId": "865a089f-e562-46e3-eb9a-156dacd7bec7"
   },
   "outputs": [
    {
     "name": "stdout",
     "output_type": "stream",
     "text": [
      "[[ 1372  5414]\n",
      " [  126 19803]]\n"
     ]
    }
   ],
   "source": [
    "#Creating confusion matrix\n",
    "ConfusionMatrix = confusion_matrix(y_test, y_pred)\n",
    "print(ConfusionMatrix)"
   ]
  },
  {
   "cell_type": "code",
   "execution_count": null,
   "metadata": {
    "colab": {
     "base_uri": "https://localhost:8080/",
     "height": 472
    },
    "id": "r0yf0fhOCEic",
    "outputId": "255a0f6b-3db3-477b-bb9e-7120764156c5"
   },
   "outputs": [
    {
     "data": {
      "image/png": "[encoded data removed]",
      "text/plain": [
       "<Figure size 640x480 with 2 Axes>"
      ]
     },
     "metadata": {},
     "output_type": "display_data"
    }
   ],
   "source": [
    "ax = sns.heatmap(ConfusionMatrix , annot=True, cmap='BuPu')  #BuPu=colour\n",
    "ax.set_title('Confusion Matrix for Loan Status');\n",
    "ax.set_xlabel('Prediction made for Loan Status')\n",
    "ax.set_ylabel('Actual status of Loan Status ');\n",
    "## Ticket labels – List must be in alphabetical order\n",
    "ax.xaxis.set_ticklabels(['No','Yes'])\n",
    "ax.yaxis.set_ticklabels(['No','Yes'])\n",
    "## Display the visualization of the Confusion Matrix.\n",
    "plt.show()\n",
    "\n",
    "# Confusion matrix : True negative   False negative\n",
    "#                    False positive, True positive"
   ]
  },
  {
   "cell_type": "markdown",
   "metadata": {
    "id": "-28ymLitC2Z8"
   },
   "source": [
    "Parameter tunning - logistic reg"
   ]
  },
  {
   "cell_type": "code",
   "execution_count": null,
   "metadata": {
    "colab": {
     "base_uri": "https://localhost:8080/"
    },
    "id": "r0TF3Q37C3Fh",
    "outputId": "a5ba06c5-fb90-4808-ae2a-f828fe6d1cb2"
   },
   "outputs": [
    {
     "name": "stdout",
     "output_type": "stream",
     "text": [
      "Best Parameters: {'C': 0.001, 'max_iter': 100, 'penalty': 'l2'}\n"
     ]
    }
   ],
   "source": [
    "from sklearn.model_selection import GridSearchCV\n",
    "param_grid = {\n",
    "    'penalty': ['l1', 'l2','elasticnet'],    # l1=Lasso, l2=ridge\n",
    "    'C': [ 0.001,0.01,0.1, 1, 10,20],          # inverse of regularization strength. Smaller values specify stronger regularization\n",
    "    'max_iter': [50,100,150]            # maximum number of iterations taken for the solver to converge\n",
    "    #'solver': ['liblinear', 'saga']          # used to optimize the logistic regression function\n",
    "}\n",
    "grid_search = GridSearchCV(estimator=modelLogistic, param_grid=param_grid, cv=5, scoring='accuracy')\n",
    "grid_search.fit(x_train, y_train)\n",
    "best_params = grid_search.best_params_\n",
    "print(\"Best Parameters:\", best_params)"
   ]
  },
  {
   "cell_type": "markdown",
   "metadata": {
    "id": "3u2oz31rDPNE"
   },
   "source": [
    "**through hyper-parameter tuning, it gives Ridge as optimal**"
   ]
  },
  {
   "cell_type": "code",
   "execution_count": null,
   "metadata": {
    "colab": {
     "base_uri": "https://localhost:8080/"
    },
    "id": "mhwCt64IC4Ji",
    "outputId": "52720633-67eb-4fb0-9378-ed3691adc3b1"
   },
   "outputs": [
    {
     "name": "stdout",
     "output_type": "stream",
     "text": [
      "Accuracy: 0.7926258656185663\n",
      "Classification Report:\n",
      "              precision    recall  f1-score   support\n",
      "\n",
      "           0       0.92      0.20      0.33      6786\n",
      "           1       0.79      0.99      0.88     19929\n",
      "\n",
      "    accuracy                           0.79     26715\n",
      "   macro avg       0.85      0.60      0.60     26715\n",
      "weighted avg       0.82      0.79      0.74     26715\n",
      "\n"
     ]
    }
   ],
   "source": [
    "best_model = grid_search.best_estimator_\n",
    "y_pred1 = best_model.predict(x_test)\n",
    "accuracy = accuracy_score(y_test, y_pred1)\n",
    "print(\"Accuracy:\", accuracy)\n",
    "print(\"Classification Report:\")\n",
    "print(classification_report(y_test, y_pred1))"
   ]
  },
  {
   "cell_type": "code",
   "execution_count": null,
   "metadata": {
    "colab": {
     "base_uri": "https://localhost:8080/"
    },
    "id": "abwrFijlC4GM",
    "outputId": "31397f6f-dd5a-4731-a5c3-ff798021b5ae"
   },
   "outputs": [
    {
     "name": "stdout",
     "output_type": "stream",
     "text": [
      "[[ 1372  5414]\n",
      " [  126 19803]]\n"
     ]
    }
   ],
   "source": [
    "#Creating confusion matrix\n",
    "ConfusionMatrix = confusion_matrix(y_test, y_pred1)\n",
    "print(ConfusionMatrix)"
   ]
  },
  {
   "cell_type": "markdown",
   "metadata": {
    "id": "qauGvI5DDdqW"
   },
   "source": [
    "There is no any improvement through prameter tuning"
   ]
  },
  {
   "cell_type": "markdown",
   "metadata": {
    "id": "L-eYteQFFoDE"
   },
   "source": [
    "**Decision tree**"
   ]
  },
  {
   "cell_type": "code",
   "execution_count": null,
   "metadata": {
    "colab": {
     "base_uri": "https://localhost:8080/",
     "height": 74
    },
    "id": "ipbGTuNCC4C-",
    "outputId": "ad8405c6-768d-496a-8fcd-ba3e533bb9c0"
   },
   "outputs": [
    {
     "data": {
      "text/html": [
       "<style>#sk-container-id-2 {color: black;background-color: white;}#sk-container-id-2 pre{padding: 0;}#sk-container-id-2 div.sk-toggleable {background-color: white;}#sk-container-id-2 label.sk-toggleable__label {cursor: pointer;display: block;width: 100%;margin-bottom: 0;padding: 0.3em;box-sizing: border-box;text-align: center;}#sk-container-id-2 label.sk-toggleable__label-arrow:before {content: \"▸\";float: left;margin-right: 0.25em;color: #696969;}#sk-container-id-2 label.sk-toggleable__label-arrow:hover:before {color: black;}#sk-container-id-2 div.sk-estimator:hover label.sk-toggleable__label-arrow:before {color: black;}#sk-container-id-2 div.sk-toggleable__content {max-height: 0;max-width: 0;overflow: hidden;text-align: left;background-color: #f0f8ff;}#sk-container-id-2 div.sk-toggleable__content pre {margin: 0.2em;color: black;border-radius: 0.25em;background-color: #f0f8ff;}#sk-container-id-2 input.sk-toggleable__control:checked~div.sk-toggleable__content {max-height: 200px;max-width: 100%;overflow: auto;}#sk-container-id-2 input.sk-toggleable__control:checked~label.sk-toggleable__label-arrow:before {content: \"▾\";}#sk-container-id-2 div.sk-estimator input.sk-toggleable__control:checked~label.sk-toggleable__label {background-color: #d4ebff;}#sk-container-id-2 div.sk-label input.sk-toggleable__control:checked~label.sk-toggleable__label {background-color: #d4ebff;}#sk-container-id-2 input.sk-hidden--visually {border: 0;clip: rect(1px 1px 1px 1px);clip: rect(1px, 1px, 1px, 1px);height: 1px;margin: -1px;overflow: hidden;padding: 0;position: absolute;width: 1px;}#sk-container-id-2 div.sk-estimator {font-family: monospace;background-color: #f0f8ff;border: 1px dotted black;border-radius: 0.25em;box-sizing: border-box;margin-bottom: 0.5em;}#sk-container-id-2 div.sk-estimator:hover {background-color: #d4ebff;}#sk-container-id-2 div.sk-parallel-item::after {content: \"\";width: 100%;border-bottom: 1px solid gray;flex-grow: 1;}#sk-container-id-2 div.sk-label:hover label.sk-toggleable__label {background-color: #d4ebff;}#sk-container-id-2 div.sk-serial::before {content: \"\";position: absolute;border-left: 1px solid gray;box-sizing: border-box;top: 0;bottom: 0;left: 50%;z-index: 0;}#sk-container-id-2 div.sk-serial {display: flex;flex-direction: column;align-items: center;background-color: white;padding-right: 0.2em;padding-left: 0.2em;position: relative;}#sk-container-id-2 div.sk-item {position: relative;z-index: 1;}#sk-container-id-2 div.sk-parallel {display: flex;align-items: stretch;justify-content: center;background-color: white;position: relative;}#sk-container-id-2 div.sk-item::before, #sk-container-id-2 div.sk-parallel-item::before {content: \"\";position: absolute;border-left: 1px solid gray;box-sizing: border-box;top: 0;bottom: 0;left: 50%;z-index: -1;}#sk-container-id-2 div.sk-parallel-item {display: flex;flex-direction: column;z-index: 1;position: relative;background-color: white;}#sk-container-id-2 div.sk-parallel-item:first-child::after {align-self: flex-end;width: 50%;}#sk-container-id-2 div.sk-parallel-item:last-child::after {align-self: flex-start;width: 50%;}#sk-container-id-2 div.sk-parallel-item:only-child::after {width: 0;}#sk-container-id-2 div.sk-dashed-wrapped {border: 1px dashed gray;margin: 0 0.4em 0.5em 0.4em;box-sizing: border-box;padding-bottom: 0.4em;background-color: white;}#sk-container-id-2 div.sk-label label {font-family: monospace;font-weight: bold;display: inline-block;line-height: 1.2em;}#sk-container-id-2 div.sk-label-container {text-align: center;}#sk-container-id-2 div.sk-container {/* jupyter's `normalize.less` sets `[hidden] { display: none; }` but bootstrap.min.css set `[hidden] { display: none !important; }` so we also need the `!important` here to be able to override the default hidden behavior on the sphinx rendered scikit-learn.org. See: https://github.com/scikit-learn/scikit-learn/issues/21755 */display: inline-block !important;position: relative;}#sk-container-id-2 div.sk-text-repr-fallback {display: none;}</style><div id=\"sk-container-id-2\" class=\"sk-top-container\"><div class=\"sk-text-repr-fallback\"><pre>DecisionTreeClassifier(max_depth=3, max_features=4)</pre><b>In a Jupyter environment, please rerun this cell to show the HTML representation or trust the notebook. <br />On GitHub, the HTML representation is unable to render, please try loading this page with nbviewer.org.</b></div><div class=\"sk-container\" hidden><div class=\"sk-item\"><div class=\"sk-estimator sk-toggleable\"><input class=\"sk-toggleable__control sk-hidden--visually\" id=\"sk-estimator-id-2\" type=\"checkbox\" checked><label for=\"sk-estimator-id-2\" class=\"sk-toggleable__label sk-toggleable__label-arrow\">DecisionTreeClassifier</label><div class=\"sk-toggleable__content\"><pre>DecisionTreeClassifier(max_depth=3, max_features=4)</pre></div></div></div></div></div>"
      ],
      "text/plain": [
       "DecisionTreeClassifier(max_depth=3, max_features=4)"
      ]
     },
     "execution_count": 35,
     "metadata": {},
     "output_type": "execute_result"
    }
   ],
   "source": [
    "from sklearn.tree import DecisionTreeClassifier\n",
    "dt = DecisionTreeClassifier(max_depth= 3 , max_features= 4)\n",
    "dt.fit(x_train , y_train)"
   ]
  },
  {
   "cell_type": "code",
   "execution_count": null,
   "metadata": {
    "id": "U6AaAC1WJcHS"
   },
   "outputs": [],
   "source": [
    "#Make prediction for the test data\n",
    "y_pred2= dt.predict(x_test)"
   ]
  },
  {
   "cell_type": "code",
   "execution_count": null,
   "metadata": {
    "colab": {
     "base_uri": "https://localhost:8080/"
    },
    "id": "InDE2ij6C4AD",
    "outputId": "6c2a3f55-e5e4-4bd7-d118-f2d4e0f4fd6a"
   },
   "outputs": [
    {
     "name": "stdout",
     "output_type": "stream",
     "text": [
      "0.7510279473177\n",
      "0.7490174059517125\n"
     ]
    }
   ],
   "source": [
    "# evaluate accuracy of train data\n",
    "print (dt.score(x_train , y_train))\n",
    "# evaluate accuracy of test data\n",
    "print (dt.score(x_test , y_test))"
   ]
  },
  {
   "cell_type": "code",
   "execution_count": null,
   "metadata": {
    "colab": {
     "base_uri": "https://localhost:8080/",
     "height": 873
    },
    "id": "xVhyzXCLC387",
    "outputId": "daadf4cf-3123-4ed0-d14d-3b0bb2e013cc"
   },
   "outputs": [
    {
     "data": {
      "text/plain": [
       "[Text(0.5, 0.875, 'x[4] <= 3.5\\ngini = 0.377\\nsamples = 62260\\nvalue = [15664, 46596]'),\n",
       " Text(0.25, 0.625, 'x[1] <= 0.5\\ngini = 0.373\\nsamples = 59641\\nvalue = [14792, 44849]'),\n",
       " Text(0.125, 0.375, 'x[5] <= 2.5\\ngini = 0.456\\nsamples = 16120\\nvalue = [5664, 10456]'),\n",
       " Text(0.0625, 0.125, 'gini = 0.438\\nsamples = 10695\\nvalue = [3463, 7232]'),\n",
       " Text(0.1875, 0.125, 'gini = 0.482\\nsamples = 5425\\nvalue = [2201, 3224]'),\n",
       " Text(0.375, 0.375, 'x[3] <= 1216484.5\\ngini = 0.331\\nsamples = 43521\\nvalue = [9128, 34393]'),\n",
       " Text(0.3125, 0.125, 'gini = 0.361\\nsamples = 28138\\nvalue = [6647, 21491]'),\n",
       " Text(0.4375, 0.125, 'gini = 0.271\\nsamples = 15383\\nvalue = [2481, 12902]'),\n",
       " Text(0.75, 0.625, 'x[0] <= 257565.0\\ngini = 0.444\\nsamples = 2619\\nvalue = [872, 1747]'),\n",
       " Text(0.625, 0.375, 'x[2] <= 3450.5\\ngini = 0.473\\nsamples = 1489\\nvalue = [573, 916]'),\n",
       " Text(0.5625, 0.125, 'gini = 0.45\\nsamples = 1393\\nvalue = [477, 916]'),\n",
       " Text(0.6875, 0.125, 'gini = 0.0\\nsamples = 96\\nvalue = [96, 0]'),\n",
       " Text(0.875, 0.375, 'x[2] <= 3350.5\\ngini = 0.389\\nsamples = 1130\\nvalue = [299, 831]'),\n",
       " Text(0.8125, 0.125, 'gini = 0.341\\nsamples = 1063\\nvalue = [232, 831]'),\n",
       " Text(0.9375, 0.125, 'gini = 0.0\\nsamples = 67\\nvalue = [67, 0]')]"
      ]
     },
     "execution_count": 40,
     "metadata": {},
     "output_type": "execute_result"
    },
    {
     "data": {
      "image/png": "[encoded data removed]",
      "text/plain": [
       "<Figure size 1500x1200 with 1 Axes>"
      ]
     },
     "metadata": {},
     "output_type": "display_data"
    }
   ],
   "source": [
    "from sklearn import tree\n",
    "fig = plt.figure(figsize= (15,12))\n",
    "tree.plot_tree(dt , filled=True)"
   ]
  },
  {
   "cell_type": "code",
   "execution_count": null,
   "metadata": {
    "colab": {
     "base_uri": "https://localhost:8080/"
    },
    "id": "adWtOg84C30N",
    "outputId": "f0453ea0-3658-4129-9e56-21041679e87c"
   },
   "outputs": [
    {
     "name": "stdout",
     "output_type": "stream",
     "text": [
      "[[   81  6705]\n",
      " [    0 19929]]\n"
     ]
    }
   ],
   "source": [
    "#Creating confusion matrix\n",
    "ConfusionMatrix = confusion_matrix(y_test, y_pred2)\n",
    "print(ConfusionMatrix)"
   ]
  },
  {
   "cell_type": "markdown",
   "metadata": {
    "id": "kiRP36s_J8Vv"
   },
   "source": [
    "**3) Random forest classifier**\n",
    "\n"
   ]
  },
  {
   "cell_type": "code",
   "execution_count": 26,
   "metadata": {
    "colab": {
     "base_uri": "https://localhost:8080/",
     "height": 74
    },
    "id": "B3tBe7U1C3w0",
    "outputId": "f149e3a5-b3d1-4663-fef8-e22634b2a952"
   },
   "outputs": [
    {
     "data": {
      "text/html": [
       "<style>#sk-container-id-1 {color: black;}#sk-container-id-1 pre{padding: 0;}#sk-container-id-1 div.sk-toggleable {background-color: white;}#sk-container-id-1 label.sk-toggleable__label {cursor: pointer;display: block;width: 100%;margin-bottom: 0;padding: 0.3em;box-sizing: border-box;text-align: center;}#sk-container-id-1 label.sk-toggleable__label-arrow:before {content: \"▸\";float: left;margin-right: 0.25em;color: #696969;}#sk-container-id-1 label.sk-toggleable__label-arrow:hover:before {color: black;}#sk-container-id-1 div.sk-estimator:hover label.sk-toggleable__label-arrow:before {color: black;}#sk-container-id-1 div.sk-toggleable__content {max-height: 0;max-width: 0;overflow: hidden;text-align: left;background-color: #f0f8ff;}#sk-container-id-1 div.sk-toggleable__content pre {margin: 0.2em;color: black;border-radius: 0.25em;background-color: #f0f8ff;}#sk-container-id-1 input.sk-toggleable__control:checked~div.sk-toggleable__content {max-height: 200px;max-width: 100%;overflow: auto;}#sk-container-id-1 input.sk-toggleable__control:checked~label.sk-toggleable__label-arrow:before {content: \"▾\";}#sk-container-id-1 div.sk-estimator input.sk-toggleable__control:checked~label.sk-toggleable__label {background-color: #d4ebff;}#sk-container-id-1 div.sk-label input.sk-toggleable__control:checked~label.sk-toggleable__label {background-color: #d4ebff;}#sk-container-id-1 input.sk-hidden--visually {border: 0;clip: rect(1px 1px 1px 1px);clip: rect(1px, 1px, 1px, 1px);height: 1px;margin: -1px;overflow: hidden;padding: 0;position: absolute;width: 1px;}#sk-container-id-1 div.sk-estimator {font-family: monospace;background-color: #f0f8ff;border: 1px dotted black;border-radius: 0.25em;box-sizing: border-box;margin-bottom: 0.5em;}#sk-container-id-1 div.sk-estimator:hover {background-color: #d4ebff;}#sk-container-id-1 div.sk-parallel-item::after {content: \"\";width: 100%;border-bottom: 1px solid gray;flex-grow: 1;}#sk-container-id-1 div.sk-label:hover label.sk-toggleable__label {background-color: #d4ebff;}#sk-container-id-1 div.sk-serial::before {content: \"\";position: absolute;border-left: 1px solid gray;box-sizing: border-box;top: 0;bottom: 0;left: 50%;z-index: 0;}#sk-container-id-1 div.sk-serial {display: flex;flex-direction: column;align-items: center;background-color: white;padding-right: 0.2em;padding-left: 0.2em;position: relative;}#sk-container-id-1 div.sk-item {position: relative;z-index: 1;}#sk-container-id-1 div.sk-parallel {display: flex;align-items: stretch;justify-content: center;background-color: white;position: relative;}#sk-container-id-1 div.sk-item::before, #sk-container-id-1 div.sk-parallel-item::before {content: \"\";position: absolute;border-left: 1px solid gray;box-sizing: border-box;top: 0;bottom: 0;left: 50%;z-index: -1;}#sk-container-id-1 div.sk-parallel-item {display: flex;flex-direction: column;z-index: 1;position: relative;background-color: white;}#sk-container-id-1 div.sk-parallel-item:first-child::after {align-self: flex-end;width: 50%;}#sk-container-id-1 div.sk-parallel-item:last-child::after {align-self: flex-start;width: 50%;}#sk-container-id-1 div.sk-parallel-item:only-child::after {width: 0;}#sk-container-id-1 div.sk-dashed-wrapped {border: 1px dashed gray;margin: 0 0.4em 0.5em 0.4em;box-sizing: border-box;padding-bottom: 0.4em;background-color: white;}#sk-container-id-1 div.sk-label label {font-family: monospace;font-weight: bold;display: inline-block;line-height: 1.2em;}#sk-container-id-1 div.sk-label-container {text-align: center;}#sk-container-id-1 div.sk-container {/* jupyter's `normalize.less` sets `[hidden] { display: none; }` but bootstrap.min.css set `[hidden] { display: none !important; }` so we also need the `!important` here to be able to override the default hidden behavior on the sphinx rendered scikit-learn.org. See: https://github.com/scikit-learn/scikit-learn/issues/21755 */display: inline-block !important;position: relative;}#sk-container-id-1 div.sk-text-repr-fallback {display: none;}</style><div id=\"sk-container-id-1\" class=\"sk-top-container\"><div class=\"sk-text-repr-fallback\"><pre>RandomForestClassifier(max_depth=8, min_samples_split=10, random_state=5)</pre><b>In a Jupyter environment, please rerun this cell to show the HTML representation or trust the notebook. <br />On GitHub, the HTML representation is unable to render, please try loading this page with nbviewer.org.</b></div><div class=\"sk-container\" hidden><div class=\"sk-item\"><div class=\"sk-estimator sk-toggleable\"><input class=\"sk-toggleable__control sk-hidden--visually\" id=\"sk-estimator-id-1\" type=\"checkbox\" checked><label for=\"sk-estimator-id-1\" class=\"sk-toggleable__label sk-toggleable__label-arrow\">RandomForestClassifier</label><div class=\"sk-toggleable__content\"><pre>RandomForestClassifier(max_depth=8, min_samples_split=10, random_state=5)</pre></div></div></div></div></div>"
      ],
      "text/plain": [
       "RandomForestClassifier(max_depth=8, min_samples_split=10, random_state=5)"
      ]
     },
     "execution_count": 26,
     "metadata": {},
     "output_type": "execute_result"
    }
   ],
   "source": [
    "from sklearn.ensemble import RandomForestClassifier\n",
    "rf = RandomForestClassifier(criterion=\"gini\",\n",
    "                             max_depth=8,\n",
    "                             min_samples_split=10,\n",
    "                             random_state=5)\n",
    "rf.fit(x_train, y_train)"
   ]
  },
  {
   "cell_type": "code",
   "execution_count": 27,
   "metadata": {
    "colab": {
     "base_uri": "https://localhost:8080/"
    },
    "id": "BB3FdCpRKB9S",
    "outputId": "f6cfd51e-f6fe-48c4-f82e-d8982609e628"
   },
   "outputs": [
    {
     "data": {
      "text/plain": [
       "array([1, 1, 1, ..., 0, 1, 1], dtype=int8)"
      ]
     },
     "execution_count": 27,
     "metadata": {},
     "output_type": "execute_result"
    }
   ],
   "source": [
    "y_pred3 = rf.predict(x_test)\n",
    "y_pred3"
   ]
  },
  {
   "cell_type": "code",
   "execution_count": 30,
   "metadata": {
    "colab": {
     "base_uri": "https://localhost:8080/"
    },
    "id": "kQcPbxw2KC4c",
    "outputId": "533dafaf-4bb6-4919-ce1f-dce0dc0a191d"
   },
   "outputs": [
    {
     "name": "stdout",
     "output_type": "stream",
     "text": [
      "[[ 1358  5428]\n",
      " [    0 19929]]\n"
     ]
    }
   ],
   "source": [
    "#Creating confusion matrix\n",
    "ConfusionMatrix = confusion_matrix(y_test, y_pred3)\n",
    "print(ConfusionMatrix)"
   ]
  },
  {
   "cell_type": "code",
   "execution_count": 31,
   "metadata": {
    "colab": {
     "base_uri": "https://localhost:8080/"
    },
    "id": "Q6QWzY25KC07",
    "outputId": "155e46e7-dae0-4b2d-f449-b2506a6bbed2"
   },
   "outputs": [
    {
     "data": {
      "text/plain": [
       "0.7968182668912596"
      ]
     },
     "execution_count": 31,
     "metadata": {},
     "output_type": "execute_result"
    }
   ],
   "source": [
    "# overall accuracy of the model\n",
    "accuracy_score(y_test,y_pred3)"
   ]
  },
  {
   "cell_type": "code",
   "execution_count": 32,
   "metadata": {},
   "outputs": [],
   "source": [
    "import pickle\n",
    "filename = 'loan_pred_model.sav'\n",
    "pickle.dump(rf, open(filename, 'wb'))"
   ]
  },
  {
   "cell_type": "code",
   "execution_count": 33,
   "metadata": {},
   "outputs": [],
   "source": [
    "loaded_model = pickle.load(open('loan_pred_model.sav', 'rb'))\n"
   ]
  },
  {
   "cell_type": "code",
   "execution_count": null,
   "metadata": {
    "colab": {
     "base_uri": "https://localhost:8080/"
    },
    "id": "uwb0scRUKCxp",
    "outputId": "14bbd1c8-f486-4b1f-bede-05fbf92aae27"
   },
   "outputs": [
    {
     "name": "stdout",
     "output_type": "stream",
     "text": [
      "              precision    recall  f1-score   support\n",
      "\n",
      "           0       0.20      1.00      0.33      1358\n",
      "           1       1.00      0.79      0.88     25357\n",
      "\n",
      "    accuracy                           0.80     26715\n",
      "   macro avg       0.60      0.89      0.61     26715\n",
      "weighted avg       0.96      0.80      0.85     26715\n",
      "\n"
     ]
    }
   ],
   "source": [
    "from sklearn.metrics import classification_report\n",
    "print(classification_report(y_pred3,y_test))"
   ]
  },
  {
   "cell_type": "code",
   "execution_count": null,
   "metadata": {
    "colab": {
     "base_uri": "https://localhost:8080/",
     "height": 472
    },
    "id": "CXMS_GNtKCuO",
    "outputId": "745ecac1-d0df-4632-965d-8ba617c10b07"
   },
   "outputs": [
    {
     "data": {
      "image/png": "[encoded data removed]",
      "text/plain": [
       "<Figure size 640x480 with 1 Axes>"
      ]
     },
     "metadata": {},
     "output_type": "display_data"
    }
   ],
   "source": [
    "# feature importance\n",
    "features = x_train.columns\n",
    "importances=rf.feature_importances_\n",
    "indices=np.argsort(importances)\n",
    "\n",
    "plt.title('Feature Importances')\n",
    "plt.barh(range(len(indices)),importances[indices],color=\"b\",align='center')\n",
    "plt.yticks(range(len(indices)),[features[i] for i in indices])\n",
    "plt.xlabel('Relative Importance')\n",
    "plt.show()"
   ]
  },
  {
   "cell_type": "markdown",
   "metadata": {
    "id": "utW0nAoFKZpG"
   },
   "source": [
    "Parameter-tuning"
   ]
  },
  {
   "cell_type": "code",
   "execution_count": null,
   "metadata": {
    "colab": {
     "base_uri": "https://localhost:8080/",
     "height": 356
    },
    "id": "_Dq7-HsiKCqA",
    "outputId": "2d070dd9-fce9-4008-b341-5f3ac8665263"
   },
   "outputs": [
    {
     "ename": "KeyboardInterrupt",
     "evalue": "",
     "output_type": "error",
     "traceback": [
      "\u001b[0;31m---------------------------------------------------------------------------\u001b[0m",
      "\u001b[0;31mKeyboardInterrupt\u001b[0m                         Traceback (most recent call last)",
      "\u001b[0;32m<ipython-input-48-776a5e4247b0>\u001b[0m in \u001b[0;36m<cell line: 10>\u001b[0;34m()\u001b[0m\n\u001b[1;32m      8\u001b[0m grid_search = GridSearchCV(RandomForestClassifier(),\n\u001b[1;32m      9\u001b[0m                            param_grid=param_grid)\n\u001b[0;32m---> 10\u001b[0;31m \u001b[0mgrid_search\u001b[0m\u001b[0;34m.\u001b[0m\u001b[0mfit\u001b[0m\u001b[0;34m(\u001b[0m\u001b[0mx_train\u001b[0m\u001b[0;34m,\u001b[0m \u001b[0my_train\u001b[0m\u001b[0;34m)\u001b[0m\u001b[0;34m\u001b[0m\u001b[0;34m\u001b[0m\u001b[0m\n\u001b[0m\u001b[1;32m     11\u001b[0m \u001b[0mprint\u001b[0m\u001b[0;34m(\u001b[0m\u001b[0mgrid_search\u001b[0m\u001b[0;34m.\u001b[0m\u001b[0mbest_estimator_\u001b[0m\u001b[0;34m)\u001b[0m\u001b[0;34m\u001b[0m\u001b[0;34m\u001b[0m\u001b[0m\n",
      "\u001b[0;32m/usr/local/lib/python3.10/dist-packages/sklearn/model_selection/_search.py\u001b[0m in \u001b[0;36mfit\u001b[0;34m(self, X, y, groups, **fit_params)\u001b[0m\n\u001b[1;32m    872\u001b[0m                 \u001b[0;32mreturn\u001b[0m \u001b[0mresults\u001b[0m\u001b[0;34m\u001b[0m\u001b[0;34m\u001b[0m\u001b[0m\n\u001b[1;32m    873\u001b[0m \u001b[0;34m\u001b[0m\u001b[0m\n\u001b[0;32m--> 874\u001b[0;31m             \u001b[0mself\u001b[0m\u001b[0;34m.\u001b[0m\u001b[0m_run_search\u001b[0m\u001b[0;34m(\u001b[0m\u001b[0mevaluate_candidates\u001b[0m\u001b[0;34m)\u001b[0m\u001b[0;34m\u001b[0m\u001b[0;34m\u001b[0m\u001b[0m\n\u001b[0m\u001b[1;32m    875\u001b[0m \u001b[0;34m\u001b[0m\u001b[0m\n\u001b[1;32m    876\u001b[0m             \u001b[0;31m# multimetric is determined here because in the case of a callable\u001b[0m\u001b[0;34m\u001b[0m\u001b[0;34m\u001b[0m\u001b[0m\n",
      "\u001b[0;32m/usr/local/lib/python3.10/dist-packages/sklearn/model_selection/_search.py\u001b[0m in \u001b[0;36m_run_search\u001b[0;34m(self, evaluate_candidates)\u001b[0m\n\u001b[1;32m   1386\u001b[0m     \u001b[0;32mdef\u001b[0m \u001b[0m_run_search\u001b[0m\u001b[0;34m(\u001b[0m\u001b[0mself\u001b[0m\u001b[0;34m,\u001b[0m \u001b[0mevaluate_candidates\u001b[0m\u001b[0;34m)\u001b[0m\u001b[0;34m:\u001b[0m\u001b[0;34m\u001b[0m\u001b[0;34m\u001b[0m\u001b[0m\n\u001b[1;32m   1387\u001b[0m         \u001b[0;34m\"\"\"Search all candidates in param_grid\"\"\"\u001b[0m\u001b[0;34m\u001b[0m\u001b[0;34m\u001b[0m\u001b[0m\n\u001b[0;32m-> 1388\u001b[0;31m         \u001b[0mevaluate_candidates\u001b[0m\u001b[0;34m(\u001b[0m\u001b[0mParameterGrid\u001b[0m\u001b[0;34m(\u001b[0m\u001b[0mself\u001b[0m\u001b[0;34m.\u001b[0m\u001b[0mparam_grid\u001b[0m\u001b[0;34m)\u001b[0m\u001b[0;34m)\u001b[0m\u001b[0;34m\u001b[0m\u001b[0;34m\u001b[0m\u001b[0m\n\u001b[0m\u001b[1;32m   1389\u001b[0m \u001b[0;34m\u001b[0m\u001b[0m\n\u001b[1;32m   1390\u001b[0m \u001b[0;34m\u001b[0m\u001b[0m\n",
      "\u001b[0;32m/usr/local/lib/python3.10/dist-packages/sklearn/model_selection/_search.py\u001b[0m in \u001b[0;36mevaluate_candidates\u001b[0;34m(candidate_params, cv, more_results)\u001b[0m\n\u001b[1;32m    819\u001b[0m                     )\n\u001b[1;32m    820\u001b[0m \u001b[0;34m\u001b[0m\u001b[0m\n\u001b[0;32m--> 821\u001b[0;31m                 out = parallel(\n\u001b[0m\u001b[1;32m    822\u001b[0m                     delayed(_fit_and_score)(\n\u001b[1;32m    823\u001b[0m                         \u001b[0mclone\u001b[0m\u001b[0;34m(\u001b[0m\u001b[0mbase_estimator\u001b[0m\u001b[0;34m)\u001b[0m\u001b[0;34m,\u001b[0m\u001b[0;34m\u001b[0m\u001b[0;34m\u001b[0m\u001b[0m\n",
      "\u001b[0;32m/usr/local/lib/python3.10/dist-packages/sklearn/utils/parallel.py\u001b[0m in \u001b[0;36m__call__\u001b[0;34m(self, iterable)\u001b[0m\n\u001b[1;32m     61\u001b[0m             \u001b[0;32mfor\u001b[0m \u001b[0mdelayed_func\u001b[0m\u001b[0;34m,\u001b[0m \u001b[0margs\u001b[0m\u001b[0;34m,\u001b[0m \u001b[0mkwargs\u001b[0m \u001b[0;32min\u001b[0m \u001b[0miterable\u001b[0m\u001b[0;34m\u001b[0m\u001b[0;34m\u001b[0m\u001b[0m\n\u001b[1;32m     62\u001b[0m         )\n\u001b[0;32m---> 63\u001b[0;31m         \u001b[0;32mreturn\u001b[0m \u001b[0msuper\u001b[0m\u001b[0;34m(\u001b[0m\u001b[0;34m)\u001b[0m\u001b[0;34m.\u001b[0m\u001b[0m__call__\u001b[0m\u001b[0;34m(\u001b[0m\u001b[0miterable_with_config\u001b[0m\u001b[0;34m)\u001b[0m\u001b[0;34m\u001b[0m\u001b[0;34m\u001b[0m\u001b[0m\n\u001b[0m\u001b[1;32m     64\u001b[0m \u001b[0;34m\u001b[0m\u001b[0m\n\u001b[1;32m     65\u001b[0m \u001b[0;34m\u001b[0m\u001b[0m\n",
      "\u001b[0;32m/usr/local/lib/python3.10/dist-packages/joblib/parallel.py\u001b[0m in \u001b[0;36m__call__\u001b[0;34m(self, iterable)\u001b[0m\n\u001b[1;32m   1916\u001b[0m             \u001b[0moutput\u001b[0m \u001b[0;34m=\u001b[0m \u001b[0mself\u001b[0m\u001b[0;34m.\u001b[0m\u001b[0m_get_sequential_output\u001b[0m\u001b[0;34m(\u001b[0m\u001b[0miterable\u001b[0m\u001b[0;34m)\u001b[0m\u001b[0;34m\u001b[0m\u001b[0;34m\u001b[0m\u001b[0m\n\u001b[1;32m   1917\u001b[0m             \u001b[0mnext\u001b[0m\u001b[0;34m(\u001b[0m\u001b[0moutput\u001b[0m\u001b[0;34m)\u001b[0m\u001b[0;34m\u001b[0m\u001b[0;34m\u001b[0m\u001b[0m\n\u001b[0;32m-> 1918\u001b[0;31m             \u001b[0;32mreturn\u001b[0m \u001b[0moutput\u001b[0m \u001b[0;32mif\u001b[0m \u001b[0mself\u001b[0m\u001b[0;34m.\u001b[0m\u001b[0mreturn_generator\u001b[0m \u001b[0;32melse\u001b[0m \u001b[0mlist\u001b[0m\u001b[0;34m(\u001b[0m\u001b[0moutput\u001b[0m\u001b[0;34m)\u001b[0m\u001b[0;34m\u001b[0m\u001b[0;34m\u001b[0m\u001b[0m\n\u001b[0m\u001b[1;32m   1919\u001b[0m \u001b[0;34m\u001b[0m\u001b[0m\n\u001b[1;32m   1920\u001b[0m         \u001b[0;31m# Let's create an ID that uniquely identifies the current call. If the\u001b[0m\u001b[0;34m\u001b[0m\u001b[0;34m\u001b[0m\u001b[0m\n",
      "\u001b[0;32m/usr/local/lib/python3.10/dist-packages/joblib/parallel.py\u001b[0m in \u001b[0;36m_get_sequential_output\u001b[0;34m(self, iterable)\u001b[0m\n\u001b[1;32m   1845\u001b[0m                 \u001b[0mself\u001b[0m\u001b[0;34m.\u001b[0m\u001b[0mn_dispatched_batches\u001b[0m \u001b[0;34m+=\u001b[0m \u001b[0;36m1\u001b[0m\u001b[0;34m\u001b[0m\u001b[0;34m\u001b[0m\u001b[0m\n\u001b[1;32m   1846\u001b[0m                 \u001b[0mself\u001b[0m\u001b[0;34m.\u001b[0m\u001b[0mn_dispatched_tasks\u001b[0m \u001b[0;34m+=\u001b[0m \u001b[0;36m1\u001b[0m\u001b[0;34m\u001b[0m\u001b[0;34m\u001b[0m\u001b[0m\n\u001b[0;32m-> 1847\u001b[0;31m                 \u001b[0mres\u001b[0m \u001b[0;34m=\u001b[0m \u001b[0mfunc\u001b[0m\u001b[0;34m(\u001b[0m\u001b[0;34m*\u001b[0m\u001b[0margs\u001b[0m\u001b[0;34m,\u001b[0m \u001b[0;34m**\u001b[0m\u001b[0mkwargs\u001b[0m\u001b[0;34m)\u001b[0m\u001b[0;34m\u001b[0m\u001b[0;34m\u001b[0m\u001b[0m\n\u001b[0m\u001b[1;32m   1848\u001b[0m                 \u001b[0mself\u001b[0m\u001b[0;34m.\u001b[0m\u001b[0mn_completed_tasks\u001b[0m \u001b[0;34m+=\u001b[0m \u001b[0;36m1\u001b[0m\u001b[0;34m\u001b[0m\u001b[0;34m\u001b[0m\u001b[0m\n\u001b[1;32m   1849\u001b[0m                 \u001b[0mself\u001b[0m\u001b[0;34m.\u001b[0m\u001b[0mprint_progress\u001b[0m\u001b[0;34m(\u001b[0m\u001b[0;34m)\u001b[0m\u001b[0;34m\u001b[0m\u001b[0;34m\u001b[0m\u001b[0m\n",
      "\u001b[0;32m/usr/local/lib/python3.10/dist-packages/sklearn/utils/parallel.py\u001b[0m in \u001b[0;36m__call__\u001b[0;34m(self, *args, **kwargs)\u001b[0m\n\u001b[1;32m    121\u001b[0m             \u001b[0mconfig\u001b[0m \u001b[0;34m=\u001b[0m \u001b[0;34m{\u001b[0m\u001b[0;34m}\u001b[0m\u001b[0;34m\u001b[0m\u001b[0;34m\u001b[0m\u001b[0m\n\u001b[1;32m    122\u001b[0m         \u001b[0;32mwith\u001b[0m \u001b[0mconfig_context\u001b[0m\u001b[0;34m(\u001b[0m\u001b[0;34m**\u001b[0m\u001b[0mconfig\u001b[0m\u001b[0;34m)\u001b[0m\u001b[0;34m:\u001b[0m\u001b[0;34m\u001b[0m\u001b[0;34m\u001b[0m\u001b[0m\n\u001b[0;32m--> 123\u001b[0;31m             \u001b[0;32mreturn\u001b[0m \u001b[0mself\u001b[0m\u001b[0;34m.\u001b[0m\u001b[0mfunction\u001b[0m\u001b[0;34m(\u001b[0m\u001b[0;34m*\u001b[0m\u001b[0margs\u001b[0m\u001b[0;34m,\u001b[0m \u001b[0;34m**\u001b[0m\u001b[0mkwargs\u001b[0m\u001b[0;34m)\u001b[0m\u001b[0;34m\u001b[0m\u001b[0;34m\u001b[0m\u001b[0m\n\u001b[0m",
      "\u001b[0;32m/usr/local/lib/python3.10/dist-packages/sklearn/model_selection/_validation.py\u001b[0m in \u001b[0;36m_fit_and_score\u001b[0;34m(estimator, X, y, scorer, train, test, verbose, parameters, fit_params, return_train_score, return_parameters, return_n_test_samples, return_times, return_estimator, split_progress, candidate_progress, error_score)\u001b[0m\n\u001b[1;32m    684\u001b[0m             \u001b[0mestimator\u001b[0m\u001b[0;34m.\u001b[0m\u001b[0mfit\u001b[0m\u001b[0;34m(\u001b[0m\u001b[0mX_train\u001b[0m\u001b[0;34m,\u001b[0m \u001b[0;34m**\u001b[0m\u001b[0mfit_params\u001b[0m\u001b[0;34m)\u001b[0m\u001b[0;34m\u001b[0m\u001b[0;34m\u001b[0m\u001b[0m\n\u001b[1;32m    685\u001b[0m         \u001b[0;32melse\u001b[0m\u001b[0;34m:\u001b[0m\u001b[0;34m\u001b[0m\u001b[0;34m\u001b[0m\u001b[0m\n\u001b[0;32m--> 686\u001b[0;31m             \u001b[0mestimator\u001b[0m\u001b[0;34m.\u001b[0m\u001b[0mfit\u001b[0m\u001b[0;34m(\u001b[0m\u001b[0mX_train\u001b[0m\u001b[0;34m,\u001b[0m \u001b[0my_train\u001b[0m\u001b[0;34m,\u001b[0m \u001b[0;34m**\u001b[0m\u001b[0mfit_params\u001b[0m\u001b[0;34m)\u001b[0m\u001b[0;34m\u001b[0m\u001b[0;34m\u001b[0m\u001b[0m\n\u001b[0m\u001b[1;32m    687\u001b[0m \u001b[0;34m\u001b[0m\u001b[0m\n\u001b[1;32m    688\u001b[0m     \u001b[0;32mexcept\u001b[0m \u001b[0mException\u001b[0m\u001b[0;34m:\u001b[0m\u001b[0;34m\u001b[0m\u001b[0;34m\u001b[0m\u001b[0m\n",
      "\u001b[0;32m/usr/local/lib/python3.10/dist-packages/sklearn/ensemble/_forest.py\u001b[0m in \u001b[0;36mfit\u001b[0;34m(self, X, y, sample_weight)\u001b[0m\n\u001b[1;32m    471\u001b[0m             \u001b[0;31m# parallel_backend contexts set at a higher level,\u001b[0m\u001b[0;34m\u001b[0m\u001b[0;34m\u001b[0m\u001b[0m\n\u001b[1;32m    472\u001b[0m             \u001b[0;31m# since correctness does not rely on using threads.\u001b[0m\u001b[0;34m\u001b[0m\u001b[0;34m\u001b[0m\u001b[0m\n\u001b[0;32m--> 473\u001b[0;31m             trees = Parallel(\n\u001b[0m\u001b[1;32m    474\u001b[0m                 \u001b[0mn_jobs\u001b[0m\u001b[0;34m=\u001b[0m\u001b[0mself\u001b[0m\u001b[0;34m.\u001b[0m\u001b[0mn_jobs\u001b[0m\u001b[0;34m,\u001b[0m\u001b[0;34m\u001b[0m\u001b[0;34m\u001b[0m\u001b[0m\n\u001b[1;32m    475\u001b[0m                 \u001b[0mverbose\u001b[0m\u001b[0;34m=\u001b[0m\u001b[0mself\u001b[0m\u001b[0;34m.\u001b[0m\u001b[0mverbose\u001b[0m\u001b[0;34m,\u001b[0m\u001b[0;34m\u001b[0m\u001b[0;34m\u001b[0m\u001b[0m\n",
      "\u001b[0;32m/usr/local/lib/python3.10/dist-packages/sklearn/utils/parallel.py\u001b[0m in \u001b[0;36m__call__\u001b[0;34m(self, iterable)\u001b[0m\n\u001b[1;32m     61\u001b[0m             \u001b[0;32mfor\u001b[0m \u001b[0mdelayed_func\u001b[0m\u001b[0;34m,\u001b[0m \u001b[0margs\u001b[0m\u001b[0;34m,\u001b[0m \u001b[0mkwargs\u001b[0m \u001b[0;32min\u001b[0m \u001b[0miterable\u001b[0m\u001b[0;34m\u001b[0m\u001b[0;34m\u001b[0m\u001b[0m\n\u001b[1;32m     62\u001b[0m         )\n\u001b[0;32m---> 63\u001b[0;31m         \u001b[0;32mreturn\u001b[0m \u001b[0msuper\u001b[0m\u001b[0;34m(\u001b[0m\u001b[0;34m)\u001b[0m\u001b[0;34m.\u001b[0m\u001b[0m__call__\u001b[0m\u001b[0;34m(\u001b[0m\u001b[0miterable_with_config\u001b[0m\u001b[0;34m)\u001b[0m\u001b[0;34m\u001b[0m\u001b[0;34m\u001b[0m\u001b[0m\n\u001b[0m\u001b[1;32m     64\u001b[0m \u001b[0;34m\u001b[0m\u001b[0m\n\u001b[1;32m     65\u001b[0m \u001b[0;34m\u001b[0m\u001b[0m\n",
      "\u001b[0;32m/usr/local/lib/python3.10/dist-packages/joblib/parallel.py\u001b[0m in \u001b[0;36m__call__\u001b[0;34m(self, iterable)\u001b[0m\n\u001b[1;32m   1916\u001b[0m             \u001b[0moutput\u001b[0m \u001b[0;34m=\u001b[0m \u001b[0mself\u001b[0m\u001b[0;34m.\u001b[0m\u001b[0m_get_sequential_output\u001b[0m\u001b[0;34m(\u001b[0m\u001b[0miterable\u001b[0m\u001b[0;34m)\u001b[0m\u001b[0;34m\u001b[0m\u001b[0;34m\u001b[0m\u001b[0m\n\u001b[1;32m   1917\u001b[0m             \u001b[0mnext\u001b[0m\u001b[0;34m(\u001b[0m\u001b[0moutput\u001b[0m\u001b[0;34m)\u001b[0m\u001b[0;34m\u001b[0m\u001b[0;34m\u001b[0m\u001b[0m\n\u001b[0;32m-> 1918\u001b[0;31m             \u001b[0;32mreturn\u001b[0m \u001b[0moutput\u001b[0m \u001b[0;32mif\u001b[0m \u001b[0mself\u001b[0m\u001b[0;34m.\u001b[0m\u001b[0mreturn_generator\u001b[0m \u001b[0;32melse\u001b[0m \u001b[0mlist\u001b[0m\u001b[0;34m(\u001b[0m\u001b[0moutput\u001b[0m\u001b[0;34m)\u001b[0m\u001b[0;34m\u001b[0m\u001b[0;34m\u001b[0m\u001b[0m\n\u001b[0m\u001b[1;32m   1919\u001b[0m \u001b[0;34m\u001b[0m\u001b[0m\n\u001b[1;32m   1920\u001b[0m         \u001b[0;31m# Let's create an ID that uniquely identifies the current call. If the\u001b[0m\u001b[0;34m\u001b[0m\u001b[0;34m\u001b[0m\u001b[0m\n",
      "\u001b[0;32m/usr/local/lib/python3.10/dist-packages/joblib/parallel.py\u001b[0m in \u001b[0;36m_get_sequential_output\u001b[0;34m(self, iterable)\u001b[0m\n\u001b[1;32m   1845\u001b[0m                 \u001b[0mself\u001b[0m\u001b[0;34m.\u001b[0m\u001b[0mn_dispatched_batches\u001b[0m \u001b[0;34m+=\u001b[0m \u001b[0;36m1\u001b[0m\u001b[0;34m\u001b[0m\u001b[0;34m\u001b[0m\u001b[0m\n\u001b[1;32m   1846\u001b[0m                 \u001b[0mself\u001b[0m\u001b[0;34m.\u001b[0m\u001b[0mn_dispatched_tasks\u001b[0m \u001b[0;34m+=\u001b[0m \u001b[0;36m1\u001b[0m\u001b[0;34m\u001b[0m\u001b[0;34m\u001b[0m\u001b[0m\n\u001b[0;32m-> 1847\u001b[0;31m                 \u001b[0mres\u001b[0m \u001b[0;34m=\u001b[0m \u001b[0mfunc\u001b[0m\u001b[0;34m(\u001b[0m\u001b[0;34m*\u001b[0m\u001b[0margs\u001b[0m\u001b[0;34m,\u001b[0m \u001b[0;34m**\u001b[0m\u001b[0mkwargs\u001b[0m\u001b[0;34m)\u001b[0m\u001b[0;34m\u001b[0m\u001b[0;34m\u001b[0m\u001b[0m\n\u001b[0m\u001b[1;32m   1848\u001b[0m                 \u001b[0mself\u001b[0m\u001b[0;34m.\u001b[0m\u001b[0mn_completed_tasks\u001b[0m \u001b[0;34m+=\u001b[0m \u001b[0;36m1\u001b[0m\u001b[0;34m\u001b[0m\u001b[0;34m\u001b[0m\u001b[0m\n\u001b[1;32m   1849\u001b[0m                 \u001b[0mself\u001b[0m\u001b[0;34m.\u001b[0m\u001b[0mprint_progress\u001b[0m\u001b[0;34m(\u001b[0m\u001b[0;34m)\u001b[0m\u001b[0;34m\u001b[0m\u001b[0;34m\u001b[0m\u001b[0m\n",
      "\u001b[0;32m/usr/local/lib/python3.10/dist-packages/sklearn/utils/parallel.py\u001b[0m in \u001b[0;36m__call__\u001b[0;34m(self, *args, **kwargs)\u001b[0m\n\u001b[1;32m    121\u001b[0m             \u001b[0mconfig\u001b[0m \u001b[0;34m=\u001b[0m \u001b[0;34m{\u001b[0m\u001b[0;34m}\u001b[0m\u001b[0;34m\u001b[0m\u001b[0;34m\u001b[0m\u001b[0m\n\u001b[1;32m    122\u001b[0m         \u001b[0;32mwith\u001b[0m \u001b[0mconfig_context\u001b[0m\u001b[0;34m(\u001b[0m\u001b[0;34m**\u001b[0m\u001b[0mconfig\u001b[0m\u001b[0;34m)\u001b[0m\u001b[0;34m:\u001b[0m\u001b[0;34m\u001b[0m\u001b[0;34m\u001b[0m\u001b[0m\n\u001b[0;32m--> 123\u001b[0;31m             \u001b[0;32mreturn\u001b[0m \u001b[0mself\u001b[0m\u001b[0;34m.\u001b[0m\u001b[0mfunction\u001b[0m\u001b[0;34m(\u001b[0m\u001b[0;34m*\u001b[0m\u001b[0margs\u001b[0m\u001b[0;34m,\u001b[0m \u001b[0;34m**\u001b[0m\u001b[0mkwargs\u001b[0m\u001b[0;34m)\u001b[0m\u001b[0;34m\u001b[0m\u001b[0;34m\u001b[0m\u001b[0m\n\u001b[0m",
      "\u001b[0;32m/usr/local/lib/python3.10/dist-packages/sklearn/ensemble/_forest.py\u001b[0m in \u001b[0;36m_parallel_build_trees\u001b[0;34m(tree, bootstrap, X, y, sample_weight, tree_idx, n_trees, verbose, class_weight, n_samples_bootstrap)\u001b[0m\n\u001b[1;32m    182\u001b[0m             \u001b[0mcurr_sample_weight\u001b[0m \u001b[0;34m*=\u001b[0m \u001b[0mcompute_sample_weight\u001b[0m\u001b[0;34m(\u001b[0m\u001b[0;34m\"balanced\"\u001b[0m\u001b[0;34m,\u001b[0m \u001b[0my\u001b[0m\u001b[0;34m,\u001b[0m \u001b[0mindices\u001b[0m\u001b[0;34m=\u001b[0m\u001b[0mindices\u001b[0m\u001b[0;34m)\u001b[0m\u001b[0;34m\u001b[0m\u001b[0;34m\u001b[0m\u001b[0m\n\u001b[1;32m    183\u001b[0m \u001b[0;34m\u001b[0m\u001b[0m\n\u001b[0;32m--> 184\u001b[0;31m         \u001b[0mtree\u001b[0m\u001b[0;34m.\u001b[0m\u001b[0mfit\u001b[0m\u001b[0;34m(\u001b[0m\u001b[0mX\u001b[0m\u001b[0;34m,\u001b[0m \u001b[0my\u001b[0m\u001b[0;34m,\u001b[0m \u001b[0msample_weight\u001b[0m\u001b[0;34m=\u001b[0m\u001b[0mcurr_sample_weight\u001b[0m\u001b[0;34m,\u001b[0m \u001b[0mcheck_input\u001b[0m\u001b[0;34m=\u001b[0m\u001b[0;32mFalse\u001b[0m\u001b[0;34m)\u001b[0m\u001b[0;34m\u001b[0m\u001b[0;34m\u001b[0m\u001b[0m\n\u001b[0m\u001b[1;32m    185\u001b[0m     \u001b[0;32melse\u001b[0m\u001b[0;34m:\u001b[0m\u001b[0;34m\u001b[0m\u001b[0;34m\u001b[0m\u001b[0m\n\u001b[1;32m    186\u001b[0m         \u001b[0mtree\u001b[0m\u001b[0;34m.\u001b[0m\u001b[0mfit\u001b[0m\u001b[0;34m(\u001b[0m\u001b[0mX\u001b[0m\u001b[0;34m,\u001b[0m \u001b[0my\u001b[0m\u001b[0;34m,\u001b[0m \u001b[0msample_weight\u001b[0m\u001b[0;34m=\u001b[0m\u001b[0msample_weight\u001b[0m\u001b[0;34m,\u001b[0m \u001b[0mcheck_input\u001b[0m\u001b[0;34m=\u001b[0m\u001b[0;32mFalse\u001b[0m\u001b[0;34m)\u001b[0m\u001b[0;34m\u001b[0m\u001b[0;34m\u001b[0m\u001b[0m\n",
      "\u001b[0;32m/usr/local/lib/python3.10/dist-packages/sklearn/tree/_classes.py\u001b[0m in \u001b[0;36mfit\u001b[0;34m(self, X, y, sample_weight, check_input)\u001b[0m\n\u001b[1;32m    887\u001b[0m         \"\"\"\n\u001b[1;32m    888\u001b[0m \u001b[0;34m\u001b[0m\u001b[0m\n\u001b[0;32m--> 889\u001b[0;31m         super().fit(\n\u001b[0m\u001b[1;32m    890\u001b[0m             \u001b[0mX\u001b[0m\u001b[0;34m,\u001b[0m\u001b[0;34m\u001b[0m\u001b[0;34m\u001b[0m\u001b[0m\n\u001b[1;32m    891\u001b[0m             \u001b[0my\u001b[0m\u001b[0;34m,\u001b[0m\u001b[0;34m\u001b[0m\u001b[0;34m\u001b[0m\u001b[0m\n",
      "\u001b[0;32m/usr/local/lib/python3.10/dist-packages/sklearn/tree/_classes.py\u001b[0m in \u001b[0;36mfit\u001b[0;34m(self, X, y, sample_weight, check_input)\u001b[0m\n\u001b[1;32m    377\u001b[0m             )\n\u001b[1;32m    378\u001b[0m \u001b[0;34m\u001b[0m\u001b[0m\n\u001b[0;32m--> 379\u001b[0;31m         \u001b[0mbuilder\u001b[0m\u001b[0;34m.\u001b[0m\u001b[0mbuild\u001b[0m\u001b[0;34m(\u001b[0m\u001b[0mself\u001b[0m\u001b[0;34m.\u001b[0m\u001b[0mtree_\u001b[0m\u001b[0;34m,\u001b[0m \u001b[0mX\u001b[0m\u001b[0;34m,\u001b[0m \u001b[0my\u001b[0m\u001b[0;34m,\u001b[0m \u001b[0msample_weight\u001b[0m\u001b[0;34m)\u001b[0m\u001b[0;34m\u001b[0m\u001b[0;34m\u001b[0m\u001b[0m\n\u001b[0m\u001b[1;32m    380\u001b[0m \u001b[0;34m\u001b[0m\u001b[0m\n\u001b[1;32m    381\u001b[0m         \u001b[0;32mif\u001b[0m \u001b[0mself\u001b[0m\u001b[0;34m.\u001b[0m\u001b[0mn_outputs_\u001b[0m \u001b[0;34m==\u001b[0m \u001b[0;36m1\u001b[0m \u001b[0;32mand\u001b[0m \u001b[0mis_classifier\u001b[0m\u001b[0;34m(\u001b[0m\u001b[0mself\u001b[0m\u001b[0;34m)\u001b[0m\u001b[0;34m:\u001b[0m\u001b[0;34m\u001b[0m\u001b[0;34m\u001b[0m\u001b[0m\n",
      "\u001b[0;31mKeyboardInterrupt\u001b[0m: "
     ]
    }
   ],
   "source": [
    "param_grid = {\n",
    "    'n_estimators': [75,150,200],\n",
    "    'max_features': ['sqrt', 'log2', None],\n",
    "    'max_depth': [3, 6, 9],\n",
    "    'min_samples_split':[2,5,8],\n",
    "    'max_leaf_nodes': [3, 6, 9],\n",
    "}\n",
    "grid_search = GridSearchCV(RandomForestClassifier(),\n",
    "                           param_grid=param_grid)\n",
    "grid_search.fit(x_train, y_train)\n",
    "print(grid_search.best_estimator_)"
   ]
  },
  {
   "cell_type": "code",
   "execution_count": null,
   "metadata": {
    "id": "mNUfUEBrKCme"
   },
   "outputs": [],
   "source": [
    "model = RandomForestClassifier()\n",
    "model.fit(x_train, y_train)\n",
    "model_grid = RandomForestClassifier(max_depth=6,\n",
    "                                    max_features=\"log2\",\n",
    "                                    max_leaf_nodes=6,\n",
    "                                    min_samples_split=8,\n",
    "                                    n_estimators=200)\n",
    "model_grid.fit(x_train, y_train)\n",
    "y_pred_grid = model.predict(x_test)\n",
    "print(classification_report(y_pred_grid, y_test))"
   ]
  },
  {
   "cell_type": "code",
   "execution_count": null,
   "metadata": {
    "id": "wrheJ7o4KCdz"
   },
   "outputs": [],
   "source": [
    "#Creating confusion matrix\n",
    "ConfusionMatrix = confusion_matrix(y_test, y_pred_grid)\n",
    "print(ConfusionMatrix)"
   ]
  },
  {
   "cell_type": "code",
   "execution_count": null,
   "metadata": {
    "id": "0mZxw2I_PtY0"
   },
   "outputs": [],
   "source": []
  },
  {
   "cell_type": "markdown",
   "metadata": {
    "id": "hHwwL0wBP0AI"
   },
   "source": [
    "**4) Naive Bayes**\n",
    "\n",
    "To apply naive bayes, variables should be independent and all the quantitative variables should be convert to categorical variables if they are skewed; to do this we need to consider the describution by considering descriptive analysis"
   ]
  },
  {
   "cell_type": "code",
   "execution_count": null,
   "metadata": {
    "colab": {
     "base_uri": "https://localhost:8080/",
     "height": 74
    },
    "id": "9HZkb6BTPtVk",
    "outputId": "a18591fc-0b5c-4678-b2f0-63fe7a7137a8"
   },
   "outputs": [
    {
     "data": {
      "text/html": [
       "<style>#sk-container-id-4 {color: black;background-color: white;}#sk-container-id-4 pre{padding: 0;}#sk-container-id-4 div.sk-toggleable {background-color: white;}#sk-container-id-4 label.sk-toggleable__label {cursor: pointer;display: block;width: 100%;margin-bottom: 0;padding: 0.3em;box-sizing: border-box;text-align: center;}#sk-container-id-4 label.sk-toggleable__label-arrow:before {content: \"▸\";float: left;margin-right: 0.25em;color: #696969;}#sk-container-id-4 label.sk-toggleable__label-arrow:hover:before {color: black;}#sk-container-id-4 div.sk-estimator:hover label.sk-toggleable__label-arrow:before {color: black;}#sk-container-id-4 div.sk-toggleable__content {max-height: 0;max-width: 0;overflow: hidden;text-align: left;background-color: #f0f8ff;}#sk-container-id-4 div.sk-toggleable__content pre {margin: 0.2em;color: black;border-radius: 0.25em;background-color: #f0f8ff;}#sk-container-id-4 input.sk-toggleable__control:checked~div.sk-toggleable__content {max-height: 200px;max-width: 100%;overflow: auto;}#sk-container-id-4 input.sk-toggleable__control:checked~label.sk-toggleable__label-arrow:before {content: \"▾\";}#sk-container-id-4 div.sk-estimator input.sk-toggleable__control:checked~label.sk-toggleable__label {background-color: #d4ebff;}#sk-container-id-4 div.sk-label input.sk-toggleable__control:checked~label.sk-toggleable__label {background-color: #d4ebff;}#sk-container-id-4 input.sk-hidden--visually {border: 0;clip: rect(1px 1px 1px 1px);clip: rect(1px, 1px, 1px, 1px);height: 1px;margin: -1px;overflow: hidden;padding: 0;position: absolute;width: 1px;}#sk-container-id-4 div.sk-estimator {font-family: monospace;background-color: #f0f8ff;border: 1px dotted black;border-radius: 0.25em;box-sizing: border-box;margin-bottom: 0.5em;}#sk-container-id-4 div.sk-estimator:hover {background-color: #d4ebff;}#sk-container-id-4 div.sk-parallel-item::after {content: \"\";width: 100%;border-bottom: 1px solid gray;flex-grow: 1;}#sk-container-id-4 div.sk-label:hover label.sk-toggleable__label {background-color: #d4ebff;}#sk-container-id-4 div.sk-serial::before {content: \"\";position: absolute;border-left: 1px solid gray;box-sizing: border-box;top: 0;bottom: 0;left: 50%;z-index: 0;}#sk-container-id-4 div.sk-serial {display: flex;flex-direction: column;align-items: center;background-color: white;padding-right: 0.2em;padding-left: 0.2em;position: relative;}#sk-container-id-4 div.sk-item {position: relative;z-index: 1;}#sk-container-id-4 div.sk-parallel {display: flex;align-items: stretch;justify-content: center;background-color: white;position: relative;}#sk-container-id-4 div.sk-item::before, #sk-container-id-4 div.sk-parallel-item::before {content: \"\";position: absolute;border-left: 1px solid gray;box-sizing: border-box;top: 0;bottom: 0;left: 50%;z-index: -1;}#sk-container-id-4 div.sk-parallel-item {display: flex;flex-direction: column;z-index: 1;position: relative;background-color: white;}#sk-container-id-4 div.sk-parallel-item:first-child::after {align-self: flex-end;width: 50%;}#sk-container-id-4 div.sk-parallel-item:last-child::after {align-self: flex-start;width: 50%;}#sk-container-id-4 div.sk-parallel-item:only-child::after {width: 0;}#sk-container-id-4 div.sk-dashed-wrapped {border: 1px dashed gray;margin: 0 0.4em 0.5em 0.4em;box-sizing: border-box;padding-bottom: 0.4em;background-color: white;}#sk-container-id-4 div.sk-label label {font-family: monospace;font-weight: bold;display: inline-block;line-height: 1.2em;}#sk-container-id-4 div.sk-label-container {text-align: center;}#sk-container-id-4 div.sk-container {/* jupyter's `normalize.less` sets `[hidden] { display: none; }` but bootstrap.min.css set `[hidden] { display: none !important; }` so we also need the `!important` here to be able to override the default hidden behavior on the sphinx rendered scikit-learn.org. See: https://github.com/scikit-learn/scikit-learn/issues/21755 */display: inline-block !important;position: relative;}#sk-container-id-4 div.sk-text-repr-fallback {display: none;}</style><div id=\"sk-container-id-4\" class=\"sk-top-container\"><div class=\"sk-text-repr-fallback\"><pre>GaussianNB()</pre><b>In a Jupyter environment, please rerun this cell to show the HTML representation or trust the notebook. <br />On GitHub, the HTML representation is unable to render, please try loading this page with nbviewer.org.</b></div><div class=\"sk-container\" hidden><div class=\"sk-item\"><div class=\"sk-estimator sk-toggleable\"><input class=\"sk-toggleable__control sk-hidden--visually\" id=\"sk-estimator-id-4\" type=\"checkbox\" checked><label for=\"sk-estimator-id-4\" class=\"sk-toggleable__label sk-toggleable__label-arrow\">GaussianNB</label><div class=\"sk-toggleable__content\"><pre>GaussianNB()</pre></div></div></div></div></div>"
      ],
      "text/plain": [
       "GaussianNB()"
      ]
     },
     "execution_count": 49,
     "metadata": {},
     "output_type": "execute_result"
    }
   ],
   "source": [
    "from sklearn.naive_bayes import GaussianNB\n",
    "nb = GaussianNB()\n",
    "nb.fit(x_train,y_train)"
   ]
  },
  {
   "cell_type": "code",
   "execution_count": null,
   "metadata": {
    "colab": {
     "base_uri": "https://localhost:8080/"
    },
    "id": "4ARF5AUcP4qS",
    "outputId": "fd889d38-2c84-4092-b019-f12c9ca4b992"
   },
   "outputs": [
    {
     "name": "stdout",
     "output_type": "stream",
     "text": [
      "              precision    recall  f1-score   support\n",
      "\n",
      "           0       0.21      0.76      0.33      1889\n",
      "           1       0.98      0.78      0.87     24826\n",
      "\n",
      "    accuracy                           0.78     26715\n",
      "   macro avg       0.60      0.77      0.60     26715\n",
      "weighted avg       0.92      0.78      0.83     26715\n",
      "\n"
     ]
    }
   ],
   "source": [
    "y_pred4 = nb.predict(x_test)\n",
    "print(classification_report(y_pred4, y_test))"
   ]
  },
  {
   "cell_type": "code",
   "execution_count": null,
   "metadata": {
    "colab": {
     "base_uri": "https://localhost:8080/"
    },
    "id": "pKQal8QcaaL2",
    "outputId": "49270039-744c-4822-b063-f5acc76b2638"
   },
   "outputs": [
    {
     "data": {
      "text/plain": [
       "0.783380123526109"
      ]
     },
     "execution_count": 54,
     "metadata": {},
     "output_type": "execute_result"
    }
   ],
   "source": [
    "# evaluate accuracy of test data\n",
    "nb.score(x_test, y_test)"
   ]
  },
  {
   "cell_type": "markdown",
   "metadata": {
    "id": "VNFuRQi8QFCD"
   },
   "source": [
    "parameter tuning- naive bayes"
   ]
  },
  {
   "cell_type": "code",
   "execution_count": null,
   "metadata": {
    "colab": {
     "base_uri": "https://localhost:8080/"
    },
    "id": "NqRJNd5FP4nb",
    "outputId": "c0495ea7-d202-4cac-f743-d983a6b913b4"
   },
   "outputs": [
    {
     "name": "stdout",
     "output_type": "stream",
     "text": [
      "{'var_smoothing': 1e-15}\n"
     ]
    }
   ],
   "source": [
    "param_grid = {'var_smoothing': [1e-15, 1e-8, 1e-7]}\n",
    "nb_classifier = GaussianNB()\n",
    "# Perform grid search with cross-validation\n",
    "grid_search = GridSearchCV(nb_classifier, param_grid, cv=5)\n",
    "grid_search.fit(x_train, y_train)\n",
    "\n",
    "# Get the best parameters\n",
    "best_params = grid_search.best_params_\n",
    "print(best_params)"
   ]
  },
  {
   "cell_type": "code",
   "execution_count": null,
   "metadata": {
    "colab": {
     "base_uri": "https://localhost:8080/"
    },
    "id": "dFD_6RO_P4kA",
    "outputId": "2d0bcdc5-bba2-458c-c07e-ec69d08315f7"
   },
   "outputs": [
    {
     "name": "stdout",
     "output_type": "stream",
     "text": [
      "              precision    recall  f1-score   support\n",
      "\n",
      "           0       0.24      0.71      0.36      2293\n",
      "           1       0.97      0.79      0.87     24422\n",
      "\n",
      "    accuracy                           0.78     26715\n",
      "   macro avg       0.60      0.75      0.61     26715\n",
      "weighted avg       0.90      0.78      0.83     26715\n",
      "\n"
     ]
    }
   ],
   "source": [
    "# Refit the classifier on the entire training data\n",
    "optimal_nb_classifier = GaussianNB(var_smoothing=best_params['var_smoothing'])\n",
    "optimal_nb_classifier.fit(x_train, y_train)\n",
    "y_pred4 = optimal_nb_classifier.predict(x_test)\n",
    "print(classification_report(y_pred4, y_test))"
   ]
  },
  {
   "cell_type": "code",
   "execution_count": null,
   "metadata": {
    "colab": {
     "base_uri": "https://localhost:8080/"
    },
    "id": "bj3NqHc8bYXy",
    "outputId": "4312ac5c-2e95-42cb-c52e-ff25aaf7a3f5"
   },
   "outputs": [
    {
     "data": {
      "text/plain": [
       "0.7827063447501403"
      ]
     },
     "execution_count": 65,
     "metadata": {},
     "output_type": "execute_result"
    }
   ],
   "source": [
    "# evaluate accuracy of test data\n",
    "optimal_nb_classifier.score(x_test, y_test)"
   ]
  },
  {
   "cell_type": "code",
   "execution_count": null,
   "metadata": {
    "colab": {
     "base_uri": "https://localhost:8080/"
    },
    "id": "LZIS2tXpP4gm",
    "outputId": "20604c61-d751-4abd-d95c-4edc10e4ce54"
   },
   "outputs": [
    {
     "name": "stdout",
     "output_type": "stream",
     "text": [
      "[[ 1637  5149]\n",
      " [  656 19273]]\n"
     ]
    }
   ],
   "source": [
    "#Creating confusion matrix\n",
    "ConfusionMatrix = confusion_matrix(y_test, y_pred4)\n",
    "print(ConfusionMatrix)"
   ]
  },
  {
   "cell_type": "markdown",
   "metadata": {
    "id": "Z1Holp8Sbo74"
   },
   "source": [
    "**XGBoost** **Classifier**"
   ]
  },
  {
   "cell_type": "code",
   "execution_count": null,
   "metadata": {
    "colab": {
     "base_uri": "https://localhost:8080/"
    },
    "id": "0pWWZE-sP4c4",
    "outputId": "cb6012ee-d788-4780-ebbe-bf84531cc623"
   },
   "outputs": [
    {
     "name": "stdout",
     "output_type": "stream",
     "text": [
      "              precision    recall  f1-score   support\n",
      "\n",
      "           0       0.27      0.76      0.40      2378\n",
      "           1       0.97      0.80      0.87     24337\n",
      "\n",
      "    accuracy                           0.79     26715\n",
      "   macro avg       0.62      0.78      0.64     26715\n",
      "weighted avg       0.91      0.79      0.83     26715\n",
      "\n"
     ]
    }
   ],
   "source": [
    "import xgboost as xgb\n",
    "xgb_model=xgb.XGBClassifier(objective=\"binary:logistic\",random_state=21)\n",
    "xgb_model.fit(x_train,y_train)\n",
    "y_pred5=xgb_model.predict(x_test)\n",
    "print(classification_report(y_pred5, y_test))"
   ]
  },
  {
   "cell_type": "code",
   "execution_count": null,
   "metadata": {
    "colab": {
     "base_uri": "https://localhost:8080/"
    },
    "id": "hijCi45OdBdY",
    "outputId": "2949adab-3f89-4e30-b383-3abfe2b2695c"
   },
   "outputs": [
    {
     "data": {
      "text/plain": [
       "0.7926258656185663"
      ]
     },
     "execution_count": 74,
     "metadata": {},
     "output_type": "execute_result"
    }
   ],
   "source": [
    "# evaluate accuracy of test data\n",
    "xgb_model.score(x_test, y_test)"
   ]
  },
  {
   "cell_type": "code",
   "execution_count": null,
   "metadata": {
    "colab": {
     "base_uri": "https://localhost:8080/"
    },
    "id": "N3Ia-AnrP4Vj",
    "outputId": "3b6d1716-1758-4bff-f5e5-ac17981ad6d7"
   },
   "outputs": [
    {
     "name": "stdout",
     "output_type": "stream",
     "text": [
      "[[ 1812  4974]\n",
      " [  566 19363]]\n"
     ]
    }
   ],
   "source": [
    "#Creating confusion matrix\n",
    "ConfusionMatrix = confusion_matrix(y_test, y_pred5)\n",
    "print(ConfusionMatrix)"
   ]
  },
  {
   "cell_type": "markdown",
   "metadata": {
    "id": "ujhQx_tkb0-J"
   },
   "source": [
    "para-tuning"
   ]
  },
  {
   "cell_type": "code",
   "execution_count": null,
   "metadata": {
    "colab": {
     "base_uri": "https://localhost:8080/"
    },
    "id": "JEGAmLngP3xd",
    "outputId": "210ffccc-eb4b-4121-89a0-c34292137df1"
   },
   "outputs": [
    {
     "name": "stdout",
     "output_type": "stream",
     "text": [
      "Best set of hyperparameters:  {'learning_rate': 0.07944367562892289, 'max_depth': 4, 'n_estimators': 147, 'subsample': 0.5153986176744944}\n",
      "Best score:  0.7995984580790235\n"
     ]
    }
   ],
   "source": [
    "import scipy.stats as stats\n",
    "from sklearn.model_selection import RandomizedSearchCV\n",
    "param_dist = {\n",
    "    'max_depth': stats.randint(3, 10),\n",
    "    'learning_rate': stats.uniform(0.01, 0.1),\n",
    "    'subsample': stats.uniform(0.5, 0.5),\n",
    "    'n_estimators':stats.randint(50, 200)\n",
    "}\n",
    "xgb_model = xgb.XGBClassifier()\n",
    "# Create the RandomizedSearchCV object\n",
    "random_search = RandomizedSearchCV(xgb_model, param_distributions=param_dist, n_iter=10, cv=5, scoring='accuracy')\n",
    "\n",
    "# Fit the RandomizedSearchCV object to the training data\n",
    "xgb_optimal=random_search.fit(x_train, y_train)\n",
    "\n",
    "# Print the best set of hyperparameters and the corresponding score\n",
    "print(\"Best set of hyperparameters: \", random_search.best_params_)\n",
    "print(\"Best score: \", random_search.best_score_)"
   ]
  },
  {
   "cell_type": "code",
   "execution_count": null,
   "metadata": {
    "colab": {
     "base_uri": "https://localhost:8080/"
    },
    "id": "hu9wwc_UcBee",
    "outputId": "ea56d20a-fdbe-4499-b0a2-93f032d5ef21"
   },
   "outputs": [
    {
     "name": "stdout",
     "output_type": "stream",
     "text": [
      "              precision    recall  f1-score   support\n",
      "\n",
      "           0       0.22      0.91      0.36      1667\n",
      "           1       0.99      0.79      0.88     25048\n",
      "\n",
      "    accuracy                           0.80     26715\n",
      "   macro avg       0.61      0.85      0.62     26715\n",
      "weighted avg       0.94      0.80      0.85     26715\n",
      "\n"
     ]
    }
   ],
   "source": [
    "y_pred5_optimal=xgb_optimal.predict(x_test)\n",
    "print(classification_report(y_pred5_optimal, y_test))"
   ]
  },
  {
   "cell_type": "code",
   "execution_count": null,
   "metadata": {
    "colab": {
     "base_uri": "https://localhost:8080/"
    },
    "id": "Vu6I2LYTdL_B",
    "outputId": "ac9b9a0d-f5fd-4841-ca24-dc5a0bb6e847"
   },
   "outputs": [
    {
     "data": {
      "text/plain": [
       "0.7972300205876848"
      ]
     },
     "execution_count": 79,
     "metadata": {},
     "output_type": "execute_result"
    }
   ],
   "source": [
    "# evaluate accuracy of test data\n",
    "xgb_optimal.score(x_test, y_test)"
   ]
  },
  {
   "cell_type": "code",
   "execution_count": null,
   "metadata": {
    "colab": {
     "base_uri": "https://localhost:8080/"
    },
    "id": "RFOOpUHvcBbB",
    "outputId": "a5de1398-33a5-4f02-c7a7-dc1cab9d358b"
   },
   "outputs": [
    {
     "name": "stdout",
     "output_type": "stream",
     "text": [
      "[[ 1518  5268]\n",
      " [  149 19780]]\n"
     ]
    }
   ],
   "source": [
    "#Creating confusion matrix\n",
    "ConfusionMatrix = confusion_matrix(y_test, y_pred5_optimal)\n",
    "print(ConfusionMatrix)"
   ]
  },
  {
   "cell_type": "markdown",
   "metadata": {
    "id": "RgS2FBG9erIm"
   },
   "source": [
    "6) **KNN**"
   ]
  },
  {
   "cell_type": "code",
   "execution_count": null,
   "metadata": {
    "colab": {
     "base_uri": "https://localhost:8080/"
    },
    "id": "Gqvo6vLucBX-",
    "outputId": "ab86d2ea-845b-4ea6-9149-000cc3ade8c4"
   },
   "outputs": [
    {
     "name": "stdout",
     "output_type": "stream",
     "text": [
      "              precision    recall  f1-score   support\n",
      "\n",
      "           0       0.16      0.32      0.21      3417\n",
      "           1       0.88      0.76      0.81     23298\n",
      "\n",
      "    accuracy                           0.70     26715\n",
      "   macro avg       0.52      0.54      0.51     26715\n",
      "weighted avg       0.79      0.70      0.74     26715\n",
      "\n"
     ]
    }
   ],
   "source": [
    "from sklearn.neighbors import KNeighborsClassifier\n",
    "knn = KNeighborsClassifier(n_neighbors=5)\n",
    "knn.fit(x_train,y_train)\n",
    "y_pred6 = knn.predict(x_test)\n",
    "print(classification_report(y_pred6, y_test))"
   ]
  },
  {
   "cell_type": "code",
   "execution_count": null,
   "metadata": {
    "colab": {
     "base_uri": "https://localhost:8080/"
    },
    "id": "xcYXdYFGezuU",
    "outputId": "36c2728c-43d0-43c4-82b0-8d75b140c245"
   },
   "outputs": [
    {
     "data": {
      "text/plain": [
       "0.6990829122215984"
      ]
     },
     "execution_count": 82,
     "metadata": {},
     "output_type": "execute_result"
    }
   ],
   "source": [
    "# evaluate accuracy of test data\n",
    "knn.score(x_test, y_test)"
   ]
  },
  {
   "cell_type": "code",
   "execution_count": null,
   "metadata": {
    "colab": {
     "base_uri": "https://localhost:8080/"
    },
    "id": "CqqYkQzYcBVU",
    "outputId": "fc90fcf0-63e2-44e5-d659-9e18e9068da0"
   },
   "outputs": [
    {
     "name": "stdout",
     "output_type": "stream",
     "text": [
      "[[ 1082  5704]\n",
      " [ 2335 17594]]\n"
     ]
    }
   ],
   "source": [
    "#Creating confusion matrix\n",
    "ConfusionMatrix = confusion_matrix(y_test, y_pred6)\n",
    "print(ConfusionMatrix)"
   ]
  },
  {
   "cell_type": "markdown",
   "metadata": {
    "id": "Rr9eV7Dke9nV"
   },
   "source": [
    "parameter tuning-Knn"
   ]
  },
  {
   "cell_type": "code",
   "execution_count": null,
   "metadata": {
    "colab": {
     "base_uri": "https://localhost:8080/"
    },
    "id": "QBqhypJecBSp",
    "outputId": "103574b9-f13b-47c2-b612-299c4d06a3d0"
   },
   "outputs": [
    {
     "name": "stdout",
     "output_type": "stream",
     "text": [
      "Best Parameters: {'metric': 'manhattan', 'n_neighbors': 2, 'weights': 'uniform'}\n"
     ]
    }
   ],
   "source": [
    "param_grid = {\n",
    "    'n_neighbors': range(1, 31),  # Try different values of k from 1 to 30\n",
    "    'weights': ['uniform', 'distance'],  # Try different weightings for neighbors\n",
    "    'metric': ['euclidean', 'manhattan']  # Try different distance metrics\n",
    "}\n",
    "# Perform grid search cross-validation to find the best parameters\n",
    "grid_search = GridSearchCV(knn, param_grid, cv=5, scoring='precision')\n",
    "grid_search.fit(x_train, y_train)\n",
    "# Print the best parameters found\n",
    "print(\"Best Parameters:\", grid_search.best_params_)"
   ]
  },
  {
   "cell_type": "code",
   "execution_count": null,
   "metadata": {
    "colab": {
     "base_uri": "https://localhost:8080/"
    },
    "id": "MjXZDwzlcBPn",
    "outputId": "b38aa5c2-c86d-4546-80e0-fdaeb4e4f722"
   },
   "outputs": [
    {
     "name": "stdout",
     "output_type": "stream",
     "text": [
      "              precision    recall  f1-score   support\n",
      "\n",
      "           0       0.48      0.30      0.37     10694\n",
      "           1       0.63      0.78      0.69     16021\n",
      "\n",
      "    accuracy                           0.59     26715\n",
      "   macro avg       0.55      0.54      0.53     26715\n",
      "weighted avg       0.57      0.59      0.56     26715\n",
      "\n"
     ]
    }
   ],
   "source": [
    "# Get the best model\n",
    "best_knn_model = grid_search.best_estimator_\n",
    "\n",
    "knn_optimal = best_knn_model.fit(x_train, y_train)\n",
    "\n",
    "y_pred6_optimal=knn_optimal.predict(x_test)\n",
    "print(classification_report(y_pred6_optimal, y_test))"
   ]
  },
  {
   "cell_type": "code",
   "execution_count": null,
   "metadata": {
    "colab": {
     "base_uri": "https://localhost:8080/"
    },
    "id": "W83QZYsCcBM6",
    "outputId": "eaecdf2a-2f21-484b-dd41-46dd31486846"
   },
   "outputs": [
    {
     "name": "stdout",
     "output_type": "stream",
     "text": [
      "[[ 3225  3561]\n",
      " [ 7469 12460]]\n"
     ]
    }
   ],
   "source": [
    "#Creating confusion matrix\n",
    "ConfusionMatrix = confusion_matrix(y_test, y_pred6_optimal)\n",
    "print(ConfusionMatrix)"
   ]
  },
  {
   "cell_type": "markdown",
   "metadata": {
    "id": "itMUZ0KlfH4H"
   },
   "source": [
    "**Model evaluation-ROC/AUC curve**\n",
    "\n",
    "in here ROC curves are generated for original data, not for ptuned-resullts"
   ]
  },
  {
   "cell_type": "code",
   "execution_count": null,
   "metadata": {
    "colab": {
     "base_uri": "https://localhost:8080/",
     "height": 487
    },
    "id": "95URUku8cBJ4",
    "outputId": "81ac2784-5a0b-424c-b24a-155cb9d852b5"
   },
   "outputs": [
    {
     "data": {
      "image/png": "[encoded data removed]",
      "text/plain": [
       "<Figure size 500x500 with 1 Axes>"
      ]
     },
     "metadata": {},
     "output_type": "display_data"
    }
   ],
   "source": [
    "# ROC-AUC curve\n",
    "from sklearn.metrics import roc_curve, auc\n",
    "\n",
    "# Logistic reg\n",
    "logistic_fpr, logistic_tpr, threshold=roc_curve(y_test,y_pred)\n",
    "auc_logistic = auc(logistic_fpr,logistic_tpr)\n",
    "\n",
    "# Decision Tree\n",
    "dt_fpr,dt_tpr,threshold=roc_curve(y_test,y_pred2)\n",
    "auc_dt = auc(dt_fpr,dt_tpr)\n",
    "\n",
    "# Random Forest Classifier\n",
    "rf_fpr, rf_tpr, threshold = roc_curve(y_test, y_pred3)\n",
    "auc_rf = auc(rf_fpr, rf_tpr)\n",
    "\n",
    "# Naive Bayes\n",
    "nb_fpr, nb_tpr, threshold = roc_curve(y_test, y_pred4)\n",
    "auc_nb = auc(nb_fpr, nb_tpr)\n",
    "\n",
    "# XGBoost Classifier\n",
    "xgb_fpr, xgb_tpr, threshold = roc_curve(y_test, y_pred5)\n",
    "auc_xgb = auc(xgb_fpr, xgb_tpr)\n",
    "\n",
    "# KNN\n",
    "knn_fpr, knn_tpr, _ = roc_curve(y_test, y_pred6)\n",
    "auc_knn = auc(knn_fpr, knn_tpr)\n",
    "\n",
    "\n",
    "plt.figure(figsize=(5,5),dpi=100)\n",
    "plt.plot(dt_fpr,dt_tpr,linestyle=\"-\",label='decision tree(auc=%0.3f)' % auc_dt)\n",
    "plt.plot(logistic_fpr,logistic_tpr,marker=\".\",label='Logistic(auc=%0.3f)' % auc_logistic)\n",
    "plt.plot(rf_fpr, rf_tpr, linestyle=\"-\", label='Random Forest (AUC = %0.3f)' % auc_rf)\n",
    "plt.plot(nb_fpr, nb_tpr, linestyle=\"-\", label='Naive Bayes (AUC = %0.3f)' % auc_nb)\n",
    "plt.plot(xgb_fpr, xgb_tpr, linestyle=\"-\", label='XGBoost (AUC = %0.3f)' % auc_xgb)\n",
    "plt.plot(knn_fpr, knn_tpr, linestyle=\"-\", label='KNN (AUC = %0.3f)' % auc_knn)\n",
    "\n",
    "plt.xlabel('False positive rate')\n",
    "plt.ylabel('True positive rate')\n",
    "plt.title('ROC Curves for Different Classifiers')\n",
    "plt.legend()\n",
    "plt.show()"
   ]
  },
  {
   "cell_type": "code",
   "execution_count": null,
   "metadata": {
    "id": "k8y6VGYFcBGo"
   },
   "outputs": [],
   "source": []
  }
 ],
 "metadata": {
  "colab": {
   "provenance": []
  },
  "kernelspec": {
   "display_name": "Python 3 (ipykernel)",
   "language": "python",
   "name": "python3"
  },
  "language_info": {
   "codemirror_mode": {
    "name": "ipython",
    "version": 3
   },
   "file_extension": ".py",
   "mimetype": "text/x-python",
   "name": "python",
   "nbconvert_exporter": "python",
   "pygments_lexer": "ipython3",
   "version": "3.11.5"
  }
 },
 "nbformat": 4,
 "nbformat_minor": 1
}
