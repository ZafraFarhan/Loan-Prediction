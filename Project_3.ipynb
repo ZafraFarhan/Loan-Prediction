{
 "cells": [
  {
   "cell_type": "code",
   "execution_count": 3,
   "metadata": {},
   "outputs": [],
   "source": [
    "import pandas as pd\n",
    "df = pd.read_csv('C:\\\\Users\\\\acer\\\\Desktop\\\\Data Science\\\\DS 3003\\\\Project 03\\\\Dataset\\\\credit_train.csv')\n"
   ]
  },
  {
   "cell_type": "code",
   "execution_count": 8,
   "metadata": {
    "id": "8jHXhT1urIa6"
   },
   "outputs": [],
   "source": [
    "from sklearn.model_selection import train_test_split\n",
    "import matplotlib.pyplot as plt\n",
    "import seaborn as sns\n",
    "import numpy as np"
   ]
  },
  {
   "cell_type": "code",
   "execution_count": 5,
   "metadata": {
    "colab": {
     "base_uri": "https://localhost:8080/",
     "height": 538
    },
    "id": "wQQghcdGCw4D",
    "outputId": "32084f20-51a4-4ffe-f82d-a16fb81d32b7"
   },
   "outputs": [
    {
     "data": {
      "text/html": [
       "<div>\n",
       "<style scoped>\n",
       "    .dataframe tbody tr th:only-of-type {\n",
       "        vertical-align: middle;\n",
       "    }\n",
       "\n",
       "    .dataframe tbody tr th {\n",
       "        vertical-align: top;\n",
       "    }\n",
       "\n",
       "    .dataframe thead th {\n",
       "        text-align: right;\n",
       "    }\n",
       "</style>\n",
       "<table border=\"1\" class=\"dataframe\">\n",
       "  <thead>\n",
       "    <tr style=\"text-align: right;\">\n",
       "      <th></th>\n",
       "      <th>Loan ID</th>\n",
       "      <th>Customer ID</th>\n",
       "      <th>Loan Status</th>\n",
       "      <th>Current Loan Amount</th>\n",
       "      <th>Term</th>\n",
       "      <th>Credit Score</th>\n",
       "      <th>Annual Income</th>\n",
       "      <th>Years in current job</th>\n",
       "      <th>Home Ownership</th>\n",
       "      <th>Purpose</th>\n",
       "      <th>Monthly Debt</th>\n",
       "      <th>Years of Credit History</th>\n",
       "      <th>Months since last delinquent</th>\n",
       "      <th>Number of Open Accounts</th>\n",
       "      <th>Number of Credit Problems</th>\n",
       "      <th>Current Credit Balance</th>\n",
       "      <th>Maximum Open Credit</th>\n",
       "      <th>Bankruptcies</th>\n",
       "      <th>Tax Liens</th>\n",
       "    </tr>\n",
       "  </thead>\n",
       "  <tbody>\n",
       "    <tr>\n",
       "      <th>0</th>\n",
       "      <td>14dd8831-6af5-400b-83ec-68e61888a048</td>\n",
       "      <td>981165ec-3274-42f5-a3b4-d104041a9ca9</td>\n",
       "      <td>Fully Paid</td>\n",
       "      <td>445412.0</td>\n",
       "      <td>Short Term</td>\n",
       "      <td>709.0</td>\n",
       "      <td>1167493.0</td>\n",
       "      <td>8 years</td>\n",
       "      <td>Home Mortgage</td>\n",
       "      <td>Home Improvements</td>\n",
       "      <td>5214.74</td>\n",
       "      <td>17.2</td>\n",
       "      <td>NaN</td>\n",
       "      <td>6.0</td>\n",
       "      <td>1.0</td>\n",
       "      <td>228190.0</td>\n",
       "      <td>416746.0</td>\n",
       "      <td>1.0</td>\n",
       "      <td>0.0</td>\n",
       "    </tr>\n",
       "    <tr>\n",
       "      <th>1</th>\n",
       "      <td>4771cc26-131a-45db-b5aa-537ea4ba5342</td>\n",
       "      <td>2de017a3-2e01-49cb-a581-08169e83be29</td>\n",
       "      <td>Fully Paid</td>\n",
       "      <td>262328.0</td>\n",
       "      <td>Short Term</td>\n",
       "      <td>NaN</td>\n",
       "      <td>NaN</td>\n",
       "      <td>10+ years</td>\n",
       "      <td>Home Mortgage</td>\n",
       "      <td>Debt Consolidation</td>\n",
       "      <td>33295.98</td>\n",
       "      <td>21.1</td>\n",
       "      <td>8.0</td>\n",
       "      <td>35.0</td>\n",
       "      <td>0.0</td>\n",
       "      <td>229976.0</td>\n",
       "      <td>850784.0</td>\n",
       "      <td>0.0</td>\n",
       "      <td>0.0</td>\n",
       "    </tr>\n",
       "    <tr>\n",
       "      <th>2</th>\n",
       "      <td>4eed4e6a-aa2f-4c91-8651-ce984ee8fb26</td>\n",
       "      <td>5efb2b2b-bf11-4dfd-a572-3761a2694725</td>\n",
       "      <td>Fully Paid</td>\n",
       "      <td>99999999.0</td>\n",
       "      <td>Short Term</td>\n",
       "      <td>741.0</td>\n",
       "      <td>2231892.0</td>\n",
       "      <td>8 years</td>\n",
       "      <td>Own Home</td>\n",
       "      <td>Debt Consolidation</td>\n",
       "      <td>29200.53</td>\n",
       "      <td>14.9</td>\n",
       "      <td>29.0</td>\n",
       "      <td>18.0</td>\n",
       "      <td>1.0</td>\n",
       "      <td>297996.0</td>\n",
       "      <td>750090.0</td>\n",
       "      <td>0.0</td>\n",
       "      <td>0.0</td>\n",
       "    </tr>\n",
       "    <tr>\n",
       "      <th>3</th>\n",
       "      <td>77598f7b-32e7-4e3b-a6e5-06ba0d98fe8a</td>\n",
       "      <td>e777faab-98ae-45af-9a86-7ce5b33b1011</td>\n",
       "      <td>Fully Paid</td>\n",
       "      <td>347666.0</td>\n",
       "      <td>Long Term</td>\n",
       "      <td>721.0</td>\n",
       "      <td>806949.0</td>\n",
       "      <td>3 years</td>\n",
       "      <td>Own Home</td>\n",
       "      <td>Debt Consolidation</td>\n",
       "      <td>8741.90</td>\n",
       "      <td>12.0</td>\n",
       "      <td>NaN</td>\n",
       "      <td>9.0</td>\n",
       "      <td>0.0</td>\n",
       "      <td>256329.0</td>\n",
       "      <td>386958.0</td>\n",
       "      <td>0.0</td>\n",
       "      <td>0.0</td>\n",
       "    </tr>\n",
       "    <tr>\n",
       "      <th>4</th>\n",
       "      <td>d4062e70-befa-4995-8643-a0de73938182</td>\n",
       "      <td>81536ad9-5ccf-4eb8-befb-47a4d608658e</td>\n",
       "      <td>Fully Paid</td>\n",
       "      <td>176220.0</td>\n",
       "      <td>Short Term</td>\n",
       "      <td>NaN</td>\n",
       "      <td>NaN</td>\n",
       "      <td>5 years</td>\n",
       "      <td>Rent</td>\n",
       "      <td>Debt Consolidation</td>\n",
       "      <td>20639.70</td>\n",
       "      <td>6.1</td>\n",
       "      <td>NaN</td>\n",
       "      <td>15.0</td>\n",
       "      <td>0.0</td>\n",
       "      <td>253460.0</td>\n",
       "      <td>427174.0</td>\n",
       "      <td>0.0</td>\n",
       "      <td>0.0</td>\n",
       "    </tr>\n",
       "  </tbody>\n",
       "</table>\n",
       "</div>"
      ],
      "text/plain": [
       "                                Loan ID                           Customer ID  \\\n",
       "0  14dd8831-6af5-400b-83ec-68e61888a048  981165ec-3274-42f5-a3b4-d104041a9ca9   \n",
       "1  4771cc26-131a-45db-b5aa-537ea4ba5342  2de017a3-2e01-49cb-a581-08169e83be29   \n",
       "2  4eed4e6a-aa2f-4c91-8651-ce984ee8fb26  5efb2b2b-bf11-4dfd-a572-3761a2694725   \n",
       "3  77598f7b-32e7-4e3b-a6e5-06ba0d98fe8a  e777faab-98ae-45af-9a86-7ce5b33b1011   \n",
       "4  d4062e70-befa-4995-8643-a0de73938182  81536ad9-5ccf-4eb8-befb-47a4d608658e   \n",
       "\n",
       "  Loan Status  Current Loan Amount        Term  Credit Score  Annual Income  \\\n",
       "0  Fully Paid             445412.0  Short Term         709.0      1167493.0   \n",
       "1  Fully Paid             262328.0  Short Term           NaN            NaN   \n",
       "2  Fully Paid           99999999.0  Short Term         741.0      2231892.0   \n",
       "3  Fully Paid             347666.0   Long Term         721.0       806949.0   \n",
       "4  Fully Paid             176220.0  Short Term           NaN            NaN   \n",
       "\n",
       "  Years in current job Home Ownership             Purpose  Monthly Debt  \\\n",
       "0              8 years  Home Mortgage   Home Improvements       5214.74   \n",
       "1            10+ years  Home Mortgage  Debt Consolidation      33295.98   \n",
       "2              8 years       Own Home  Debt Consolidation      29200.53   \n",
       "3              3 years       Own Home  Debt Consolidation       8741.90   \n",
       "4              5 years           Rent  Debt Consolidation      20639.70   \n",
       "\n",
       "   Years of Credit History  Months since last delinquent  \\\n",
       "0                     17.2                           NaN   \n",
       "1                     21.1                           8.0   \n",
       "2                     14.9                          29.0   \n",
       "3                     12.0                           NaN   \n",
       "4                      6.1                           NaN   \n",
       "\n",
       "   Number of Open Accounts  Number of Credit Problems  Current Credit Balance  \\\n",
       "0                      6.0                        1.0                228190.0   \n",
       "1                     35.0                        0.0                229976.0   \n",
       "2                     18.0                        1.0                297996.0   \n",
       "3                      9.0                        0.0                256329.0   \n",
       "4                     15.0                        0.0                253460.0   \n",
       "\n",
       "   Maximum Open Credit  Bankruptcies  Tax Liens  \n",
       "0             416746.0           1.0        0.0  \n",
       "1             850784.0           0.0        0.0  \n",
       "2             750090.0           0.0        0.0  \n",
       "3             386958.0           0.0        0.0  \n",
       "4             427174.0           0.0        0.0  "
      ]
     },
     "execution_count": 5,
     "metadata": {},
     "output_type": "execute_result"
    }
   ],
   "source": [
    "df.head()"
   ]
  },
  {
   "cell_type": "code",
   "execution_count": 6,
   "metadata": {
    "colab": {
     "base_uri": "https://localhost:8080/",
     "height": 335
    },
    "id": "RMvoRZ02CwyF",
    "outputId": "a627fe3c-a580-4a43-c7db-fb85d213f7cf"
   },
   "outputs": [
    {
     "data": {
      "text/html": [
       "<div>\n",
       "<style scoped>\n",
       "    .dataframe tbody tr th:only-of-type {\n",
       "        vertical-align: middle;\n",
       "    }\n",
       "\n",
       "    .dataframe tbody tr th {\n",
       "        vertical-align: top;\n",
       "    }\n",
       "\n",
       "    .dataframe thead th {\n",
       "        text-align: right;\n",
       "    }\n",
       "</style>\n",
       "<table border=\"1\" class=\"dataframe\">\n",
       "  <thead>\n",
       "    <tr style=\"text-align: right;\">\n",
       "      <th></th>\n",
       "      <th>Current Loan Amount</th>\n",
       "      <th>Credit Score</th>\n",
       "      <th>Annual Income</th>\n",
       "      <th>Monthly Debt</th>\n",
       "      <th>Years of Credit History</th>\n",
       "      <th>Months since last delinquent</th>\n",
       "      <th>Number of Open Accounts</th>\n",
       "      <th>Number of Credit Problems</th>\n",
       "      <th>Current Credit Balance</th>\n",
       "      <th>Maximum Open Credit</th>\n",
       "      <th>Bankruptcies</th>\n",
       "      <th>Tax Liens</th>\n",
       "    </tr>\n",
       "  </thead>\n",
       "  <tbody>\n",
       "    <tr>\n",
       "      <th>count</th>\n",
       "      <td>1.000000e+05</td>\n",
       "      <td>80846.000000</td>\n",
       "      <td>8.084600e+04</td>\n",
       "      <td>100000.000000</td>\n",
       "      <td>100000.000000</td>\n",
       "      <td>46859.000000</td>\n",
       "      <td>100000.00000</td>\n",
       "      <td>100000.000000</td>\n",
       "      <td>1.000000e+05</td>\n",
       "      <td>9.999800e+04</td>\n",
       "      <td>99796.000000</td>\n",
       "      <td>99990.000000</td>\n",
       "    </tr>\n",
       "    <tr>\n",
       "      <th>mean</th>\n",
       "      <td>1.176045e+07</td>\n",
       "      <td>1076.456089</td>\n",
       "      <td>1.378277e+06</td>\n",
       "      <td>18472.412336</td>\n",
       "      <td>18.199141</td>\n",
       "      <td>34.901321</td>\n",
       "      <td>11.12853</td>\n",
       "      <td>0.168310</td>\n",
       "      <td>2.946374e+05</td>\n",
       "      <td>7.607984e+05</td>\n",
       "      <td>0.117740</td>\n",
       "      <td>0.029313</td>\n",
       "    </tr>\n",
       "    <tr>\n",
       "      <th>std</th>\n",
       "      <td>3.178394e+07</td>\n",
       "      <td>1475.403791</td>\n",
       "      <td>1.081360e+06</td>\n",
       "      <td>12174.992609</td>\n",
       "      <td>7.015324</td>\n",
       "      <td>21.997829</td>\n",
       "      <td>5.00987</td>\n",
       "      <td>0.482705</td>\n",
       "      <td>3.761709e+05</td>\n",
       "      <td>8.384503e+06</td>\n",
       "      <td>0.351424</td>\n",
       "      <td>0.258182</td>\n",
       "    </tr>\n",
       "    <tr>\n",
       "      <th>min</th>\n",
       "      <td>1.080200e+04</td>\n",
       "      <td>585.000000</td>\n",
       "      <td>7.662700e+04</td>\n",
       "      <td>0.000000</td>\n",
       "      <td>3.600000</td>\n",
       "      <td>0.000000</td>\n",
       "      <td>0.00000</td>\n",
       "      <td>0.000000</td>\n",
       "      <td>0.000000e+00</td>\n",
       "      <td>0.000000e+00</td>\n",
       "      <td>0.000000</td>\n",
       "      <td>0.000000</td>\n",
       "    </tr>\n",
       "    <tr>\n",
       "      <th>25%</th>\n",
       "      <td>1.796520e+05</td>\n",
       "      <td>705.000000</td>\n",
       "      <td>8.488440e+05</td>\n",
       "      <td>10214.162500</td>\n",
       "      <td>13.500000</td>\n",
       "      <td>16.000000</td>\n",
       "      <td>8.00000</td>\n",
       "      <td>0.000000</td>\n",
       "      <td>1.126700e+05</td>\n",
       "      <td>2.734380e+05</td>\n",
       "      <td>0.000000</td>\n",
       "      <td>0.000000</td>\n",
       "    </tr>\n",
       "    <tr>\n",
       "      <th>50%</th>\n",
       "      <td>3.122460e+05</td>\n",
       "      <td>724.000000</td>\n",
       "      <td>1.174162e+06</td>\n",
       "      <td>16220.300000</td>\n",
       "      <td>16.900000</td>\n",
       "      <td>32.000000</td>\n",
       "      <td>10.00000</td>\n",
       "      <td>0.000000</td>\n",
       "      <td>2.098170e+05</td>\n",
       "      <td>4.678740e+05</td>\n",
       "      <td>0.000000</td>\n",
       "      <td>0.000000</td>\n",
       "    </tr>\n",
       "    <tr>\n",
       "      <th>75%</th>\n",
       "      <td>5.249420e+05</td>\n",
       "      <td>741.000000</td>\n",
       "      <td>1.650663e+06</td>\n",
       "      <td>24012.057500</td>\n",
       "      <td>21.700000</td>\n",
       "      <td>51.000000</td>\n",
       "      <td>14.00000</td>\n",
       "      <td>0.000000</td>\n",
       "      <td>3.679588e+05</td>\n",
       "      <td>7.829580e+05</td>\n",
       "      <td>0.000000</td>\n",
       "      <td>0.000000</td>\n",
       "    </tr>\n",
       "    <tr>\n",
       "      <th>max</th>\n",
       "      <td>1.000000e+08</td>\n",
       "      <td>7510.000000</td>\n",
       "      <td>1.655574e+08</td>\n",
       "      <td>435843.280000</td>\n",
       "      <td>70.500000</td>\n",
       "      <td>176.000000</td>\n",
       "      <td>76.00000</td>\n",
       "      <td>15.000000</td>\n",
       "      <td>3.287897e+07</td>\n",
       "      <td>1.539738e+09</td>\n",
       "      <td>7.000000</td>\n",
       "      <td>15.000000</td>\n",
       "    </tr>\n",
       "  </tbody>\n",
       "</table>\n",
       "</div>"
      ],
      "text/plain": [
       "       Current Loan Amount  Credit Score  Annual Income   Monthly Debt  \\\n",
       "count         1.000000e+05  80846.000000   8.084600e+04  100000.000000   \n",
       "mean          1.176045e+07   1076.456089   1.378277e+06   18472.412336   \n",
       "std           3.178394e+07   1475.403791   1.081360e+06   12174.992609   \n",
       "min           1.080200e+04    585.000000   7.662700e+04       0.000000   \n",
       "25%           1.796520e+05    705.000000   8.488440e+05   10214.162500   \n",
       "50%           3.122460e+05    724.000000   1.174162e+06   16220.300000   \n",
       "75%           5.249420e+05    741.000000   1.650663e+06   24012.057500   \n",
       "max           1.000000e+08   7510.000000   1.655574e+08  435843.280000   \n",
       "\n",
       "       Years of Credit History  Months since last delinquent  \\\n",
       "count            100000.000000                  46859.000000   \n",
       "mean                 18.199141                     34.901321   \n",
       "std                   7.015324                     21.997829   \n",
       "min                   3.600000                      0.000000   \n",
       "25%                  13.500000                     16.000000   \n",
       "50%                  16.900000                     32.000000   \n",
       "75%                  21.700000                     51.000000   \n",
       "max                  70.500000                    176.000000   \n",
       "\n",
       "       Number of Open Accounts  Number of Credit Problems  \\\n",
       "count             100000.00000              100000.000000   \n",
       "mean                  11.12853                   0.168310   \n",
       "std                    5.00987                   0.482705   \n",
       "min                    0.00000                   0.000000   \n",
       "25%                    8.00000                   0.000000   \n",
       "50%                   10.00000                   0.000000   \n",
       "75%                   14.00000                   0.000000   \n",
       "max                   76.00000                  15.000000   \n",
       "\n",
       "       Current Credit Balance  Maximum Open Credit  Bankruptcies     Tax Liens  \n",
       "count            1.000000e+05         9.999800e+04  99796.000000  99990.000000  \n",
       "mean             2.946374e+05         7.607984e+05      0.117740      0.029313  \n",
       "std              3.761709e+05         8.384503e+06      0.351424      0.258182  \n",
       "min              0.000000e+00         0.000000e+00      0.000000      0.000000  \n",
       "25%              1.126700e+05         2.734380e+05      0.000000      0.000000  \n",
       "50%              2.098170e+05         4.678740e+05      0.000000      0.000000  \n",
       "75%              3.679588e+05         7.829580e+05      0.000000      0.000000  \n",
       "max              3.287897e+07         1.539738e+09      7.000000     15.000000  "
      ]
     },
     "execution_count": 6,
     "metadata": {},
     "output_type": "execute_result"
    }
   ],
   "source": [
    "df.describe()"
   ]
  },
  {
   "cell_type": "code",
   "execution_count": 9,
   "metadata": {
    "colab": {
     "base_uri": "https://localhost:8080/"
    },
    "id": "TRMVmMUeCwus",
    "outputId": "8362ca48-8d93-4e9e-9983-755c1d880cd9"
   },
   "outputs": [
    {
     "name": "stdout",
     "output_type": "stream",
     "text": [
      "<class 'pandas.core.frame.DataFrame'>\n",
      "RangeIndex: 100514 entries, 0 to 100513\n",
      "Data columns (total 19 columns):\n",
      " #   Column                        Non-Null Count   Dtype  \n",
      "---  ------                        --------------   -----  \n",
      " 0   Loan ID                       100000 non-null  object \n",
      " 1   Customer ID                   100000 non-null  object \n",
      " 2   Loan Status                   100000 non-null  object \n",
      " 3   Current Loan Amount           100000 non-null  float64\n",
      " 4   Term                          100000 non-null  object \n",
      " 5   Credit Score                  80846 non-null   float64\n",
      " 6   Annual Income                 80846 non-null   float64\n",
      " 7   Years in current job          95778 non-null   object \n",
      " 8   Home Ownership                100000 non-null  object \n",
      " 9   Purpose                       100000 non-null  object \n",
      " 10  Monthly Debt                  100000 non-null  float64\n",
      " 11  Years of Credit History       100000 non-null  float64\n",
      " 12  Months since last delinquent  46859 non-null   float64\n",
      " 13  Number of Open Accounts       100000 non-null  float64\n",
      " 14  Number of Credit Problems     100000 non-null  float64\n",
      " 15  Current Credit Balance        100000 non-null  float64\n",
      " 16  Maximum Open Credit           99998 non-null   float64\n",
      " 17  Bankruptcies                  99796 non-null   float64\n",
      " 18  Tax Liens                     99990 non-null   float64\n",
      "dtypes: float64(12), object(7)\n",
      "memory usage: 14.6+ MB\n"
     ]
    }
   ],
   "source": [
    "df.info()"
   ]
  },
  {
   "cell_type": "markdown",
   "metadata": {
    "id": "eYnhH_I6C1dK"
   },
   "source": [
    "**Duplicates**"
   ]
  },
  {
   "cell_type": "code",
   "execution_count": 10,
   "metadata": {
    "colab": {
     "base_uri": "https://localhost:8080/"
    },
    "id": "WLJKzfwqRh65",
    "outputId": "fc3b8c34-928d-482c-b9f0-615790d8b002"
   },
   "outputs": [
    {
     "name": "stdout",
     "output_type": "stream",
     "text": [
      "10728\n",
      "<class 'pandas.core.frame.DataFrame'>\n",
      "Index: 89786 entries, 0 to 100000\n",
      "Data columns (total 19 columns):\n",
      " #   Column                        Non-Null Count  Dtype  \n",
      "---  ------                        --------------  -----  \n",
      " 0   Loan ID                       89785 non-null  object \n",
      " 1   Customer ID                   89785 non-null  object \n",
      " 2   Loan Status                   89785 non-null  object \n",
      " 3   Current Loan Amount           89785 non-null  float64\n",
      " 4   Term                          89785 non-null  object \n",
      " 5   Credit Score                  70631 non-null  float64\n",
      " 6   Annual Income                 70631 non-null  float64\n",
      " 7   Years in current job          85983 non-null  object \n",
      " 8   Home Ownership                89785 non-null  object \n",
      " 9   Purpose                       89785 non-null  object \n",
      " 10  Monthly Debt                  89785 non-null  float64\n",
      " 11  Years of Credit History       89785 non-null  float64\n",
      " 12  Months since last delinquent  41448 non-null  float64\n",
      " 13  Number of Open Accounts       89785 non-null  float64\n",
      " 14  Number of Credit Problems     89785 non-null  float64\n",
      " 15  Current Credit Balance        89785 non-null  float64\n",
      " 16  Maximum Open Credit           89783 non-null  float64\n",
      " 17  Bankruptcies                  89595 non-null  float64\n",
      " 18  Tax Liens                     89776 non-null  float64\n",
      "dtypes: float64(12), object(7)\n",
      "memory usage: 13.7+ MB\n"
     ]
    }
   ],
   "source": [
    "duplicates=df[df.duplicated()].shape[0]\n",
    "print(duplicates)\n",
    "\n",
    "df.drop_duplicates(inplace = True)\n",
    "df.info()"
   ]
  },
  {
   "cell_type": "code",
   "execution_count": 11,
   "metadata": {
    "id": "Yo91_Z51G0H2"
   },
   "outputs": [],
   "source": [
    "df['Current Loan Amount'] = df['Current Loan Amount'].replace(99999999.0, np.nan)"
   ]
  },
  {
   "cell_type": "code",
   "execution_count": 12,
   "metadata": {
    "id": "psh9Y2UpNwqG"
   },
   "outputs": [],
   "source": [
    "df[['Maximum Open Credit']] = df[['Maximum Open Credit']].replace(0, np.nan)"
   ]
  },
  {
   "cell_type": "code",
   "execution_count": 13,
   "metadata": {
    "id": "RfKqFus0vjDE"
   },
   "outputs": [],
   "source": [
    "df[['Bankruptcies']] = df[['Bankruptcies']].replace(-1, np.nan)"
   ]
  },
  {
   "cell_type": "code",
   "execution_count": 14,
   "metadata": {
    "id": "1KAIKJ3-vkR6"
   },
   "outputs": [],
   "source": [
    "df[['Tax Liens']] = df[['Tax Liens']].replace(-1, np.nan)"
   ]
  },
  {
   "cell_type": "code",
   "execution_count": 15,
   "metadata": {
    "id": "G-IbLcu-O1lk"
   },
   "outputs": [],
   "source": [
    "df.drop(index=100000, inplace=True)"
   ]
  },
  {
   "cell_type": "code",
   "execution_count": 16,
   "metadata": {
    "id": "L0CTmWdHWtbH"
   },
   "outputs": [],
   "source": [
    "df.drop(columns=['Loan ID','Customer ID'], inplace=True)"
   ]
  },
  {
   "cell_type": "code",
   "execution_count": null,
   "metadata": {
    "id": "iHOKFZqNK5Vy"
   },
   "outputs": [],
   "source": [
    "#df['Credit Utilization %'] = df['Current Credit Balance']*100 / df['Maximum Open Credit']\n",
    "#df.drop(columns=['Current Credit Balance','Maximum Open Credit','Loan ID','Customer ID'], inplace=True)\n",
    "#df.info()"
   ]
  },
  {
   "cell_type": "code",
   "execution_count": null,
   "metadata": {
    "id": "z07_TjYCOliF"
   },
   "outputs": [],
   "source": [
    "#df[df['Credit Utilization %']>100]"
   ]
  },
  {
   "cell_type": "markdown",
   "metadata": {
    "id": "jrJZVL5-dlru"
   },
   "source": [
    "**Encoding**"
   ]
  },
  {
   "cell_type": "code",
   "execution_count": null,
   "metadata": {
    "colab": {
     "base_uri": "https://localhost:8080/"
    },
    "id": "A9PXWG1tdpVl",
    "outputId": "7dd121a2-f5f2-47a3-ea7a-cc4cefa2456e"
   },
   "outputs": [],
   "source": [
    "df[\"Purpose\"].value_counts()"
   ]
  },
  {
   "cell_type": "code",
   "execution_count": 17,
   "metadata": {
    "id": "7_mKbc6Xdp5h"
   },
   "outputs": [],
   "source": [
    "# Recategorize 'Purpose' into 5 groups\n",
    "def categorize_purpose(purpose):\n",
    "    if purpose in ['Debt Consolidation']:\n",
    "        return 'Debt Consolidation'\n",
    "    elif purpose in ['Business Loan', 'small_business']:\n",
    "        return 'Business Loan'\n",
    "    elif purpose in ['Home Improvements', 'Buy House']:\n",
    "        return 'House Loan'\n",
    "    elif purpose in ['Educational Expenses', 'Buy a Car', 'Medical Bills', 'Take a Trip', 'wedding', 'vacation','moving']:\n",
    "        return 'Personal Loan'\n",
    "    else:\n",
    "        return 'Other '\n",
    "\n",
    "# Apply the categorization function to the 'Purpose' column\n",
    "df['Purpose'] = df['Purpose'].apply(categorize_purpose)"
   ]
  },
  {
   "cell_type": "code",
   "execution_count": 18,
   "metadata": {
    "colab": {
     "base_uri": "https://localhost:8080/"
    },
    "id": "dsPVDclGdprw",
    "outputId": "aee8bda2-2f9d-4c7a-bb9e-ad92dd1e17a3"
   },
   "outputs": [
    {
     "data": {
      "text/plain": [
       "Years in current job\n",
       "10+ years    27755\n",
       "2 years       8254\n",
       "< 1 year      7365\n",
       "3 years       7339\n",
       "5 years       6136\n",
       "1 year        5832\n",
       "4 years       5511\n",
       "6 years       5134\n",
       "7 years       4989\n",
       "8 years       4121\n",
       "9 years       3547\n",
       "Name: count, dtype: int64"
      ]
     },
     "execution_count": 18,
     "metadata": {},
     "output_type": "execute_result"
    }
   ],
   "source": [
    "df[\"Years in current job\"].value_counts()"
   ]
  },
  {
   "cell_type": "code",
   "execution_count": 19,
   "metadata": {
    "id": "roKCJooOdpoX"
   },
   "outputs": [],
   "source": [
    "# Recategorize into 4 levels\n",
    "def categorize_years(years):\n",
    "    if isinstance(years, str) and '10+ years' in years:\n",
    "        return '10+ years'\n",
    "    elif isinstance(years, str) and years in ['9 years', '8 years', '7 years']:\n",
    "        return '7-9 years'\n",
    "    elif isinstance(years, str) and years in ['6 years', '5 years', '4 years','3 years']:\n",
    "        return '3-6 years'\n",
    "    elif isinstance(years, str):\n",
    "        return '< 3 years'\n",
    "    else:\n",
    "        return 'Missing or Invalid'\n",
    "\n",
    "# Apply the categorization function to the 'Years in current job' column\n",
    "df['Years in current job'] = df['Years in current job'].apply(categorize_years)\n"
   ]
  },
  {
   "cell_type": "code",
   "execution_count": null,
   "metadata": {
    "colab": {
     "base_uri": "https://localhost:8080/",
     "height": 649
    },
    "id": "sTwES4DOd9G3",
    "outputId": "e3d85e7f-ebf6-4c04-98b9-beeacc3d11d4"
   },
   "outputs": [],
   "source": [
    "df"
   ]
  },
  {
   "cell_type": "code",
   "execution_count": null,
   "metadata": {
    "id": "RS4fzaOSw2AK"
   },
   "outputs": [],
   "source": []
  },
  {
   "cell_type": "code",
   "execution_count": 20,
   "metadata": {
    "id": "rXOgB-5Pd9DO"
   },
   "outputs": [],
   "source": [
    "#convert \"Loan Status\" into numerical values\n",
    "df[\"Loan Status\"] = df[\"Loan Status\"].astype('category')\n",
    "df[\"Loan Status\"] = df[\"Loan Status\"].cat.codes\n",
    "\n",
    "#convert \"Term\" into numerical values\n",
    "df[\"Term\"] = df[\"Term\"].astype('category')\n",
    "df[\"Term\"] = df[\"Term\"].cat.codes\n",
    "\n",
    "#convert \"Home Ownership\t\" into numerical values\n",
    "df[\"Home Ownership\"] = df[\"Home Ownership\"].astype('category')\n",
    "df[\"Home Ownership\"] = df[\"Home Ownership\"].cat.codes\n",
    "\n",
    "#convert \"Purpose\" into numerical values\n",
    "df[\"Purpose\"] = df[\"Purpose\"].astype('category')\n",
    "df[\"Purpose\"] = df[\"Purpose\"].cat.codes\n",
    "\n",
    "#convert \"Years in current job\" into numerical values\n",
    "df[\"Years in current job\"] = df[\"Years in current job\"].astype('category')\n",
    "df[\"Years in current job\"] = df[\"Years in current job\"].cat.codes\n"
   ]
  },
  {
   "cell_type": "code",
   "execution_count": null,
   "metadata": {
    "colab": {
     "base_uri": "https://localhost:8080/",
     "height": 458
    },
    "id": "edzXrCq9__cL",
    "outputId": "052cd807-18ed-4f36-a802-d6e0d5fdb0db"
   },
   "outputs": [],
   "source": [
    "df"
   ]
  },
  {
   "cell_type": "code",
   "execution_count": null,
   "metadata": {
    "colab": {
     "base_uri": "https://localhost:8080/"
    },
    "id": "Vhdr_B2W6Ifj",
    "outputId": "485d7bf5-69a5-4dc2-cf33-f2f5488abc3b"
   },
   "outputs": [],
   "source": [
    "df.info()"
   ]
  },
  {
   "cell_type": "code",
   "execution_count": null,
   "metadata": {
    "colab": {
     "base_uri": "https://localhost:8080/"
    },
    "id": "xWmyo8Fod9Ad",
    "outputId": "8d9368bc-eaa8-4b13-a231-f42a2d0f7b10"
   },
   "outputs": [],
   "source": [
    "df[\"Bankruptcies\"].value_counts()"
   ]
  },
  {
   "cell_type": "code",
   "execution_count": null,
   "metadata": {
    "id": "n6FTO59kzxRp"
   },
   "outputs": [],
   "source": [
    "# # Recategorize into 4 levels\n",
    "# def categorize_Bankruptcies(Bankruptcies):\n",
    "#     if Bankruptcies >= 3:\n",
    "#         return '3+'\n",
    "#     elif Bankruptcies == 1:\n",
    "#         return '1'\n",
    "#     elif Bankruptcies == 2:\n",
    "#       return '2'\n",
    "#     elif Bankruptcies == 0:\n",
    "#       return '0'\n",
    "#     else:\n",
    "#         return np.nan\n",
    "\n",
    "# # Apply the categorization function to the 'Bankruptcies' column\n",
    "# df['Bankruptcies'] = df['Bankruptcies'].apply(categorize_Bankruptcies)\n"
   ]
  },
  {
   "cell_type": "code",
   "execution_count": null,
   "metadata": {
    "colab": {
     "base_uri": "https://localhost:8080/"
    },
    "id": "P3C0hONY2J0-",
    "outputId": "86007723-2461-43b9-c11f-e2cb02720590"
   },
   "outputs": [],
   "source": [
    " df[\"Tax Liens\"].value_counts()"
   ]
  },
  {
   "cell_type": "code",
   "execution_count": null,
   "metadata": {
    "id": "-eaKFqS92Jxs"
   },
   "outputs": [],
   "source": [
    "# # Recategorize into 4 levels\n",
    "# def categorize_Tax_Liens(Tax_Liens):\n",
    "#     if Tax_Liens >= 3:\n",
    "#         return '3+'\n",
    "#     elif Tax_Liens == 1:\n",
    "#         return '1'\n",
    "#     elif Tax_Liens == 2:\n",
    "#       return '2'\n",
    "#     elif Tax_Liens == 0:\n",
    "#       return '0'\n",
    "#     else:\n",
    "#         return np.nan\n",
    "\n",
    "# # Apply the categorization function to the 'Bankruptcies' column\n",
    "# df['Tax Liens'] = df['Tax Liens'].apply(categorize_Bankruptcies)\n"
   ]
  },
  {
   "cell_type": "code",
   "execution_count": null,
   "metadata": {
    "id": "njc2ntOw2JrG"
   },
   "outputs": [],
   "source": []
  },
  {
   "cell_type": "markdown",
   "metadata": {
    "id": "aOAitxFR7YvI"
   },
   "source": [
    "**Split**"
   ]
  },
  {
   "cell_type": "code",
   "execution_count": 21,
   "metadata": {
    "colab": {
     "base_uri": "https://localhost:8080/"
    },
    "id": "217bbcytiQB9",
    "outputId": "dc689bdd-bf22-4b71-dfba-87904c28287d"
   },
   "outputs": [
    {
     "name": "stdout",
     "output_type": "stream",
     "text": [
      "<class 'pandas.core.frame.DataFrame'>\n",
      "Index: 62849 entries, 60607 to 16057\n",
      "Data columns (total 17 columns):\n",
      " #   Column                        Non-Null Count  Dtype  \n",
      "---  ------                        --------------  -----  \n",
      " 0   Loan Status                   62849 non-null  int8   \n",
      " 1   Current Loan Amount           54777 non-null  float64\n",
      " 2   Term                          62849 non-null  int8   \n",
      " 3   Credit Score                  49396 non-null  float64\n",
      " 4   Annual Income                 49396 non-null  float64\n",
      " 5   Years in current job          62849 non-null  int8   \n",
      " 6   Home Ownership                62849 non-null  int8   \n",
      " 7   Purpose                       62849 non-null  int8   \n",
      " 8   Monthly Debt                  62849 non-null  float64\n",
      " 9   Years of Credit History       62849 non-null  float64\n",
      " 10  Months since last delinquent  29043 non-null  float64\n",
      " 11  Number of Open Accounts       62849 non-null  float64\n",
      " 12  Number of Credit Problems     62849 non-null  float64\n",
      " 13  Current Credit Balance        62849 non-null  float64\n",
      " 14  Maximum Open Credit           62394 non-null  float64\n",
      " 15  Bankruptcies                  62708 non-null  float64\n",
      " 16  Tax Liens                     62845 non-null  float64\n",
      "dtypes: float64(12), int8(5)\n",
      "memory usage: 6.5 MB\n"
     ]
    }
   ],
   "source": [
    "#split\n",
    "x_train, x_test = train_test_split(df, test_size=0.3, random_state=42)\n",
    "x_train.info()"
   ]
  },
  {
   "cell_type": "markdown",
   "metadata": {
    "id": "NLjICznH_SUO"
   },
   "source": [
    "**Missing Values**"
   ]
  },
  {
   "cell_type": "markdown",
   "metadata": {
    "id": "JymXal42AU9d"
   },
   "source": [
    "Missing values in train set"
   ]
  },
  {
   "cell_type": "code",
   "execution_count": 22,
   "metadata": {
    "colab": {
     "base_uri": "https://localhost:8080/"
    },
    "id": "rppPp0LzRh4O",
    "outputId": "18e786f0-6d5b-4177-bdba-73b3ec39e15f"
   },
   "outputs": [
    {
     "name": "stdout",
     "output_type": "stream",
     "text": [
      "Loan Status                      0.000000\n",
      "Current Loan Amount             12.843482\n",
      "Term                             0.000000\n",
      "Credit Score                    21.405273\n",
      "Annual Income                   21.405273\n",
      "Years in current job             0.000000\n",
      "Home Ownership                   0.000000\n",
      "Purpose                          0.000000\n",
      "Monthly Debt                     0.000000\n",
      "Years of Credit History          0.000000\n",
      "Months since last delinquent    53.789241\n",
      "Number of Open Accounts          0.000000\n",
      "Number of Credit Problems        0.000000\n",
      "Current Credit Balance           0.000000\n",
      "Maximum Open Credit              0.723957\n",
      "Bankruptcies                     0.224347\n",
      "Tax Liens                        0.006364\n",
      "dtype: float64\n"
     ]
    }
   ],
   "source": [
    "percentage_missing = (x_train.isnull().sum() / len(x_train)) * 100\n",
    "print(percentage_missing)"
   ]
  },
  {
   "cell_type": "markdown",
   "metadata": {
    "id": "F4joUchVAeSg"
   },
   "source": [
    "Missing values in test set"
   ]
  },
  {
   "cell_type": "code",
   "execution_count": 23,
   "metadata": {
    "colab": {
     "base_uri": "https://localhost:8080/"
    },
    "id": "SSIcwEwh0LBI",
    "outputId": "4dddd687-38cb-43e8-bf5f-ea633809fc34"
   },
   "outputs": [
    {
     "name": "stdout",
     "output_type": "stream",
     "text": [
      "Loan Status                      0.000000\n",
      "Current Loan Amount             12.667063\n",
      "Term                             0.000000\n",
      "Credit Score                    21.164984\n",
      "Annual Income                   21.164984\n",
      "Years in current job             0.000000\n",
      "Home Ownership                   0.000000\n",
      "Purpose                          0.000000\n",
      "Monthly Debt                     0.000000\n",
      "Years of Credit History          0.000000\n",
      "Months since last delinquent    53.946391\n",
      "Number of Open Accounts          0.000000\n",
      "Number of Credit Problems        0.000000\n",
      "Current Credit Balance           0.000000\n",
      "Maximum Open Credit              0.649688\n",
      "Bankruptcies                     0.181913\n",
      "Tax Liens                        0.018563\n",
      "dtype: float64\n"
     ]
    }
   ],
   "source": [
    "percentage_missing = (x_test.isnull().sum() / len(x_test)) * 100\n",
    "print(percentage_missing)"
   ]
  },
  {
   "cell_type": "code",
   "execution_count": 24,
   "metadata": {
    "id": "10DgZaVPES6M"
   },
   "outputs": [],
   "source": [
    "a=x_train['Credit Score'].median()\n",
    "x_train['Credit Score'].fillna(a, inplace=True)\n",
    "x_test['Credit Score'].fillna(a, inplace=True)\n",
    "\n",
    "b=x_train['Annual Income'].median()\n",
    "x_train['Annual Income'].fillna(b, inplace=True)\n",
    "x_test['Annual Income'].fillna(b, inplace=True)\n",
    "\n",
    "c=x_train['Current Loan Amount'].median()\n",
    "x_train['Current Loan Amount'].fillna(c, inplace=True)\n",
    "x_test['Current Loan Amount'].fillna(c, inplace=True)\n"
   ]
  },
  {
   "cell_type": "code",
   "execution_count": 25,
   "metadata": {
    "id": "OWykRCrxFjIH"
   },
   "outputs": [],
   "source": [
    "x_train.dropna(subset=['Tax Liens','Maximum Open Credit','Bankruptcies'],inplace=True)\n",
    "x_test.dropna(subset=['Tax Liens','Maximum Open Credit','Bankruptcies'],inplace=True)\n"
   ]
  },
  {
   "cell_type": "markdown",
   "metadata": {
    "id": "4nKwj2op6fuh"
   },
   "source": [
    "**df_dropped(without Months since last delinquent)**"
   ]
  },
  {
   "cell_type": "code",
   "execution_count": 26,
   "metadata": {
    "id": "YdXVNVdL6Fi0"
   },
   "outputs": [],
   "source": [
    "x_train_dropped = x_train.drop(columns=['Months since last delinquent'], axis=1)\n",
    "x_test_dropped = x_test.drop(columns=['Months since last delinquent'], axis=1)"
   ]
  },
  {
   "cell_type": "code",
   "execution_count": 27,
   "metadata": {
    "colab": {
     "base_uri": "https://localhost:8080/"
    },
    "id": "OqUJt8N-ES4P",
    "outputId": "b034826f-4210-41dd-9dd9-ed96694ad351"
   },
   "outputs": [
    {
     "data": {
      "text/plain": [
       "Loan Status                  0.0\n",
       "Current Loan Amount          0.0\n",
       "Term                         0.0\n",
       "Credit Score                 0.0\n",
       "Annual Income                0.0\n",
       "Years in current job         0.0\n",
       "Home Ownership               0.0\n",
       "Purpose                      0.0\n",
       "Monthly Debt                 0.0\n",
       "Years of Credit History      0.0\n",
       "Number of Open Accounts      0.0\n",
       "Number of Credit Problems    0.0\n",
       "Current Credit Balance       0.0\n",
       "Maximum Open Credit          0.0\n",
       "Bankruptcies                 0.0\n",
       "Tax Liens                    0.0\n",
       "dtype: float64"
      ]
     },
     "execution_count": 27,
     "metadata": {},
     "output_type": "execute_result"
    }
   ],
   "source": [
    "(x_train_dropped.isnull().sum() / len(x_train)) * 100"
   ]
  },
  {
   "cell_type": "code",
   "execution_count": 28,
   "metadata": {
    "colab": {
     "base_uri": "https://localhost:8080/"
    },
    "id": "ot4_dMVYFuk3",
    "outputId": "1e319306-340f-48e6-c112-8fd37d82e5db"
   },
   "outputs": [
    {
     "data": {
      "text/plain": [
       "Loan Status                  0.0\n",
       "Current Loan Amount          0.0\n",
       "Term                         0.0\n",
       "Credit Score                 0.0\n",
       "Annual Income                0.0\n",
       "Years in current job         0.0\n",
       "Home Ownership               0.0\n",
       "Purpose                      0.0\n",
       "Monthly Debt                 0.0\n",
       "Years of Credit History      0.0\n",
       "Number of Open Accounts      0.0\n",
       "Number of Credit Problems    0.0\n",
       "Current Credit Balance       0.0\n",
       "Maximum Open Credit          0.0\n",
       "Bankruptcies                 0.0\n",
       "Tax Liens                    0.0\n",
       "dtype: float64"
      ]
     },
     "execution_count": 28,
     "metadata": {},
     "output_type": "execute_result"
    }
   ],
   "source": [
    "(x_test_dropped.isnull().sum() / len(x_test)) * 100"
   ]
  },
  {
   "cell_type": "code",
   "execution_count": null,
   "metadata": {
    "colab": {
     "base_uri": "https://localhost:8080/",
     "height": 458
    },
    "id": "-umO8Zo4egf1",
    "outputId": "3070a6e0-869c-4541-ddcf-2d255c904fdf"
   },
   "outputs": [],
   "source": [
    "x_train_dropped"
   ]
  },
  {
   "cell_type": "code",
   "execution_count": null,
   "metadata": {
    "id": "AZhWxV5YgQeb"
   },
   "outputs": [],
   "source": []
  },
  {
   "cell_type": "code",
   "execution_count": null,
   "metadata": {
    "id": "G1zwHbVngQa_"
   },
   "outputs": [],
   "source": []
  },
  {
   "cell_type": "markdown",
   "metadata": {
    "id": "vK0Qe1RtfAVg"
   },
   "source": [
    "**ADVANCED ANALYSIS**"
   ]
  },
  {
   "cell_type": "code",
   "execution_count": 29,
   "metadata": {
    "id": "IdASW_0W3Q3c"
   },
   "outputs": [],
   "source": [
    "x_train=x_train_dropped.drop(columns = 'Loan Status')\n",
    "y_train=x_train_dropped['Loan Status']\n",
    "x_test=x_test_dropped.drop(columns = 'Loan Status')\n",
    "y_test=x_test_dropped['Loan Status']"
   ]
  },
  {
   "cell_type": "markdown",
   "metadata": {
    "id": "9bAOjESFpLpw"
   },
   "source": [
    "**Data Standardization**"
   ]
  },
  {
   "cell_type": "code",
   "execution_count": 30,
   "metadata": {
    "colab": {
     "base_uri": "https://localhost:8080/"
    },
    "id": "5MXUNHRT4F35",
    "outputId": "0d5bf1a3-5f4e-4e10-bf4a-0dbd731df9cf"
   },
   "outputs": [
    {
     "data": {
      "text/plain": [
       "['Current Loan Amount',\n",
       " 'Term',\n",
       " 'Credit Score',\n",
       " 'Annual Income',\n",
       " 'Years in current job',\n",
       " 'Home Ownership',\n",
       " 'Purpose',\n",
       " 'Monthly Debt',\n",
       " 'Years of Credit History',\n",
       " 'Number of Open Accounts',\n",
       " 'Number of Credit Problems',\n",
       " 'Current Credit Balance',\n",
       " 'Maximum Open Credit',\n",
       " 'Bankruptcies',\n",
       " 'Tax Liens']"
      ]
     },
     "execution_count": 30,
     "metadata": {},
     "output_type": "execute_result"
    }
   ],
   "source": [
    "columns = x_train.columns.tolist()\n",
    "columns"
   ]
  },
  {
   "cell_type": "code",
   "execution_count": 31,
   "metadata": {
    "id": "hET01Vvv2pe6"
   },
   "outputs": [],
   "source": [
    "Numerical_cols=['Current Loan Amount','Credit Score','Annual Income','Monthly Debt','Years of Credit History','Number of Open Accounts',\n",
    "                                  'Number of Credit Problems','Current Credit Balance','Maximum Open Credit','Bankruptcies','Tax Liens']\n",
    "Categorical_cols=['Term','Years in current job','Home Ownership','Purpose']"
   ]
  },
  {
   "cell_type": "code",
   "execution_count": 32,
   "metadata": {
    "id": "dbYmaElY7SLM"
   },
   "outputs": [],
   "source": [
    "from sklearn.preprocessing import StandardScaler\n",
    "\n",
    "# Standardize numerical features\n",
    "scaler = StandardScaler()\n",
    "x_train[Numerical_cols] = scaler.fit_transform(x_train[Numerical_cols])\n"
   ]
  },
  {
   "cell_type": "code",
   "execution_count": null,
   "metadata": {
    "colab": {
     "base_uri": "https://localhost:8080/",
     "height": 241
    },
    "id": "dq03XJG57iXO",
    "outputId": "92595c93-d58f-411d-eb7b-9cb59cd7ec20"
   },
   "outputs": [],
   "source": [
    "x_train.tail()"
   ]
  },
  {
   "cell_type": "code",
   "execution_count": null,
   "metadata": {
    "colab": {
     "base_uri": "https://localhost:8080/"
    },
    "id": "aHMZJ88iublg",
    "outputId": "7ae3d313-2447-4a67-d18c-eb538165dcc4"
   },
   "outputs": [],
   "source": [
    "x_train.info()"
   ]
  },
  {
   "cell_type": "markdown",
   "metadata": {
    "id": "eSOfG_FUfK8G"
   },
   "source": [
    "**1) Logistice Regression**"
   ]
  },
  {
   "cell_type": "code",
   "execution_count": null,
   "metadata": {
    "id": "AZiPsv2N3Qr-"
   },
   "outputs": [],
   "source": [
    "import seaborn as sns\n",
    "from sklearn.linear_model import LogisticRegression\n",
    "from sklearn.metrics import confusion_matrix, accuracy_score, classification_report\n",
    "%matplotlib inline\n",
    "import warnings #to remove the warnings\n",
    "warnings.filterwarnings('ignore')"
   ]
  },
  {
   "cell_type": "code",
   "execution_count": null,
   "metadata": {
    "colab": {
     "base_uri": "https://localhost:8080/",
     "height": 74
    },
    "id": "sPNmh3cI3Qes",
    "outputId": "edaeb223-7ebe-4260-e0ec-502d4926ef56"
   },
   "outputs": [
    {
     "data": {
      "text/html": [
       "<style>#sk-container-id-1 {color: black;background-color: white;}#sk-container-id-1 pre{padding: 0;}#sk-container-id-1 div.sk-toggleable {background-color: white;}#sk-container-id-1 label.sk-toggleable__label {cursor: pointer;display: block;width: 100%;margin-bottom: 0;padding: 0.3em;box-sizing: border-box;text-align: center;}#sk-container-id-1 label.sk-toggleable__label-arrow:before {content: \"▸\";float: left;margin-right: 0.25em;color: #696969;}#sk-container-id-1 label.sk-toggleable__label-arrow:hover:before {color: black;}#sk-container-id-1 div.sk-estimator:hover label.sk-toggleable__label-arrow:before {color: black;}#sk-container-id-1 div.sk-toggleable__content {max-height: 0;max-width: 0;overflow: hidden;text-align: left;background-color: #f0f8ff;}#sk-container-id-1 div.sk-toggleable__content pre {margin: 0.2em;color: black;border-radius: 0.25em;background-color: #f0f8ff;}#sk-container-id-1 input.sk-toggleable__control:checked~div.sk-toggleable__content {max-height: 200px;max-width: 100%;overflow: auto;}#sk-container-id-1 input.sk-toggleable__control:checked~label.sk-toggleable__label-arrow:before {content: \"▾\";}#sk-container-id-1 div.sk-estimator input.sk-toggleable__control:checked~label.sk-toggleable__label {background-color: #d4ebff;}#sk-container-id-1 div.sk-label input.sk-toggleable__control:checked~label.sk-toggleable__label {background-color: #d4ebff;}#sk-container-id-1 input.sk-hidden--visually {border: 0;clip: rect(1px 1px 1px 1px);clip: rect(1px, 1px, 1px, 1px);height: 1px;margin: -1px;overflow: hidden;padding: 0;position: absolute;width: 1px;}#sk-container-id-1 div.sk-estimator {font-family: monospace;background-color: #f0f8ff;border: 1px dotted black;border-radius: 0.25em;box-sizing: border-box;margin-bottom: 0.5em;}#sk-container-id-1 div.sk-estimator:hover {background-color: #d4ebff;}#sk-container-id-1 div.sk-parallel-item::after {content: \"\";width: 100%;border-bottom: 1px solid gray;flex-grow: 1;}#sk-container-id-1 div.sk-label:hover label.sk-toggleable__label {background-color: #d4ebff;}#sk-container-id-1 div.sk-serial::before {content: \"\";position: absolute;border-left: 1px solid gray;box-sizing: border-box;top: 0;bottom: 0;left: 50%;z-index: 0;}#sk-container-id-1 div.sk-serial {display: flex;flex-direction: column;align-items: center;background-color: white;padding-right: 0.2em;padding-left: 0.2em;position: relative;}#sk-container-id-1 div.sk-item {position: relative;z-index: 1;}#sk-container-id-1 div.sk-parallel {display: flex;align-items: stretch;justify-content: center;background-color: white;position: relative;}#sk-container-id-1 div.sk-item::before, #sk-container-id-1 div.sk-parallel-item::before {content: \"\";position: absolute;border-left: 1px solid gray;box-sizing: border-box;top: 0;bottom: 0;left: 50%;z-index: -1;}#sk-container-id-1 div.sk-parallel-item {display: flex;flex-direction: column;z-index: 1;position: relative;background-color: white;}#sk-container-id-1 div.sk-parallel-item:first-child::after {align-self: flex-end;width: 50%;}#sk-container-id-1 div.sk-parallel-item:last-child::after {align-self: flex-start;width: 50%;}#sk-container-id-1 div.sk-parallel-item:only-child::after {width: 0;}#sk-container-id-1 div.sk-dashed-wrapped {border: 1px dashed gray;margin: 0 0.4em 0.5em 0.4em;box-sizing: border-box;padding-bottom: 0.4em;background-color: white;}#sk-container-id-1 div.sk-label label {font-family: monospace;font-weight: bold;display: inline-block;line-height: 1.2em;}#sk-container-id-1 div.sk-label-container {text-align: center;}#sk-container-id-1 div.sk-container {/* jupyter's `normalize.less` sets `[hidden] { display: none; }` but bootstrap.min.css set `[hidden] { display: none !important; }` so we also need the `!important` here to be able to override the default hidden behavior on the sphinx rendered scikit-learn.org. See: https://github.com/scikit-learn/scikit-learn/issues/21755 */display: inline-block !important;position: relative;}#sk-container-id-1 div.sk-text-repr-fallback {display: none;}</style><div id=\"sk-container-id-1\" class=\"sk-top-container\"><div class=\"sk-text-repr-fallback\"><pre>LogisticRegression()</pre><b>In a Jupyter environment, please rerun this cell to show the HTML representation or trust the notebook. <br />On GitHub, the HTML representation is unable to render, please try loading this page with nbviewer.org.</b></div><div class=\"sk-container\" hidden><div class=\"sk-item\"><div class=\"sk-estimator sk-toggleable\"><input class=\"sk-toggleable__control sk-hidden--visually\" id=\"sk-estimator-id-1\" type=\"checkbox\" checked><label for=\"sk-estimator-id-1\" class=\"sk-toggleable__label sk-toggleable__label-arrow\">LogisticRegression</label><div class=\"sk-toggleable__content\"><pre>LogisticRegression()</pre></div></div></div></div></div>"
      ],
      "text/plain": [
       "LogisticRegression()"
      ]
     },
     "execution_count": 41,
     "metadata": {},
     "output_type": "execute_result"
    }
   ],
   "source": [
    "#Implementing Logistic Regression using sklearn\n",
    "modelLogistic = LogisticRegression()\n",
    "modelLogistic.fit(x_train,y_train)"
   ]
  },
  {
   "cell_type": "code",
   "execution_count": null,
   "metadata": {
    "id": "brPMDEa83QRx"
   },
   "outputs": [],
   "source": [
    "#Make prediction for the test data\n",
    "y_pred= modelLogistic.predict(x_test)"
   ]
  },
  {
   "cell_type": "code",
   "execution_count": null,
   "metadata": {
    "colab": {
     "base_uri": "https://localhost:8080/"
    },
    "id": "FHxoLXx23QAS",
    "outputId": "62e07c9f-3f1f-41e0-f09f-b73518f6cb82"
   },
   "outputs": [
    {
     "data": {
      "text/plain": [
       "0.7991808544812078"
      ]
     },
     "execution_count": 43,
     "metadata": {},
     "output_type": "execute_result"
    }
   ],
   "source": [
    "# evaluate accuracy of train data\n",
    "modelLogistic.score(x_train, y_train)"
   ]
  },
  {
   "cell_type": "code",
   "execution_count": null,
   "metadata": {
    "colab": {
     "base_uri": "https://localhost:8080/"
    },
    "id": "nHrKeIirfa6H",
    "outputId": "6e1feded-aa1f-411c-846a-6ed4ee6e2cd8"
   },
   "outputs": [
    {
     "data": {
      "text/plain": [
       "0.745985401459854"
      ]
     },
     "execution_count": 44,
     "metadata": {},
     "output_type": "execute_result"
    }
   ],
   "source": [
    "# evaluate accuracy of test data\n",
    "modelLogistic.score(x_test, y_test)"
   ]
  },
  {
   "cell_type": "code",
   "execution_count": null,
   "metadata": {
    "colab": {
     "base_uri": "https://localhost:8080/"
    },
    "id": "FCWN_9PVfa2p",
    "outputId": "17941c76-87b1-45ec-941b-eb05ae1333ff"
   },
   "outputs": [
    {
     "name": "stdout",
     "output_type": "stream",
     "text": [
      "              precision    recall  f1-score   support\n",
      "\n",
      "           0       0.00      0.00      0.00      6786\n",
      "           1       0.75      1.00      0.85     19929\n",
      "\n",
      "    accuracy                           0.75     26715\n",
      "   macro avg       0.37      0.50      0.43     26715\n",
      "weighted avg       0.56      0.75      0.64     26715\n",
      "\n"
     ]
    }
   ],
   "source": [
    "print(classification_report(y_test, y_pred))"
   ]
  },
  {
   "cell_type": "code",
   "execution_count": null,
   "metadata": {
    "colab": {
     "base_uri": "https://localhost:8080/"
    },
    "id": "XB8ZdRHUfay9",
    "outputId": "44ad8243-b05f-44dc-febd-1379b8491543"
   },
   "outputs": [
    {
     "name": "stdout",
     "output_type": "stream",
     "text": [
      "[[    0  6786]\n",
      " [    0 19929]]\n"
     ]
    }
   ],
   "source": [
    "#Creating confusion matrix\n",
    "ConfusionMatrix = confusion_matrix(y_test, y_pred)\n",
    "print(ConfusionMatrix)"
   ]
  },
  {
   "cell_type": "code",
   "execution_count": null,
   "metadata": {
    "colab": {
     "base_uri": "https://localhost:8080/",
     "height": 472
    },
    "id": "m8V4WwcmfavI",
    "outputId": "3a05a70a-762c-4407-bdbd-3b43911fa9af"
   },
   "outputs": [
    {
     "data": {
      "image/png": "[encoded data removed]",
      "text/plain": [
       "<Figure size 640x480 with 2 Axes>"
      ]
     },
     "metadata": {},
     "output_type": "display_data"
    }
   ],
   "source": [
    "ax = sns.heatmap(ConfusionMatrix , annot=True, cmap='BuPu')  #BuPu=colour\n",
    "ax.set_title('Confusion Matrix for Loan Status');\n",
    "ax.set_xlabel('Prediction made for Loan Status')\n",
    "ax.set_ylabel('Actual status of Loan Status ');\n",
    "## Ticket labels – List must be in alphabetical order\n",
    "ax.xaxis.set_ticklabels(['No','Yes'])\n",
    "ax.yaxis.set_ticklabels(['No','Yes'])\n",
    "## Display the visualization of the Confusion Matrix.\n",
    "plt.show()\n",
    "\n",
    "# Confusion matrix : True negative   False negative\n",
    "#                    False positive, True positive"
   ]
  },
  {
   "cell_type": "markdown",
   "metadata": {
    "id": "18pxSKOQftMz"
   },
   "source": [
    "Parameter tunning - logistic reg"
   ]
  },
  {
   "cell_type": "code",
   "execution_count": null,
   "metadata": {
    "colab": {
     "base_uri": "https://localhost:8080/"
    },
    "id": "x-Bf_8rhfarx",
    "outputId": "9241f4c7-4a9b-4f4e-f52f-42a6cbbde883"
   },
   "outputs": [
    {
     "name": "stdout",
     "output_type": "stream",
     "text": [
      "Best Parameters: {'C': 0.01, 'max_iter': 50, 'penalty': 'l2'}\n"
     ]
    }
   ],
   "source": [
    "from sklearn.model_selection import GridSearchCV\n",
    "param_grid = {\n",
    "    'penalty': ['l1', 'l2','elasticnet'],    # l1=Lasso, l2=ridge\n",
    "    'C': [ 0.001,0.01,0.1, 1, 10,20],          # inverse of regularization strength. Smaller values specify stronger regularization\n",
    "    'max_iter': [50,100,150]            # maximum number of iterations taken for the solver to converge\n",
    "    #'solver': ['liblinear', 'saga']          # used to optimize the logistic regression function\n",
    "}\n",
    "grid_search = GridSearchCV(estimator=modelLogistic, param_grid=param_grid, cv=5, scoring='accuracy')\n",
    "grid_search.fit(x_train, y_train)\n",
    "best_params = grid_search.best_params_\n",
    "print(\"Best Parameters:\", best_params)"
   ]
  },
  {
   "cell_type": "markdown",
   "metadata": {
    "id": "y0RybOhofzZE"
   },
   "source": [
    "***through hyper-parameter tuning, it gives Ridge as optimal***"
   ]
  },
  {
   "cell_type": "code",
   "execution_count": null,
   "metadata": {
    "colab": {
     "base_uri": "https://localhost:8080/"
    },
    "id": "LsCeTsFWf2O0",
    "outputId": "6428a1f2-c48e-4d53-b591-61d49ee7b78f"
   },
   "outputs": [
    {
     "name": "stdout",
     "output_type": "stream",
     "text": [
      "Accuracy: 0.745985401459854\n",
      "Classification Report:\n",
      "              precision    recall  f1-score   support\n",
      "\n",
      "           0       0.00      0.00      0.00      6786\n",
      "           1       0.75      1.00      0.85     19929\n",
      "\n",
      "    accuracy                           0.75     26715\n",
      "   macro avg       0.37      0.50      0.43     26715\n",
      "weighted avg       0.56      0.75      0.64     26715\n",
      "\n"
     ]
    }
   ],
   "source": [
    "best_model = grid_search.best_estimator_\n",
    "y_pred1 = best_model.predict(x_test)\n",
    "accuracy = accuracy_score(y_test, y_pred1)\n",
    "print(\"Accuracy:\", accuracy)\n",
    "print(\"Classification Report:\")\n",
    "print(classification_report(y_test, y_pred1))"
   ]
  },
  {
   "cell_type": "code",
   "execution_count": null,
   "metadata": {
    "colab": {
     "base_uri": "https://localhost:8080/"
    },
    "id": "OYg-Oh4Kf3NL",
    "outputId": "ffcee344-ebbc-444e-8892-d8b4114a872e"
   },
   "outputs": [
    {
     "name": "stdout",
     "output_type": "stream",
     "text": [
      "[[    0  6786]\n",
      " [    0 19929]]\n"
     ]
    }
   ],
   "source": [
    "#Creating confusion matrix\n",
    "ConfusionMatrix = confusion_matrix(y_test, y_pred1)\n",
    "print(ConfusionMatrix)"
   ]
  },
  {
   "cell_type": "markdown",
   "metadata": {
    "id": "FV_LosPlgAqc"
   },
   "source": [
    "*There is no any improvement through prameter tuning*\n",
    "\n",
    "*Model was fitted using standardize data*\n",
    "\n",
    "---\n",
    "\n"
   ]
  },
  {
   "cell_type": "code",
   "execution_count": null,
   "metadata": {
    "id": "SFvStb2Bf3J3"
   },
   "outputs": [],
   "source": []
  },
  {
   "cell_type": "code",
   "execution_count": null,
   "metadata": {
    "id": "PPJkubRnf3Eb"
   },
   "outputs": [],
   "source": []
  },
  {
   "cell_type": "code",
   "execution_count": null,
   "metadata": {
    "id": "4MpSeUnVf3BI"
   },
   "outputs": [],
   "source": []
  },
  {
   "cell_type": "code",
   "execution_count": null,
   "metadata": {
    "id": "OVjdEdy1f20U"
   },
   "outputs": [],
   "source": []
  },
  {
   "cell_type": "markdown",
   "metadata": {
    "id": "MIWxNsoLXoeP"
   },
   "source": [
    "**FA**"
   ]
  },
  {
   "cell_type": "code",
   "execution_count": null,
   "metadata": {
    "id": "VmHBSLqbyboq"
   },
   "outputs": [],
   "source": [
    "!pip install kmodes"
   ]
  },
  {
   "cell_type": "code",
   "execution_count": null,
   "metadata": {
    "colab": {
     "base_uri": "https://localhost:8080/"
    },
    "id": "h2hJ0SfLDgRc",
    "outputId": "54adc525-1c5d-48b6-dc58-e4470898d3d9"
   },
   "outputs": [
    {
     "name": "stdout",
     "output_type": "stream",
     "text": [
      "15\n"
     ]
    }
   ],
   "source": [
    "from sklearn.decomposition import FactorAnalysis\n",
    "import numpy as np\n",
    "import matplotlib.pyplot as plt\n",
    "\n",
    "# Initialize Factor Analysis with a maximum number of factors\n",
    "max_factors = min(x_train.shape)  # Set maximum factors to minimum number of features\n",
    "fa = FactorAnalysis(n_components=max_factors)\n",
    "print(max_factors)\n",
    "\n",
    "# Fit Factor Analysis to your data\n",
    "fa.fit(x_train)\n",
    "\n",
    "factor_scores = fa.transform(x_train)\n"
   ]
  },
  {
   "cell_type": "code",
   "execution_count": null,
   "metadata": {
    "colab": {
     "base_uri": "https://localhost:8080/",
     "height": 472
    },
    "id": "9yOPqGHLRAMB",
    "outputId": "582f2fca-f19e-4ed5-bdd1-710a3360f2ba"
   },
   "outputs": [
    {
     "data": {
      "image/png": "[encoded data removed]",
      "text/plain": [
       "<Figure size 640x480 with 1 Axes>"
      ]
     },
     "metadata": {},
     "output_type": "display_data"
    }
   ],
   "source": [
    "\n",
    "# Get the eigenvalues\n",
    "eigenvalues = fa.get_covariance().diagonal()\n",
    "eigenvalues_desc = [1.59437252,1.20541084,1.19612154,1.17156965,1.14802449,1.12269767,1.07817191,1.07534766,1.06160359,1.04845012,1.03804538,1.00411191, 0.95441643,0.68326514,0.22674459]\n",
    "\n",
    "# Calculate the proportion of variance explained by each factor\n",
    "explained_variance_ratio = eigenvalues_desc / np.sum(eigenvalues_desc)\n",
    "\n",
    "# Plot the scree plot\n",
    "plt.plot(np.arange(1,16), eigenvalues_desc, marker='o')\n",
    "plt.xlabel('Number of Factors')\n",
    "plt.ylabel('eigenvalues')\n",
    "plt.title('Scree Plot')\n",
    "plt.grid(True)\n",
    "plt.show()\n",
    "\n"
   ]
  },
  {
   "cell_type": "code",
   "execution_count": null,
   "metadata": {
    "colab": {
     "base_uri": "https://localhost:8080/"
    },
    "id": "WCB9GRfWEIu7",
    "outputId": "9bf5c0b3-82ea-4245-fc7d-edfdb7e71234"
   },
   "outputs": [
    {
     "data": {
      "text/plain": [
       "83.28873413758129"
      ]
     },
     "execution_count": 53,
     "metadata": {},
     "output_type": "execute_result"
    }
   ],
   "source": [
    "np.sum(eigenvalues>0.8)*100/np.sum(eigenvalues)"
   ]
  },
  {
   "cell_type": "code",
   "execution_count": null,
   "metadata": {
    "colab": {
     "base_uri": "https://localhost:8080/"
    },
    "id": "rFLqiOJcGI6V",
    "outputId": "34412422-8f88-425e-a911-24c70272c634"
   },
   "outputs": [
    {
     "name": "stdout",
     "output_type": "stream",
     "text": [
      "Requirement already satisfied: pandas in /usr/local/lib/python3.10/dist-packages (2.0.3)\n",
      "Requirement already satisfied: scikit-learn in /usr/local/lib/python3.10/dist-packages (1.2.2)\n",
      "Requirement already satisfied: factor-analyzer in /usr/local/lib/python3.10/dist-packages (0.5.1)\n",
      "Requirement already satisfied: python-dateutil>=2.8.2 in /usr/local/lib/python3.10/dist-packages (from pandas) (2.8.2)\n",
      "Requirement already satisfied: pytz>=2020.1 in /usr/local/lib/python3.10/dist-packages (from pandas) (2023.4)\n",
      "Requirement already satisfied: tzdata>=2022.1 in /usr/local/lib/python3.10/dist-packages (from pandas) (2024.1)\n",
      "Requirement already satisfied: numpy>=1.21.0 in /usr/local/lib/python3.10/dist-packages (from pandas) (1.25.2)\n",
      "Requirement already satisfied: scipy>=1.3.2 in /usr/local/lib/python3.10/dist-packages (from scikit-learn) (1.11.4)\n",
      "Requirement already satisfied: joblib>=1.1.1 in /usr/local/lib/python3.10/dist-packages (from scikit-learn) (1.3.2)\n",
      "Requirement already satisfied: threadpoolctl>=2.0.0 in /usr/local/lib/python3.10/dist-packages (from scikit-learn) (3.4.0)\n",
      "Requirement already satisfied: six>=1.5 in /usr/local/lib/python3.10/dist-packages (from python-dateutil>=2.8.2->pandas) (1.16.0)\n"
     ]
    }
   ],
   "source": [
    "!pip install pandas scikit-learn factor-analyzer\n"
   ]
  },
  {
   "cell_type": "code",
   "execution_count": null,
   "metadata": {
    "colab": {
     "base_uri": "https://localhost:8080/"
    },
    "id": "CTMDkSrSUt2O",
    "outputId": "4a2fe760-5053-4759-9ea2-f098fd73e2d9"
   },
   "outputs": [
    {
     "name": "stdout",
     "output_type": "stream",
     "text": [
      "Collecting kmodes\n",
      "  Downloading kmodes-0.12.2-py2.py3-none-any.whl (20 kB)\n",
      "Requirement already satisfied: numpy>=1.10.4 in /usr/local/lib/python3.10/dist-packages (from kmodes) (1.25.2)\n",
      "Requirement already satisfied: scikit-learn>=0.22.0 in /usr/local/lib/python3.10/dist-packages (from kmodes) (1.2.2)\n",
      "Requirement already satisfied: scipy>=0.13.3 in /usr/local/lib/python3.10/dist-packages (from kmodes) (1.11.4)\n",
      "Requirement already satisfied: joblib>=0.11 in /usr/local/lib/python3.10/dist-packages (from kmodes) (1.3.2)\n",
      "Requirement already satisfied: threadpoolctl>=2.0.0 in /usr/local/lib/python3.10/dist-packages (from scikit-learn>=0.22.0->kmodes) (3.4.0)\n",
      "Installing collected packages: kmodes\n",
      "Successfully installed kmodes-0.12.2\n"
     ]
    }
   ],
   "source": [
    "!pip install kmodes\n"
   ]
  },
  {
   "cell_type": "code",
   "execution_count": null,
   "metadata": {
    "id": "9PmJf7_pUppe"
   },
   "outputs": [],
   "source": [
    "from factor_analyzer import FactorAnalyzer\n",
    "from kmodes.kprototypes import KPrototypes\n",
    "\n",
    "n_factors = 2  # You can choose the number of factors based on your analysis\n",
    "fa = FactorAnalyzer(n_factors, rotation='varimax')\n",
    "\n",
    "fa.fit(x_train)\n",
    "factor_scores = fa.transform(x_train)"
   ]
  },
  {
   "cell_type": "code",
   "execution_count": null,
   "metadata": {
    "colab": {
     "base_uri": "https://localhost:8080/"
    },
    "id": "5vzI7iLKsTXY",
    "outputId": "5d01228f-99ed-455f-89b1-9e01cda6cea1"
   },
   "outputs": [
    {
     "name": "stdout",
     "output_type": "stream",
     "text": [
      "       Current Loan Amount  Term  Credit Score  Annual Income  \\\n",
      "60607            -0.224131     1     -0.215386       0.206655   \n",
      "72925            -0.513898     1     -0.236047       0.879464   \n",
      "57800            -1.130148     1     -0.219661      -0.549350   \n",
      "54211            -0.999096     1      4.292371      -0.546054   \n",
      "3949              2.701458     0     -0.292332       0.569864   \n",
      "...                    ...   ...           ...            ...   \n",
      "6308             -1.482508     1     -0.213248      -0.297037   \n",
      "58333            -0.314261     1     -0.229635      -0.384589   \n",
      "84089            -0.670957     1     -0.228210      -0.476188   \n",
      "861              -1.392633     1     -0.230347      -0.023211   \n",
      "16057             0.180370     1     -0.212536       2.542337   \n",
      "\n",
      "       Years in current job  Home Ownership  Purpose  Monthly Debt  \\\n",
      "60607                     0               1        1     -0.068429   \n",
      "72925                     1               1        1      1.363962   \n",
      "57800                     3               1        2     -0.096211   \n",
      "54211                     0               1        3     -1.091432   \n",
      "3949                      1               3        1      1.952113   \n",
      "...                     ...             ...      ...           ...   \n",
      "6308                      2               1        2     -0.066380   \n",
      "58333                     3               3        1     -0.108633   \n",
      "84089                     1               2        2     -0.587340   \n",
      "861                       0               1        2     -0.277897   \n",
      "16057                     1               3        1      3.074679   \n",
      "\n",
      "       Years of Credit History  Number of Open Accounts  \\\n",
      "60607                -0.872902                -0.434260   \n",
      "72925                -0.502859                 0.367009   \n",
      "57800                 0.464947                 0.166692   \n",
      "54211                -0.033188                 0.967961   \n",
      "3949                 -0.616718                 5.374939   \n",
      "...                        ...                      ...   \n",
      "6308                 -0.246675                -1.235528   \n",
      "58333                 0.749595                 0.166692   \n",
      "84089                 0.607271                -1.235528   \n",
      "861                   0.891920                -1.435846   \n",
      "16057                -0.673648                 0.567326   \n",
      "\n",
      "       Number of Credit Problems  Current Credit Balance  Maximum Open Credit  \\\n",
      "60607                   3.785147               -0.173237            -0.030462   \n",
      "72925                  -0.343501                0.065541             0.009363   \n",
      "57800                  -0.343501               -0.416540            -0.055670   \n",
      "54211                  -0.343501               -0.624446            -0.046395   \n",
      "3949                   -0.343501                0.816776             0.142276   \n",
      "...                          ...                     ...                  ...   \n",
      "6308                   -0.343501               -0.754698            -0.077867   \n",
      "58333                  -0.343501                0.059028            -0.032935   \n",
      "84089                   1.720823               -0.668741            -0.066882   \n",
      "861                    -0.343501               -0.638764            -0.075238   \n",
      "16057                  -0.343501               -0.447959             0.163151   \n",
      "\n",
      "       Bankruptcies  Tax Liens  Factor 1  Factor 2  \n",
      "60607      5.414277  -0.111936 -1.707289  2.957993  \n",
      "72925     -0.332718  -0.111936  0.643177  0.057805  \n",
      "57800     -0.332718  -0.111936 -0.307381 -0.471047  \n",
      "54211     -0.332718  -0.111936 -0.363300 -0.454557  \n",
      "3949      -0.332718  -0.111936  2.092955  0.806888  \n",
      "...             ...        ...       ...       ...  \n",
      "6308      -0.332718  -0.111936 -0.547086 -0.612760  \n",
      "58333     -0.332718  -0.111936 -0.152528 -0.430409  \n",
      "84089      2.540779  -0.111936 -1.413643  1.037491  \n",
      "861       -0.332718  -0.111936 -0.331595 -0.405880  \n",
      "16057     -0.332718  -0.111936  1.197690  0.352751  \n",
      "\n",
      "[62260 rows x 17 columns]\n"
     ]
    }
   ],
   "source": [
    "# Combine factor scores with the original data\n",
    "x_train_with_factors = pd.DataFrame(x_train, columns=x_train.columns)\n",
    "\n",
    "# Add Factor 1 and Factor 2 columns\n",
    "x_train_with_factors['Factor 1'] = factor_scores[:, 0]\n",
    "x_train_with_factors['Factor 2'] = factor_scores[:, 1]\n",
    "\n",
    "print(x_train_with_factors)"
   ]
  },
  {
   "cell_type": "markdown",
   "metadata": {
    "id": "G6gCTqGlkI8p"
   },
   "source": [
    "**Clustering**"
   ]
  },
  {
   "cell_type": "code",
   "execution_count": null,
   "metadata": {
    "id": "DUF79iKf2AiS"
   },
   "outputs": [],
   "source": [
    "#Convert categorical column names to indices\n",
    "categorical_columns = [x_train_with_factors.columns.get_loc(col) for col in Categorical_cols]"
   ]
  },
  {
   "cell_type": "markdown",
   "metadata": {
    "id": "q2y6SWyE3tmN"
   },
   "source": [
    "**using entire dataset - kprototype**"
   ]
  },
  {
   "cell_type": "code",
   "execution_count": null,
   "metadata": {
    "colab": {
     "base_uri": "https://localhost:8080/",
     "height": 356
    },
    "id": "DC1lH1jT10jh",
    "outputId": "9aacbf33-087d-43be-c56d-44b845e146e8"
   },
   "outputs": [
    {
     "ename": "ValueError",
     "evalue": "y should be a 1d array, got an array of shape () instead.",
     "output_type": "error",
     "traceback": [
      "\u001b[0;31m---------------------------------------------------------------------------\u001b[0m",
      "\u001b[0;31mValueError\u001b[0m                                Traceback (most recent call last)",
      "\u001b[0;32m<ipython-input-82-818ede4c711c>\u001b[0m in \u001b[0;36m<cell line: 16>\u001b[0;34m()\u001b[0m\n\u001b[1;32m     22\u001b[0m \u001b[0;34m\u001b[0m\u001b[0m\n\u001b[1;32m     23\u001b[0m     \u001b[0;31m# Calculate the silhouette score\u001b[0m\u001b[0;34m\u001b[0m\u001b[0;34m\u001b[0m\u001b[0m\n\u001b[0;32m---> 24\u001b[0;31m     \u001b[0msilhouette_avg\u001b[0m \u001b[0;34m=\u001b[0m \u001b[0msilhouette_score\u001b[0m\u001b[0;34m(\u001b[0m\u001b[0mx_train_with_factors\u001b[0m\u001b[0;34m,\u001b[0m \u001b[0mclusters\u001b[0m\u001b[0;34m)\u001b[0m\u001b[0;34m\u001b[0m\u001b[0;34m\u001b[0m\u001b[0m\n\u001b[0m\u001b[1;32m     25\u001b[0m     \u001b[0msilhouette_scores\u001b[0m\u001b[0;34m.\u001b[0m\u001b[0mappend\u001b[0m\u001b[0;34m(\u001b[0m\u001b[0msilhouette_avg\u001b[0m\u001b[0;34m)\u001b[0m\u001b[0;34m\u001b[0m\u001b[0;34m\u001b[0m\u001b[0m\n\u001b[1;32m     26\u001b[0m \u001b[0;34m\u001b[0m\u001b[0m\n",
      "\u001b[0;32m/usr/local/lib/python3.10/dist-packages/sklearn/metrics/cluster/_unsupervised.py\u001b[0m in \u001b[0;36msilhouette_score\u001b[0;34m(X, labels, metric, sample_size, random_state, **kwds)\u001b[0m\n\u001b[1;32m    115\u001b[0m         \u001b[0;32melse\u001b[0m\u001b[0;34m:\u001b[0m\u001b[0;34m\u001b[0m\u001b[0;34m\u001b[0m\u001b[0m\n\u001b[1;32m    116\u001b[0m             \u001b[0mX\u001b[0m\u001b[0;34m,\u001b[0m \u001b[0mlabels\u001b[0m \u001b[0;34m=\u001b[0m \u001b[0mX\u001b[0m\u001b[0;34m[\u001b[0m\u001b[0mindices\u001b[0m\u001b[0;34m]\u001b[0m\u001b[0;34m,\u001b[0m \u001b[0mlabels\u001b[0m\u001b[0;34m[\u001b[0m\u001b[0mindices\u001b[0m\u001b[0;34m]\u001b[0m\u001b[0;34m\u001b[0m\u001b[0;34m\u001b[0m\u001b[0m\n\u001b[0;32m--> 117\u001b[0;31m     \u001b[0;32mreturn\u001b[0m \u001b[0mnp\u001b[0m\u001b[0;34m.\u001b[0m\u001b[0mmean\u001b[0m\u001b[0;34m(\u001b[0m\u001b[0msilhouette_samples\u001b[0m\u001b[0;34m(\u001b[0m\u001b[0mX\u001b[0m\u001b[0;34m,\u001b[0m \u001b[0mlabels\u001b[0m\u001b[0;34m,\u001b[0m \u001b[0mmetric\u001b[0m\u001b[0;34m=\u001b[0m\u001b[0mmetric\u001b[0m\u001b[0;34m,\u001b[0m \u001b[0;34m**\u001b[0m\u001b[0mkwds\u001b[0m\u001b[0;34m)\u001b[0m\u001b[0;34m)\u001b[0m\u001b[0;34m\u001b[0m\u001b[0;34m\u001b[0m\u001b[0m\n\u001b[0m\u001b[1;32m    118\u001b[0m \u001b[0;34m\u001b[0m\u001b[0m\n\u001b[1;32m    119\u001b[0m \u001b[0;34m\u001b[0m\u001b[0m\n",
      "\u001b[0;32m/usr/local/lib/python3.10/dist-packages/sklearn/metrics/cluster/_unsupervised.py\u001b[0m in \u001b[0;36msilhouette_samples\u001b[0;34m(X, labels, metric, **kwds)\u001b[0m\n\u001b[1;32m    210\u001b[0m        \u001b[0;34m<\u001b[0m\u001b[0mhttps\u001b[0m\u001b[0;34m:\u001b[0m\u001b[0;34m//\u001b[0m\u001b[0men\u001b[0m\u001b[0;34m.\u001b[0m\u001b[0mwikipedia\u001b[0m\u001b[0;34m.\u001b[0m\u001b[0morg\u001b[0m\u001b[0;34m/\u001b[0m\u001b[0mwiki\u001b[0m\u001b[0;34m/\u001b[0m\u001b[0mSilhouette_\u001b[0m\u001b[0;34m(\u001b[0m\u001b[0mclustering\u001b[0m\u001b[0;34m)\u001b[0m\u001b[0;34m>\u001b[0m\u001b[0;31m`\u001b[0m\u001b[0m_\u001b[0m\u001b[0;34m\u001b[0m\u001b[0;34m\u001b[0m\u001b[0m\n\u001b[1;32m    211\u001b[0m     \"\"\"\n\u001b[0;32m--> 212\u001b[0;31m     \u001b[0mX\u001b[0m\u001b[0;34m,\u001b[0m \u001b[0mlabels\u001b[0m \u001b[0;34m=\u001b[0m \u001b[0mcheck_X_y\u001b[0m\u001b[0;34m(\u001b[0m\u001b[0mX\u001b[0m\u001b[0;34m,\u001b[0m \u001b[0mlabels\u001b[0m\u001b[0;34m,\u001b[0m \u001b[0maccept_sparse\u001b[0m\u001b[0;34m=\u001b[0m\u001b[0;34m[\u001b[0m\u001b[0;34m\"csc\"\u001b[0m\u001b[0;34m,\u001b[0m \u001b[0;34m\"csr\"\u001b[0m\u001b[0;34m]\u001b[0m\u001b[0;34m)\u001b[0m\u001b[0;34m\u001b[0m\u001b[0;34m\u001b[0m\u001b[0m\n\u001b[0m\u001b[1;32m    213\u001b[0m \u001b[0;34m\u001b[0m\u001b[0m\n\u001b[1;32m    214\u001b[0m     \u001b[0;31m# Check for non-zero diagonal entries in precomputed distance matrix\u001b[0m\u001b[0;34m\u001b[0m\u001b[0;34m\u001b[0m\u001b[0m\n",
      "\u001b[0;32m/usr/local/lib/python3.10/dist-packages/sklearn/utils/validation.py\u001b[0m in \u001b[0;36mcheck_X_y\u001b[0;34m(X, y, accept_sparse, accept_large_sparse, dtype, order, copy, force_all_finite, ensure_2d, allow_nd, multi_output, ensure_min_samples, ensure_min_features, y_numeric, estimator)\u001b[0m\n\u001b[1;32m   1120\u001b[0m     )\n\u001b[1;32m   1121\u001b[0m \u001b[0;34m\u001b[0m\u001b[0m\n\u001b[0;32m-> 1122\u001b[0;31m     \u001b[0my\u001b[0m \u001b[0;34m=\u001b[0m \u001b[0m_check_y\u001b[0m\u001b[0;34m(\u001b[0m\u001b[0my\u001b[0m\u001b[0;34m,\u001b[0m \u001b[0mmulti_output\u001b[0m\u001b[0;34m=\u001b[0m\u001b[0mmulti_output\u001b[0m\u001b[0;34m,\u001b[0m \u001b[0my_numeric\u001b[0m\u001b[0;34m=\u001b[0m\u001b[0my_numeric\u001b[0m\u001b[0;34m,\u001b[0m \u001b[0mestimator\u001b[0m\u001b[0;34m=\u001b[0m\u001b[0mestimator\u001b[0m\u001b[0;34m)\u001b[0m\u001b[0;34m\u001b[0m\u001b[0;34m\u001b[0m\u001b[0m\n\u001b[0m\u001b[1;32m   1123\u001b[0m \u001b[0;34m\u001b[0m\u001b[0m\n\u001b[1;32m   1124\u001b[0m     \u001b[0mcheck_consistent_length\u001b[0m\u001b[0;34m(\u001b[0m\u001b[0mX\u001b[0m\u001b[0;34m,\u001b[0m \u001b[0my\u001b[0m\u001b[0;34m)\u001b[0m\u001b[0;34m\u001b[0m\u001b[0;34m\u001b[0m\u001b[0m\n",
      "\u001b[0;32m/usr/local/lib/python3.10/dist-packages/sklearn/utils/validation.py\u001b[0m in \u001b[0;36m_check_y\u001b[0;34m(y, multi_output, y_numeric, estimator)\u001b[0m\n\u001b[1;32m   1141\u001b[0m     \u001b[0;32melse\u001b[0m\u001b[0;34m:\u001b[0m\u001b[0;34m\u001b[0m\u001b[0;34m\u001b[0m\u001b[0m\n\u001b[1;32m   1142\u001b[0m         \u001b[0mestimator_name\u001b[0m \u001b[0;34m=\u001b[0m \u001b[0m_check_estimator_name\u001b[0m\u001b[0;34m(\u001b[0m\u001b[0mestimator\u001b[0m\u001b[0;34m)\u001b[0m\u001b[0;34m\u001b[0m\u001b[0;34m\u001b[0m\u001b[0m\n\u001b[0;32m-> 1143\u001b[0;31m         \u001b[0my\u001b[0m \u001b[0;34m=\u001b[0m \u001b[0mcolumn_or_1d\u001b[0m\u001b[0;34m(\u001b[0m\u001b[0my\u001b[0m\u001b[0;34m,\u001b[0m \u001b[0mwarn\u001b[0m\u001b[0;34m=\u001b[0m\u001b[0;32mTrue\u001b[0m\u001b[0;34m)\u001b[0m\u001b[0;34m\u001b[0m\u001b[0;34m\u001b[0m\u001b[0m\n\u001b[0m\u001b[1;32m   1144\u001b[0m         \u001b[0m_assert_all_finite\u001b[0m\u001b[0;34m(\u001b[0m\u001b[0my\u001b[0m\u001b[0;34m,\u001b[0m \u001b[0minput_name\u001b[0m\u001b[0;34m=\u001b[0m\u001b[0;34m\"y\"\u001b[0m\u001b[0;34m,\u001b[0m \u001b[0mestimator_name\u001b[0m\u001b[0;34m=\u001b[0m\u001b[0mestimator_name\u001b[0m\u001b[0;34m)\u001b[0m\u001b[0;34m\u001b[0m\u001b[0;34m\u001b[0m\u001b[0m\n\u001b[1;32m   1145\u001b[0m         \u001b[0m_ensure_no_complex_data\u001b[0m\u001b[0;34m(\u001b[0m\u001b[0my\u001b[0m\u001b[0;34m)\u001b[0m\u001b[0;34m\u001b[0m\u001b[0;34m\u001b[0m\u001b[0m\n",
      "\u001b[0;32m/usr/local/lib/python3.10/dist-packages/sklearn/utils/validation.py\u001b[0m in \u001b[0;36mcolumn_or_1d\u001b[0;34m(y, dtype, warn)\u001b[0m\n\u001b[1;32m   1200\u001b[0m         \u001b[0;32mreturn\u001b[0m \u001b[0m_asarray_with_order\u001b[0m\u001b[0;34m(\u001b[0m\u001b[0mxp\u001b[0m\u001b[0;34m.\u001b[0m\u001b[0mreshape\u001b[0m\u001b[0;34m(\u001b[0m\u001b[0my\u001b[0m\u001b[0;34m,\u001b[0m \u001b[0;34m-\u001b[0m\u001b[0;36m1\u001b[0m\u001b[0;34m)\u001b[0m\u001b[0;34m,\u001b[0m \u001b[0morder\u001b[0m\u001b[0;34m=\u001b[0m\u001b[0;34m\"C\"\u001b[0m\u001b[0;34m,\u001b[0m \u001b[0mxp\u001b[0m\u001b[0;34m=\u001b[0m\u001b[0mxp\u001b[0m\u001b[0;34m)\u001b[0m\u001b[0;34m\u001b[0m\u001b[0;34m\u001b[0m\u001b[0m\n\u001b[1;32m   1201\u001b[0m \u001b[0;34m\u001b[0m\u001b[0m\n\u001b[0;32m-> 1202\u001b[0;31m     raise ValueError(\n\u001b[0m\u001b[1;32m   1203\u001b[0m         \u001b[0;34m\"y should be a 1d array, got an array of shape {} instead.\"\u001b[0m\u001b[0;34m.\u001b[0m\u001b[0mformat\u001b[0m\u001b[0;34m(\u001b[0m\u001b[0mshape\u001b[0m\u001b[0;34m)\u001b[0m\u001b[0;34m\u001b[0m\u001b[0;34m\u001b[0m\u001b[0m\n\u001b[1;32m   1204\u001b[0m     )\n",
      "\u001b[0;31mValueError\u001b[0m: y should be a 1d array, got an array of shape () instead."
     ]
    }
   ],
   "source": [
    "from sklearn.metrics import silhouette_score\n",
    "\n",
    "# Determine the range of clusters to try\n",
    "min_clusters = 2\n",
    "max_clusters = 5\n",
    "\n",
    "# Initialize variables to store results\n",
    "best_n_clusters = 0\n",
    "best_silhouette_score = -1\n",
    "best_kproto = None\n",
    "\n",
    "# Initialize a list to store silhouette scores\n",
    "silhouette_scores = []\n",
    "\n",
    "# Iterate through different cluster numbers\n",
    "for n_clusters in range(min_clusters, max_clusters + 1):\n",
    "    # Create the k-prototype model\n",
    "    kproto = KPrototypes(n_clusters=n_clusters, init='Cao', verbose=0, random_state=42)\n",
    "\n",
    "    # Fit the model to the data\n",
    "    clusters = kproto.fit(x_train_with_factors, categorical=categorical_columns)  # Adjust categorical indices\n",
    "\n",
    "    # Calculate the silhouette score\n",
    "    silhouette_avg = silhouette_score(x_train_with_factors, clusters)\n",
    "    silhouette_scores.append(silhouette_avg)\n",
    "\n",
    "    # Update the best silhouette score and number of clusters\n",
    "    if silhouette_avg > best_silhouette_score:\n",
    "        best_silhouette_score = silhouette_avg\n",
    "        best_n_clusters = n_clusters\n",
    "        best_kproto = kproto\n",
    "\n",
    "# Print the optimal number of clusters\n",
    "print(\"Optimal number of clusters:\", best_n_clusters)\n",
    "\n",
    "# Access the clustering results using the best_kproto object\n",
    "best_clusters = best_kproto.labels_\n"
   ]
  },
  {
   "cell_type": "code",
   "execution_count": null,
   "metadata": {
    "id": "XgJAyO4WYCva"
   },
   "outputs": [],
   "source": []
  },
  {
   "cell_type": "code",
   "execution_count": null,
   "metadata": {
    "colab": {
     "base_uri": "https://localhost:8080/",
     "height": 356
    },
    "id": "wc0cIZFjYVoc",
    "outputId": "c177cb65-9338-40ef-b374-f08389652caa"
   },
   "outputs": [
    {
     "ename": "KeyboardInterrupt",
     "evalue": "",
     "output_type": "error",
     "traceback": [
      "\u001b[0;31m---------------------------------------------------------------------------\u001b[0m",
      "\u001b[0;31mKeyboardInterrupt\u001b[0m                         Traceback (most recent call last)",
      "\u001b[0;32m<ipython-input-84-3400a3bbbc92>\u001b[0m in \u001b[0;36m<cell line: 19>\u001b[0;34m()\u001b[0m\n\u001b[1;32m     22\u001b[0m \u001b[0;34m\u001b[0m\u001b[0m\n\u001b[1;32m     23\u001b[0m     \u001b[0;31m# Fit the model to the data and obtain cluster labels\u001b[0m\u001b[0;34m\u001b[0m\u001b[0;34m\u001b[0m\u001b[0m\n\u001b[0;32m---> 24\u001b[0;31m     \u001b[0mclusters\u001b[0m \u001b[0;34m=\u001b[0m \u001b[0mkproto\u001b[0m\u001b[0;34m.\u001b[0m\u001b[0mfit_predict\u001b[0m\u001b[0;34m(\u001b[0m\u001b[0mx_train_with_factors\u001b[0m\u001b[0;34m,\u001b[0m \u001b[0mcategorical\u001b[0m\u001b[0;34m=\u001b[0m\u001b[0mcategorical_columns\u001b[0m\u001b[0;34m)\u001b[0m  \u001b[0;31m# Adjust categorical indices\u001b[0m\u001b[0;34m\u001b[0m\u001b[0;34m\u001b[0m\u001b[0m\n\u001b[0m\u001b[1;32m     25\u001b[0m \u001b[0;34m\u001b[0m\u001b[0m\n\u001b[1;32m     26\u001b[0m     \u001b[0;31m# Calculate the silhouette score\u001b[0m\u001b[0;34m\u001b[0m\u001b[0;34m\u001b[0m\u001b[0m\n",
      "\u001b[0;32m/usr/local/lib/python3.10/dist-packages/kmodes/kmodes.py\u001b[0m in \u001b[0;36mfit_predict\u001b[0;34m(self, X, y, **kwargs)\u001b[0m\n\u001b[1;32m    152\u001b[0m         \u001b[0mpredict\u001b[0m\u001b[0;34m(\u001b[0m\u001b[0mX\u001b[0m\u001b[0;34m)\u001b[0m\u001b[0;34m.\u001b[0m\u001b[0;34m\u001b[0m\u001b[0;34m\u001b[0m\u001b[0m\n\u001b[1;32m    153\u001b[0m         \"\"\"\n\u001b[0;32m--> 154\u001b[0;31m         \u001b[0;32mreturn\u001b[0m \u001b[0mself\u001b[0m\u001b[0;34m.\u001b[0m\u001b[0mfit\u001b[0m\u001b[0;34m(\u001b[0m\u001b[0mX\u001b[0m\u001b[0;34m,\u001b[0m \u001b[0;34m**\u001b[0m\u001b[0mkwargs\u001b[0m\u001b[0;34m)\u001b[0m\u001b[0;34m.\u001b[0m\u001b[0mpredict\u001b[0m\u001b[0;34m(\u001b[0m\u001b[0mX\u001b[0m\u001b[0;34m,\u001b[0m \u001b[0;34m**\u001b[0m\u001b[0mkwargs\u001b[0m\u001b[0;34m)\u001b[0m\u001b[0;34m\u001b[0m\u001b[0;34m\u001b[0m\u001b[0m\n\u001b[0m\u001b[1;32m    155\u001b[0m \u001b[0;34m\u001b[0m\u001b[0m\n\u001b[1;32m    156\u001b[0m     \u001b[0;32mdef\u001b[0m \u001b[0mpredict\u001b[0m\u001b[0;34m(\u001b[0m\u001b[0mself\u001b[0m\u001b[0;34m,\u001b[0m \u001b[0mX\u001b[0m\u001b[0;34m,\u001b[0m \u001b[0;34m**\u001b[0m\u001b[0mkwargs\u001b[0m\u001b[0;34m)\u001b[0m\u001b[0;34m:\u001b[0m\u001b[0;34m\u001b[0m\u001b[0;34m\u001b[0m\u001b[0m\n",
      "\u001b[0;32m/usr/local/lib/python3.10/dist-packages/kmodes/kprototypes.py\u001b[0m in \u001b[0;36mfit\u001b[0;34m(self, X, y, categorical, sample_weight)\u001b[0m\n\u001b[1;32m    159\u001b[0m         \u001b[0;31m# the data. The function below returns its value.\u001b[0m\u001b[0;34m\u001b[0m\u001b[0;34m\u001b[0m\u001b[0m\n\u001b[1;32m    160\u001b[0m         \u001b[0mself\u001b[0m\u001b[0;34m.\u001b[0m\u001b[0m_enc_cluster_centroids\u001b[0m\u001b[0;34m,\u001b[0m \u001b[0mself\u001b[0m\u001b[0;34m.\u001b[0m\u001b[0m_enc_map\u001b[0m\u001b[0;34m,\u001b[0m \u001b[0mself\u001b[0m\u001b[0;34m.\u001b[0m\u001b[0mlabels_\u001b[0m\u001b[0;34m,\u001b[0m \u001b[0mself\u001b[0m\u001b[0;34m.\u001b[0m\u001b[0mcost_\u001b[0m\u001b[0;34m,\u001b[0m\u001b[0;31m \u001b[0m\u001b[0;31m\\\u001b[0m\u001b[0;34m\u001b[0m\u001b[0;34m\u001b[0m\u001b[0m\n\u001b[0;32m--> 161\u001b[0;31m         self.n_iter_, self.epoch_costs_, self.gamma = k_prototypes(\n\u001b[0m\u001b[1;32m    162\u001b[0m             \u001b[0mX\u001b[0m\u001b[0;34m,\u001b[0m\u001b[0;34m\u001b[0m\u001b[0;34m\u001b[0m\u001b[0m\n\u001b[1;32m    163\u001b[0m             \u001b[0mcategorical\u001b[0m\u001b[0;34m,\u001b[0m\u001b[0;34m\u001b[0m\u001b[0;34m\u001b[0m\u001b[0m\n",
      "\u001b[0;32m/usr/local/lib/python3.10/dist-packages/kmodes/kprototypes.py\u001b[0m in \u001b[0;36mk_prototypes\u001b[0;34m(X, categorical, n_clusters, max_iter, num_dissim, cat_dissim, gamma, init, n_init, verbose, random_state, n_jobs, sample_weight)\u001b[0m\n\u001b[1;32m    297\u001b[0m     \u001b[0;32mif\u001b[0m \u001b[0mn_jobs\u001b[0m \u001b[0;34m==\u001b[0m \u001b[0;36m1\u001b[0m\u001b[0;34m:\u001b[0m\u001b[0;34m\u001b[0m\u001b[0;34m\u001b[0m\u001b[0m\n\u001b[1;32m    298\u001b[0m         \u001b[0;32mfor\u001b[0m \u001b[0minit_no\u001b[0m \u001b[0;32min\u001b[0m \u001b[0mrange\u001b[0m\u001b[0;34m(\u001b[0m\u001b[0mn_init\u001b[0m\u001b[0;34m)\u001b[0m\u001b[0;34m:\u001b[0m\u001b[0;34m\u001b[0m\u001b[0;34m\u001b[0m\u001b[0m\n\u001b[0;32m--> 299\u001b[0;31m             results.append(_k_prototypes_single(Xnum, Xcat, nnumattrs, ncatattrs,\n\u001b[0m\u001b[1;32m    300\u001b[0m                                                 \u001b[0mn_clusters\u001b[0m\u001b[0;34m,\u001b[0m \u001b[0mn_points\u001b[0m\u001b[0;34m,\u001b[0m \u001b[0mmax_iter\u001b[0m\u001b[0;34m,\u001b[0m\u001b[0;34m\u001b[0m\u001b[0;34m\u001b[0m\u001b[0m\n\u001b[1;32m    301\u001b[0m                                                 \u001b[0mnum_dissim\u001b[0m\u001b[0;34m,\u001b[0m \u001b[0mcat_dissim\u001b[0m\u001b[0;34m,\u001b[0m \u001b[0mgamma\u001b[0m\u001b[0;34m,\u001b[0m\u001b[0;34m\u001b[0m\u001b[0;34m\u001b[0m\u001b[0m\n",
      "\u001b[0;32m/usr/local/lib/python3.10/dist-packages/kmodes/kprototypes.py\u001b[0m in \u001b[0;36m_k_prototypes_single\u001b[0;34m(Xnum, Xcat, nnumattrs, ncatattrs, n_clusters, n_points, max_iter, num_dissim, cat_dissim, gamma, init, init_no, verbose, random_state, sample_weight)\u001b[0m\n\u001b[1;32m    434\u001b[0m         \u001b[0mitr\u001b[0m \u001b[0;34m+=\u001b[0m \u001b[0;36m1\u001b[0m\u001b[0;34m\u001b[0m\u001b[0;34m\u001b[0m\u001b[0m\n\u001b[1;32m    435\u001b[0m         \u001b[0mcentroids\u001b[0m\u001b[0;34m,\u001b[0m \u001b[0mcl_attr_sum\u001b[0m\u001b[0;34m,\u001b[0m \u001b[0mcl_memb_sum\u001b[0m\u001b[0;34m,\u001b[0m \u001b[0mcl_attr_freq\u001b[0m\u001b[0;34m,\u001b[0m \u001b[0mmembship\u001b[0m\u001b[0;34m,\u001b[0m \u001b[0mmoves\u001b[0m \u001b[0;34m=\u001b[0m\u001b[0;31m \u001b[0m\u001b[0;31m\\\u001b[0m\u001b[0;34m\u001b[0m\u001b[0;34m\u001b[0m\u001b[0m\n\u001b[0;32m--> 436\u001b[0;31m             _k_prototypes_iter(Xnum, Xcat, centroids, cl_attr_sum, cl_memb_sum,\n\u001b[0m\u001b[1;32m    437\u001b[0m                                \u001b[0mcl_attr_freq\u001b[0m\u001b[0;34m,\u001b[0m \u001b[0mmembship\u001b[0m\u001b[0;34m,\u001b[0m \u001b[0mnum_dissim\u001b[0m\u001b[0;34m,\u001b[0m \u001b[0mcat_dissim\u001b[0m\u001b[0;34m,\u001b[0m\u001b[0;34m\u001b[0m\u001b[0;34m\u001b[0m\u001b[0m\n\u001b[1;32m    438\u001b[0m                                gamma, random_state, sample_weight)\n",
      "\u001b[0;32m/usr/local/lib/python3.10/dist-packages/kmodes/kprototypes.py\u001b[0m in \u001b[0;36m_k_prototypes_iter\u001b[0;34m(Xnum, Xcat, centroids, cl_attr_sum, cl_memb_sum, cl_attr_freq, membship, num_dissim, cat_dissim, gamma, random_state, sample_weight)\u001b[0m\n\u001b[1;32m    458\u001b[0m         \u001b[0mweight\u001b[0m \u001b[0;34m=\u001b[0m \u001b[0msample_weight\u001b[0m\u001b[0;34m[\u001b[0m\u001b[0mipoint\u001b[0m\u001b[0;34m]\u001b[0m \u001b[0;32mif\u001b[0m \u001b[0msample_weight\u001b[0m \u001b[0;32mis\u001b[0m \u001b[0;32mnot\u001b[0m \u001b[0;32mNone\u001b[0m \u001b[0;32melse\u001b[0m \u001b[0;36m1\u001b[0m\u001b[0;34m\u001b[0m\u001b[0;34m\u001b[0m\u001b[0m\n\u001b[1;32m    459\u001b[0m         clust = np.argmin(\n\u001b[0;32m--> 460\u001b[0;31m             \u001b[0mnum_dissim\u001b[0m\u001b[0;34m(\u001b[0m\u001b[0mcentroids\u001b[0m\u001b[0;34m[\u001b[0m\u001b[0;36m0\u001b[0m\u001b[0;34m]\u001b[0m\u001b[0;34m,\u001b[0m \u001b[0mXnum\u001b[0m\u001b[0;34m[\u001b[0m\u001b[0mipoint\u001b[0m\u001b[0;34m]\u001b[0m\u001b[0;34m)\u001b[0m \u001b[0;34m+\u001b[0m\u001b[0;34m\u001b[0m\u001b[0;34m\u001b[0m\u001b[0m\n\u001b[0m\u001b[1;32m    461\u001b[0m             \u001b[0mgamma\u001b[0m \u001b[0;34m*\u001b[0m \u001b[0mcat_dissim\u001b[0m\u001b[0;34m(\u001b[0m\u001b[0mcentroids\u001b[0m\u001b[0;34m[\u001b[0m\u001b[0;36m1\u001b[0m\u001b[0;34m]\u001b[0m\u001b[0;34m,\u001b[0m \u001b[0mXcat\u001b[0m\u001b[0;34m[\u001b[0m\u001b[0mipoint\u001b[0m\u001b[0;34m]\u001b[0m\u001b[0;34m,\u001b[0m \u001b[0mX\u001b[0m\u001b[0;34m=\u001b[0m\u001b[0mXcat\u001b[0m\u001b[0;34m,\u001b[0m \u001b[0mmembship\u001b[0m\u001b[0;34m=\u001b[0m\u001b[0mmembship\u001b[0m\u001b[0;34m)\u001b[0m\u001b[0;34m\u001b[0m\u001b[0;34m\u001b[0m\u001b[0m\n\u001b[1;32m    462\u001b[0m         )\n",
      "\u001b[0;32m/usr/local/lib/python3.10/dist-packages/kmodes/util/dissim.py\u001b[0m in \u001b[0;36meuclidean_dissim\u001b[0;34m(a, b, **_)\u001b[0m\n\u001b[1;32m     40\u001b[0m \u001b[0;32mdef\u001b[0m \u001b[0meuclidean_dissim\u001b[0m\u001b[0;34m(\u001b[0m\u001b[0ma\u001b[0m\u001b[0;34m,\u001b[0m \u001b[0mb\u001b[0m\u001b[0;34m,\u001b[0m \u001b[0;34m**\u001b[0m\u001b[0m_\u001b[0m\u001b[0;34m)\u001b[0m\u001b[0;34m:\u001b[0m\u001b[0;34m\u001b[0m\u001b[0;34m\u001b[0m\u001b[0m\n\u001b[1;32m     41\u001b[0m     \u001b[0;34m\"\"\"Euclidean distance dissimilarity function\"\"\"\u001b[0m\u001b[0;34m\u001b[0m\u001b[0;34m\u001b[0m\u001b[0m\n\u001b[0;32m---> 42\u001b[0;31m     \u001b[0;32mif\u001b[0m \u001b[0mnp\u001b[0m\u001b[0;34m.\u001b[0m\u001b[0misnan\u001b[0m\u001b[0;34m(\u001b[0m\u001b[0ma\u001b[0m\u001b[0;34m)\u001b[0m\u001b[0;34m.\u001b[0m\u001b[0many\u001b[0m\u001b[0;34m(\u001b[0m\u001b[0;34m)\u001b[0m \u001b[0;32mor\u001b[0m \u001b[0mnp\u001b[0m\u001b[0;34m.\u001b[0m\u001b[0misnan\u001b[0m\u001b[0;34m(\u001b[0m\u001b[0mb\u001b[0m\u001b[0;34m)\u001b[0m\u001b[0;34m.\u001b[0m\u001b[0many\u001b[0m\u001b[0;34m(\u001b[0m\u001b[0;34m)\u001b[0m\u001b[0;34m:\u001b[0m\u001b[0;34m\u001b[0m\u001b[0;34m\u001b[0m\u001b[0m\n\u001b[0m\u001b[1;32m     43\u001b[0m         \u001b[0;32mraise\u001b[0m \u001b[0mValueError\u001b[0m\u001b[0;34m(\u001b[0m\u001b[0;34m\"Missing values detected in numerical columns.\"\u001b[0m\u001b[0;34m)\u001b[0m\u001b[0;34m\u001b[0m\u001b[0;34m\u001b[0m\u001b[0m\n\u001b[1;32m     44\u001b[0m     \u001b[0;32mreturn\u001b[0m \u001b[0mnp\u001b[0m\u001b[0;34m.\u001b[0m\u001b[0msum\u001b[0m\u001b[0;34m(\u001b[0m\u001b[0;34m(\u001b[0m\u001b[0ma\u001b[0m \u001b[0;34m-\u001b[0m \u001b[0mb\u001b[0m\u001b[0;34m)\u001b[0m \u001b[0;34m**\u001b[0m \u001b[0;36m2\u001b[0m\u001b[0;34m,\u001b[0m \u001b[0maxis\u001b[0m\u001b[0;34m=\u001b[0m\u001b[0;36m1\u001b[0m\u001b[0;34m)\u001b[0m\u001b[0;34m\u001b[0m\u001b[0;34m\u001b[0m\u001b[0m\n",
      "\u001b[0;32m/usr/local/lib/python3.10/dist-packages/numpy/core/_methods.py\u001b[0m in \u001b[0;36m_any\u001b[0;34m(a, axis, dtype, out, keepdims, where)\u001b[0m\n\u001b[1;32m     56\u001b[0m     \u001b[0;31m# Parsing keyword arguments is currently fairly slow, so avoid it for now\u001b[0m\u001b[0;34m\u001b[0m\u001b[0;34m\u001b[0m\u001b[0m\n\u001b[1;32m     57\u001b[0m     \u001b[0;32mif\u001b[0m \u001b[0mwhere\u001b[0m \u001b[0;32mis\u001b[0m \u001b[0;32mTrue\u001b[0m\u001b[0;34m:\u001b[0m\u001b[0;34m\u001b[0m\u001b[0;34m\u001b[0m\u001b[0m\n\u001b[0;32m---> 58\u001b[0;31m         \u001b[0;32mreturn\u001b[0m \u001b[0mumr_any\u001b[0m\u001b[0;34m(\u001b[0m\u001b[0ma\u001b[0m\u001b[0;34m,\u001b[0m \u001b[0maxis\u001b[0m\u001b[0;34m,\u001b[0m \u001b[0mdtype\u001b[0m\u001b[0;34m,\u001b[0m \u001b[0mout\u001b[0m\u001b[0;34m,\u001b[0m \u001b[0mkeepdims\u001b[0m\u001b[0;34m)\u001b[0m\u001b[0;34m\u001b[0m\u001b[0;34m\u001b[0m\u001b[0m\n\u001b[0m\u001b[1;32m     59\u001b[0m     \u001b[0;32mreturn\u001b[0m \u001b[0mumr_any\u001b[0m\u001b[0;34m(\u001b[0m\u001b[0ma\u001b[0m\u001b[0;34m,\u001b[0m \u001b[0maxis\u001b[0m\u001b[0;34m,\u001b[0m \u001b[0mdtype\u001b[0m\u001b[0;34m,\u001b[0m \u001b[0mout\u001b[0m\u001b[0;34m,\u001b[0m \u001b[0mkeepdims\u001b[0m\u001b[0;34m,\u001b[0m \u001b[0mwhere\u001b[0m\u001b[0;34m=\u001b[0m\u001b[0mwhere\u001b[0m\u001b[0;34m)\u001b[0m\u001b[0;34m\u001b[0m\u001b[0;34m\u001b[0m\u001b[0m\n\u001b[1;32m     60\u001b[0m \u001b[0;34m\u001b[0m\u001b[0m\n",
      "\u001b[0;31mKeyboardInterrupt\u001b[0m: "
     ]
    }
   ],
   "source": [
    "# by sandu\n",
    "\n",
    "from sklearn.metrics import silhouette_score\n",
    "from kmodes.kprototypes import KPrototypes\n",
    "\n",
    "# Determine the range of clusters to try\n",
    "min_clusters = 2\n",
    "max_clusters = 5\n",
    "\n",
    "# Initialize variables to store results\n",
    "best_n_clusters = 0\n",
    "best_silhouette_score = -1\n",
    "best_kproto = None\n",
    "\n",
    "# Initialize a list to store silhouette scores\n",
    "silhouette_scores = []\n",
    "\n",
    "# Iterate through different cluster numbers\n",
    "for n_clusters in range(min_clusters, max_clusters + 1):\n",
    "    # Create the k-prototype model\n",
    "    kproto = KPrototypes(n_clusters=n_clusters, init='Cao', verbose=0, random_state=42)\n",
    "\n",
    "    # Fit the model to the data and obtain cluster labels\n",
    "    clusters = kproto.fit_predict(x_train_with_factors, categorical=categorical_columns)  # Adjust categorical indices\n",
    "\n",
    "    # Calculate the silhouette score\n",
    "    silhouette_avg = silhouette_score(x_train_with_factors, clusters)\n",
    "    silhouette_scores.append(silhouette_avg)\n",
    "\n",
    "    # Update the best silhouette score and number of clusters\n",
    "    if silhouette_avg > best_silhouette_score:\n",
    "        best_silhouette_score = silhouette_avg\n",
    "        best_n_clusters = n_clusters\n",
    "        best_kproto = kproto\n",
    "\n",
    "# Print the optimal number of clusters\n",
    "print(\"Optimal number of clusters:\", best_n_clusters)\n",
    "\n",
    "# Access the clustering results using the best_kproto object\n",
    "best_clusters = best_kproto.labels_\n"
   ]
  },
  {
   "cell_type": "markdown",
   "metadata": {
    "id": "xNVB7UUX3ojP"
   },
   "source": [
    "**Using factor scores -  kmeans**"
   ]
  },
  {
   "cell_type": "code",
   "execution_count": null,
   "metadata": {
    "colab": {
     "base_uri": "https://localhost:8080/",
     "height": 211
    },
    "id": "895SzGfXUply",
    "outputId": "65bdfc8b-43e5-469b-b037-a845629fe621"
   },
   "outputs": [
    {
     "ename": "NameError",
     "evalue": "name 'x_train_transformed' is not defined",
     "output_type": "error",
     "traceback": [
      "\u001b[0;31m---------------------------------------------------------------------------\u001b[0m",
      "\u001b[0;31mNameError\u001b[0m                                 Traceback (most recent call last)",
      "\u001b[0;32m<ipython-input-63-fff5fb3f2ac7>\u001b[0m in \u001b[0;36m<cell line: 18>\u001b[0;34m()\u001b[0m\n\u001b[1;32m     21\u001b[0m \u001b[0;34m\u001b[0m\u001b[0m\n\u001b[1;32m     22\u001b[0m     \u001b[0;31m# Fit the model to the transformed data\u001b[0m\u001b[0;34m\u001b[0m\u001b[0;34m\u001b[0m\u001b[0m\n\u001b[0;32m---> 23\u001b[0;31m     \u001b[0mclusters\u001b[0m \u001b[0;34m=\u001b[0m \u001b[0mkmeans\u001b[0m\u001b[0;34m.\u001b[0m\u001b[0mfit_predict\u001b[0m\u001b[0;34m(\u001b[0m\u001b[0mx_train_transformed\u001b[0m\u001b[0;34m)\u001b[0m\u001b[0;34m\u001b[0m\u001b[0;34m\u001b[0m\u001b[0m\n\u001b[0m\u001b[1;32m     24\u001b[0m \u001b[0;34m\u001b[0m\u001b[0m\n\u001b[1;32m     25\u001b[0m     \u001b[0;31m# Calculate the silhouette score\u001b[0m\u001b[0;34m\u001b[0m\u001b[0;34m\u001b[0m\u001b[0m\n",
      "\u001b[0;31mNameError\u001b[0m: name 'x_train_transformed' is not defined"
     ]
    }
   ],
   "source": [
    "from sklearn.cluster import KMeans\n",
    "from sklearn.metrics import silhouette_score\n",
    "\n",
    "\n",
    "# Determine the range of clusters to try\n",
    "min_clusters = 2\n",
    "max_clusters = 10\n",
    "\n",
    "# Initialize variables to store results\n",
    "best_n_clusters = 0\n",
    "best_silhouette_score = -1\n",
    "best_kproto = None\n",
    "\n",
    "# Initialize a list to store silhouette scores\n",
    "silhouette_scores = []\n",
    "\n",
    "# Iterate through different cluster numbers\n",
    "for n_clusters in range(min_clusters, max_clusters + 1):\n",
    "    # Create the K-Means model\n",
    "    kmeans = KMeans(n_clusters=n_clusters, random_state=42)\n",
    "\n",
    "    # Fit the model to the transformed data\n",
    "    clusters = kmeans.fit_predict(x_train_transformed)\n",
    "\n",
    "    # Calculate the silhouette score\n",
    "    silhouette_avg = silhouette_score(x_train_transformed, clusters)\n",
    "    silhouette_scores.append(silhouette_avg)\n",
    "\n",
    "    # Update the best silhouette score and number of clusters\n",
    "    if silhouette_avg > best_silhouette_score:\n",
    "        best_silhouette_score = silhouette_avg\n",
    "        best_n_clusters = n_clusters\n",
    "        best_kmeans = kmeans\n",
    "\n",
    "# Print the optimal number of clusters\n",
    "print(\"Optimal number of clusters:\", best_n_clusters)\n",
    "\n"
   ]
  },
  {
   "cell_type": "code",
   "execution_count": null,
   "metadata": {
    "colab": {
     "base_uri": "https://localhost:8080/",
     "height": 774
    },
    "id": "07_MU2xCUpjI",
    "outputId": "745a72b4-ac73-4b58-d39b-e18850ff6dee"
   },
   "outputs": [
    {
     "ename": "ValueError",
     "evalue": "x and y must have same first dimension, but have shapes (9,) and (0,)",
     "output_type": "error",
     "traceback": [
      "\u001b[0;31m---------------------------------------------------------------------------\u001b[0m",
      "\u001b[0;31mValueError\u001b[0m                                Traceback (most recent call last)",
      "\u001b[0;32m<ipython-input-64-5d697e31abce>\u001b[0m in \u001b[0;36m<cell line: 3>\u001b[0;34m()\u001b[0m\n\u001b[1;32m      1\u001b[0m \u001b[0;32mimport\u001b[0m \u001b[0mmatplotlib\u001b[0m\u001b[0;34m.\u001b[0m\u001b[0mpyplot\u001b[0m \u001b[0;32mas\u001b[0m \u001b[0mplt\u001b[0m\u001b[0;34m\u001b[0m\u001b[0;34m\u001b[0m\u001b[0m\n\u001b[1;32m      2\u001b[0m \u001b[0;34m\u001b[0m\u001b[0m\n\u001b[0;32m----> 3\u001b[0;31m \u001b[0mplt\u001b[0m\u001b[0;34m.\u001b[0m\u001b[0mplot\u001b[0m\u001b[0;34m(\u001b[0m\u001b[0mnp\u001b[0m\u001b[0;34m.\u001b[0m\u001b[0marange\u001b[0m\u001b[0;34m(\u001b[0m\u001b[0;36m2\u001b[0m\u001b[0;34m,\u001b[0m \u001b[0;36m11\u001b[0m\u001b[0;34m)\u001b[0m\u001b[0;34m,\u001b[0m \u001b[0msilhouette_scores\u001b[0m\u001b[0;34m,\u001b[0m \u001b[0mmarker\u001b[0m\u001b[0;34m=\u001b[0m\u001b[0;34m'o'\u001b[0m\u001b[0;34m)\u001b[0m\u001b[0;34m\u001b[0m\u001b[0;34m\u001b[0m\u001b[0m\n\u001b[0m\u001b[1;32m      4\u001b[0m \u001b[0mplt\u001b[0m\u001b[0;34m.\u001b[0m\u001b[0mtitle\u001b[0m\u001b[0;34m(\u001b[0m\u001b[0;34m'Silhouette Method for Optimal k'\u001b[0m\u001b[0;34m)\u001b[0m\u001b[0;34m\u001b[0m\u001b[0;34m\u001b[0m\u001b[0m\n\u001b[1;32m      5\u001b[0m \u001b[0mplt\u001b[0m\u001b[0;34m.\u001b[0m\u001b[0mxlabel\u001b[0m\u001b[0;34m(\u001b[0m\u001b[0;34m'Number of Clusters (k)'\u001b[0m\u001b[0;34m)\u001b[0m\u001b[0;34m\u001b[0m\u001b[0;34m\u001b[0m\u001b[0m\n",
      "\u001b[0;32m/usr/local/lib/python3.10/dist-packages/matplotlib/pyplot.py\u001b[0m in \u001b[0;36mplot\u001b[0;34m(scalex, scaley, data, *args, **kwargs)\u001b[0m\n\u001b[1;32m   2810\u001b[0m \u001b[0;34m@\u001b[0m\u001b[0m_copy_docstring_and_deprecators\u001b[0m\u001b[0;34m(\u001b[0m\u001b[0mAxes\u001b[0m\u001b[0;34m.\u001b[0m\u001b[0mplot\u001b[0m\u001b[0;34m)\u001b[0m\u001b[0;34m\u001b[0m\u001b[0;34m\u001b[0m\u001b[0m\n\u001b[1;32m   2811\u001b[0m \u001b[0;32mdef\u001b[0m \u001b[0mplot\u001b[0m\u001b[0;34m(\u001b[0m\u001b[0;34m*\u001b[0m\u001b[0margs\u001b[0m\u001b[0;34m,\u001b[0m \u001b[0mscalex\u001b[0m\u001b[0;34m=\u001b[0m\u001b[0;32mTrue\u001b[0m\u001b[0;34m,\u001b[0m \u001b[0mscaley\u001b[0m\u001b[0;34m=\u001b[0m\u001b[0;32mTrue\u001b[0m\u001b[0;34m,\u001b[0m \u001b[0mdata\u001b[0m\u001b[0;34m=\u001b[0m\u001b[0;32mNone\u001b[0m\u001b[0;34m,\u001b[0m \u001b[0;34m**\u001b[0m\u001b[0mkwargs\u001b[0m\u001b[0;34m)\u001b[0m\u001b[0;34m:\u001b[0m\u001b[0;34m\u001b[0m\u001b[0;34m\u001b[0m\u001b[0m\n\u001b[0;32m-> 2812\u001b[0;31m     return gca().plot(\n\u001b[0m\u001b[1;32m   2813\u001b[0m         \u001b[0;34m*\u001b[0m\u001b[0margs\u001b[0m\u001b[0;34m,\u001b[0m \u001b[0mscalex\u001b[0m\u001b[0;34m=\u001b[0m\u001b[0mscalex\u001b[0m\u001b[0;34m,\u001b[0m \u001b[0mscaley\u001b[0m\u001b[0;34m=\u001b[0m\u001b[0mscaley\u001b[0m\u001b[0;34m,\u001b[0m\u001b[0;34m\u001b[0m\u001b[0;34m\u001b[0m\u001b[0m\n\u001b[1;32m   2814\u001b[0m         **({\"data\": data} if data is not None else {}), **kwargs)\n",
      "\u001b[0;32m/usr/local/lib/python3.10/dist-packages/matplotlib/axes/_axes.py\u001b[0m in \u001b[0;36mplot\u001b[0;34m(self, scalex, scaley, data, *args, **kwargs)\u001b[0m\n\u001b[1;32m   1686\u001b[0m         \"\"\"\n\u001b[1;32m   1687\u001b[0m         \u001b[0mkwargs\u001b[0m \u001b[0;34m=\u001b[0m \u001b[0mcbook\u001b[0m\u001b[0;34m.\u001b[0m\u001b[0mnormalize_kwargs\u001b[0m\u001b[0;34m(\u001b[0m\u001b[0mkwargs\u001b[0m\u001b[0;34m,\u001b[0m \u001b[0mmlines\u001b[0m\u001b[0;34m.\u001b[0m\u001b[0mLine2D\u001b[0m\u001b[0;34m)\u001b[0m\u001b[0;34m\u001b[0m\u001b[0;34m\u001b[0m\u001b[0m\n\u001b[0;32m-> 1688\u001b[0;31m         \u001b[0mlines\u001b[0m \u001b[0;34m=\u001b[0m \u001b[0;34m[\u001b[0m\u001b[0;34m*\u001b[0m\u001b[0mself\u001b[0m\u001b[0;34m.\u001b[0m\u001b[0m_get_lines\u001b[0m\u001b[0;34m(\u001b[0m\u001b[0;34m*\u001b[0m\u001b[0margs\u001b[0m\u001b[0;34m,\u001b[0m \u001b[0mdata\u001b[0m\u001b[0;34m=\u001b[0m\u001b[0mdata\u001b[0m\u001b[0;34m,\u001b[0m \u001b[0;34m**\u001b[0m\u001b[0mkwargs\u001b[0m\u001b[0;34m)\u001b[0m\u001b[0;34m]\u001b[0m\u001b[0;34m\u001b[0m\u001b[0;34m\u001b[0m\u001b[0m\n\u001b[0m\u001b[1;32m   1689\u001b[0m         \u001b[0;32mfor\u001b[0m \u001b[0mline\u001b[0m \u001b[0;32min\u001b[0m \u001b[0mlines\u001b[0m\u001b[0;34m:\u001b[0m\u001b[0;34m\u001b[0m\u001b[0;34m\u001b[0m\u001b[0m\n\u001b[1;32m   1690\u001b[0m             \u001b[0mself\u001b[0m\u001b[0;34m.\u001b[0m\u001b[0madd_line\u001b[0m\u001b[0;34m(\u001b[0m\u001b[0mline\u001b[0m\u001b[0;34m)\u001b[0m\u001b[0;34m\u001b[0m\u001b[0;34m\u001b[0m\u001b[0m\n",
      "\u001b[0;32m/usr/local/lib/python3.10/dist-packages/matplotlib/axes/_base.py\u001b[0m in \u001b[0;36m__call__\u001b[0;34m(self, data, *args, **kwargs)\u001b[0m\n\u001b[1;32m    309\u001b[0m                 \u001b[0mthis\u001b[0m \u001b[0;34m+=\u001b[0m \u001b[0margs\u001b[0m\u001b[0;34m[\u001b[0m\u001b[0;36m0\u001b[0m\u001b[0;34m]\u001b[0m\u001b[0;34m,\u001b[0m\u001b[0;34m\u001b[0m\u001b[0;34m\u001b[0m\u001b[0m\n\u001b[1;32m    310\u001b[0m                 \u001b[0margs\u001b[0m \u001b[0;34m=\u001b[0m \u001b[0margs\u001b[0m\u001b[0;34m[\u001b[0m\u001b[0;36m1\u001b[0m\u001b[0;34m:\u001b[0m\u001b[0;34m]\u001b[0m\u001b[0;34m\u001b[0m\u001b[0;34m\u001b[0m\u001b[0m\n\u001b[0;32m--> 311\u001b[0;31m             yield from self._plot_args(\n\u001b[0m\u001b[1;32m    312\u001b[0m                 this, kwargs, ambiguous_fmt_datakey=ambiguous_fmt_datakey)\n\u001b[1;32m    313\u001b[0m \u001b[0;34m\u001b[0m\u001b[0m\n",
      "\u001b[0;32m/usr/local/lib/python3.10/dist-packages/matplotlib/axes/_base.py\u001b[0m in \u001b[0;36m_plot_args\u001b[0;34m(self, tup, kwargs, return_kwargs, ambiguous_fmt_datakey)\u001b[0m\n\u001b[1;32m    502\u001b[0m \u001b[0;34m\u001b[0m\u001b[0m\n\u001b[1;32m    503\u001b[0m         \u001b[0;32mif\u001b[0m \u001b[0mx\u001b[0m\u001b[0;34m.\u001b[0m\u001b[0mshape\u001b[0m\u001b[0;34m[\u001b[0m\u001b[0;36m0\u001b[0m\u001b[0;34m]\u001b[0m \u001b[0;34m!=\u001b[0m \u001b[0my\u001b[0m\u001b[0;34m.\u001b[0m\u001b[0mshape\u001b[0m\u001b[0;34m[\u001b[0m\u001b[0;36m0\u001b[0m\u001b[0;34m]\u001b[0m\u001b[0;34m:\u001b[0m\u001b[0;34m\u001b[0m\u001b[0;34m\u001b[0m\u001b[0m\n\u001b[0;32m--> 504\u001b[0;31m             raise ValueError(f\"x and y must have same first dimension, but \"\n\u001b[0m\u001b[1;32m    505\u001b[0m                              f\"have shapes {x.shape} and {y.shape}\")\n\u001b[1;32m    506\u001b[0m         \u001b[0;32mif\u001b[0m \u001b[0mx\u001b[0m\u001b[0;34m.\u001b[0m\u001b[0mndim\u001b[0m \u001b[0;34m>\u001b[0m \u001b[0;36m2\u001b[0m \u001b[0;32mor\u001b[0m \u001b[0my\u001b[0m\u001b[0;34m.\u001b[0m\u001b[0mndim\u001b[0m \u001b[0;34m>\u001b[0m \u001b[0;36m2\u001b[0m\u001b[0;34m:\u001b[0m\u001b[0;34m\u001b[0m\u001b[0;34m\u001b[0m\u001b[0m\n",
      "\u001b[0;31mValueError\u001b[0m: x and y must have same first dimension, but have shapes (9,) and (0,)"
     ]
    },
    {
     "data": {
      "image/png": "[encoded data removed]",
      "text/plain": [
       "<Figure size 640x480 with 1 Axes>"
      ]
     },
     "metadata": {},
     "output_type": "display_data"
    }
   ],
   "source": [
    "import matplotlib.pyplot as plt\n",
    "\n",
    "plt.plot(np.arange(2, 11), silhouette_scores, marker='o')\n",
    "plt.title('Silhouette Method for Optimal k')\n",
    "plt.xlabel('Number of Clusters (k)')\n",
    "plt.ylabel('Silhouette Score')\n",
    "plt.show()"
   ]
  },
  {
   "cell_type": "code",
   "execution_count": null,
   "metadata": {
    "colab": {
     "base_uri": "https://localhost:8080/",
     "height": 211
    },
    "id": "7cwxAXVzqhRP",
    "outputId": "c54ab231-9132-46cc-a708-97389168d3bc"
   },
   "outputs": [
    {
     "ename": "NameError",
     "evalue": "name 'KPrototypes' is not defined",
     "output_type": "error",
     "traceback": [
      "\u001b[0;31m---------------------------------------------------------------------------\u001b[0m",
      "\u001b[0;31mNameError\u001b[0m                                 Traceback (most recent call last)",
      "\u001b[0;32m<ipython-input-66-f69e214ac9dd>\u001b[0m in \u001b[0;36m<cell line: 3>\u001b[0;34m()\u001b[0m\n\u001b[1;32m      1\u001b[0m \u001b[0;31m# Perform k-prototype clustering\u001b[0m\u001b[0;34m\u001b[0m\u001b[0;34m\u001b[0m\u001b[0m\n\u001b[1;32m      2\u001b[0m \u001b[0mn_clusters\u001b[0m \u001b[0;34m=\u001b[0m \u001b[0;36m2\u001b[0m \u001b[0;31m# You can choose the number of clusters\u001b[0m\u001b[0;34m\u001b[0m\u001b[0;34m\u001b[0m\u001b[0m\n\u001b[0;32m----> 3\u001b[0;31m \u001b[0mkproto\u001b[0m \u001b[0;34m=\u001b[0m \u001b[0mKPrototypes\u001b[0m\u001b[0;34m(\u001b[0m\u001b[0mn_clusters\u001b[0m\u001b[0;34m=\u001b[0m\u001b[0mn_clusters\u001b[0m\u001b[0;34m,\u001b[0m \u001b[0minit\u001b[0m\u001b[0;34m=\u001b[0m\u001b[0;34m'Cao'\u001b[0m\u001b[0;34m,\u001b[0m \u001b[0mverbose\u001b[0m\u001b[0;34m=\u001b[0m\u001b[0;36m2\u001b[0m\u001b[0;34m)\u001b[0m\u001b[0;34m\u001b[0m\u001b[0;34m\u001b[0m\u001b[0m\n\u001b[0m\u001b[1;32m      4\u001b[0m \u001b[0mclusters\u001b[0m \u001b[0;34m=\u001b[0m \u001b[0mkproto\u001b[0m\u001b[0;34m.\u001b[0m\u001b[0mfit_predict\u001b[0m\u001b[0;34m(\u001b[0m\u001b[0mx_train_with_factors\u001b[0m\u001b[0;34m,\u001b[0m \u001b[0mcategorical\u001b[0m\u001b[0;34m=\u001b[0m\u001b[0mcategorical_columns\u001b[0m\u001b[0;34m)\u001b[0m\u001b[0;34m\u001b[0m\u001b[0;34m\u001b[0m\u001b[0m\n\u001b[1;32m      5\u001b[0m \u001b[0;34m\u001b[0m\u001b[0m\n",
      "\u001b[0;31mNameError\u001b[0m: name 'KPrototypes' is not defined"
     ]
    }
   ],
   "source": [
    "\n",
    "\n",
    "# Perform k-prototype clustering\n",
    "n_clusters = 2 # You can choose the number of clusters\n",
    "kproto = KPrototypes(n_clusters=n_clusters, init='Cao', verbose=2)\n",
    "clusters = kproto.fit_predict(x_train_with_factors, categorical=categorical_columns)\n",
    "\n",
    "# Add cluster labels to the DataFrame\n",
    "df_with_clusters = x_train_with_factors.copy()\n",
    "df_with_clusters['Cluster'] = clusters\n"
   ]
  },
  {
   "cell_type": "code",
   "execution_count": null,
   "metadata": {
    "colab": {
     "base_uri": "https://localhost:8080/",
     "height": 228
    },
    "id": "0jR1lfGuViwR",
    "outputId": "afb2fdce-13dc-4532-a98f-0c3285dee155"
   },
   "outputs": [
    {
     "ename": "NameError",
     "evalue": "name 'df_with_clusters' is not defined",
     "output_type": "error",
     "traceback": [
      "\u001b[0;31m---------------------------------------------------------------------------\u001b[0m",
      "\u001b[0;31mNameError\u001b[0m                                 Traceback (most recent call last)",
      "\u001b[0;32m<ipython-input-67-736f893fa5d1>\u001b[0m in \u001b[0;36m<cell line: 8>\u001b[0;34m()\u001b[0m\n\u001b[1;32m      6\u001b[0m \u001b[0;31m# Scatter plot\u001b[0m\u001b[0;34m\u001b[0m\u001b[0;34m\u001b[0m\u001b[0m\n\u001b[1;32m      7\u001b[0m \u001b[0mplt\u001b[0m\u001b[0;34m.\u001b[0m\u001b[0mfigure\u001b[0m\u001b[0;34m(\u001b[0m\u001b[0mfigsize\u001b[0m\u001b[0;34m=\u001b[0m\u001b[0;34m(\u001b[0m\u001b[0;36m10\u001b[0m\u001b[0;34m,\u001b[0m \u001b[0;36m6\u001b[0m\u001b[0;34m)\u001b[0m\u001b[0;34m)\u001b[0m\u001b[0;34m\u001b[0m\u001b[0;34m\u001b[0m\u001b[0m\n\u001b[0;32m----> 8\u001b[0;31m \u001b[0msns\u001b[0m\u001b[0;34m.\u001b[0m\u001b[0mscatterplot\u001b[0m\u001b[0;34m(\u001b[0m\u001b[0mx\u001b[0m\u001b[0;34m=\u001b[0m\u001b[0;34m'Factor 1'\u001b[0m\u001b[0;34m,\u001b[0m \u001b[0my\u001b[0m\u001b[0;34m=\u001b[0m\u001b[0;34m'Factor 2'\u001b[0m\u001b[0;34m,\u001b[0m \u001b[0mhue\u001b[0m\u001b[0;34m=\u001b[0m\u001b[0;34m'Cluster'\u001b[0m\u001b[0;34m,\u001b[0m \u001b[0mdata\u001b[0m\u001b[0;34m=\u001b[0m\u001b[0mdf_with_clusters\u001b[0m\u001b[0;34m,\u001b[0m \u001b[0mpalette\u001b[0m\u001b[0;34m=\u001b[0m\u001b[0;34m'viridis'\u001b[0m\u001b[0;34m,\u001b[0m \u001b[0ms\u001b[0m\u001b[0;34m=\u001b[0m\u001b[0;36m100\u001b[0m\u001b[0;34m)\u001b[0m\u001b[0;34m\u001b[0m\u001b[0;34m\u001b[0m\u001b[0m\n\u001b[0m\u001b[1;32m      9\u001b[0m \u001b[0;34m\u001b[0m\u001b[0m\n\u001b[1;32m     10\u001b[0m \u001b[0;31m# Add labels and title\u001b[0m\u001b[0;34m\u001b[0m\u001b[0;34m\u001b[0m\u001b[0m\n",
      "\u001b[0;31mNameError\u001b[0m: name 'df_with_clusters' is not defined"
     ]
    },
    {
     "data": {
      "text/plain": [
       "<Figure size 1000x600 with 0 Axes>"
      ]
     },
     "metadata": {},
     "output_type": "display_data"
    }
   ],
   "source": [
    "import matplotlib.pyplot as plt\n",
    "import seaborn as sns  # for better aesthetics\n",
    "\n",
    "# Assuming df_with_clusters is the DataFrame with original data, factor scores, and cluster labels\n",
    "\n",
    "# Scatter plot\n",
    "plt.figure(figsize=(10, 6))\n",
    "sns.scatterplot(x='Factor 1', y='Factor 2', hue='Cluster', data=df_with_clusters, palette='viridis', s=100)\n",
    "\n",
    "# Add labels and title\n",
    "plt.xlabel('Factor 1')\n",
    "plt.ylabel('Factor 2 ')\n",
    "plt.title('Scatter Plot of Factor Scores with Color-Coded Clusters')\n",
    "\n",
    "# Show legend\n",
    "plt.legend(title='Cluster', loc='upper right')\n",
    "\n",
    "# Show the plot\n",
    "plt.show()\n"
   ]
  },
  {
   "cell_type": "code",
   "execution_count": null,
   "metadata": {
    "id": "El1b8zngVJ_l"
   },
   "outputs": [],
   "source": []
  },
  {
   "cell_type": "code",
   "execution_count": null,
   "metadata": {
    "id": "1dVkEDRTidZs"
   },
   "outputs": [],
   "source": []
  },
  {
   "cell_type": "code",
   "execution_count": null,
   "metadata": {
    "id": "nOe3mAgGgLf_"
   },
   "outputs": [],
   "source": []
  },
  {
   "cell_type": "code",
   "execution_count": null,
   "metadata": {
    "id": "5wmyRT9rgLdN"
   },
   "outputs": [],
   "source": []
  },
  {
   "cell_type": "code",
   "execution_count": null,
   "metadata": {
    "id": "ZpuwsCH-gLaO"
   },
   "outputs": [],
   "source": []
  },
  {
   "cell_type": "code",
   "execution_count": null,
   "metadata": {
    "id": "mdGNLOjvgLXh"
   },
   "outputs": [],
   "source": []
  },
  {
   "cell_type": "markdown",
   "metadata": {
    "id": "hYHUtxGAY63x"
   },
   "source": [
    "**FAMD**"
   ]
  },
  {
   "cell_type": "code",
   "execution_count": null,
   "metadata": {
    "colab": {
     "base_uri": "https://localhost:8080/"
    },
    "id": "hQKiVCgoZBIT",
    "outputId": "d345aad6-5216-4e24-eab4-ce4bf9683a1a"
   },
   "outputs": [
    {
     "name": "stdout",
     "output_type": "stream",
     "text": [
      "Collecting prince\n",
      "  Downloading prince-0.13.0-py3-none-any.whl (415 kB)\n",
      "\u001b[?25l     \u001b[90m━━━━━━━━━━━━━━━━━━━━━━━━━━━━━━━━━━━━━━━━\u001b[0m \u001b[32m0.0/415.6 kB\u001b[0m \u001b[31m?\u001b[0m eta \u001b[36m-:--:--\u001b[0m\r",
      "\u001b[2K     \u001b[91m━━━━━━━━━━━━━━━━━━━━━\u001b[0m\u001b[91m╸\u001b[0m\u001b[90m━━━━━━━━━━━━━━━━━━\u001b[0m \u001b[32m225.3/415.6 kB\u001b[0m \u001b[31m6.6 MB/s\u001b[0m eta \u001b[36m0:00:01\u001b[0m\r",
      "\u001b[2K     \u001b[90m━━━━━━━━━━━━━━━━━━━━━━━━━━━━━━━━━━━━━━━━\u001b[0m \u001b[32m415.6/415.6 kB\u001b[0m \u001b[31m6.6 MB/s\u001b[0m eta \u001b[36m0:00:00\u001b[0m\n",
      "\u001b[?25hRequirement already satisfied: altair<6.0.0,>=4.2.2 in /usr/local/lib/python3.10/dist-packages (from prince) (4.2.2)\n",
      "Requirement already satisfied: pandas<3.0.0,>=1.4.1 in /usr/local/lib/python3.10/dist-packages (from prince) (2.0.3)\n",
      "Requirement already satisfied: scikit-learn<2.0.0,>=1.0.2 in /usr/local/lib/python3.10/dist-packages (from prince) (1.2.2)\n",
      "Requirement already satisfied: entrypoints in /usr/local/lib/python3.10/dist-packages (from altair<6.0.0,>=4.2.2->prince) (0.4)\n",
      "Requirement already satisfied: jinja2 in /usr/local/lib/python3.10/dist-packages (from altair<6.0.0,>=4.2.2->prince) (3.1.3)\n",
      "Requirement already satisfied: jsonschema>=3.0 in /usr/local/lib/python3.10/dist-packages (from altair<6.0.0,>=4.2.2->prince) (4.19.2)\n",
      "Requirement already satisfied: numpy in /usr/local/lib/python3.10/dist-packages (from altair<6.0.0,>=4.2.2->prince) (1.25.2)\n",
      "Requirement already satisfied: toolz in /usr/local/lib/python3.10/dist-packages (from altair<6.0.0,>=4.2.2->prince) (0.12.1)\n",
      "Requirement already satisfied: python-dateutil>=2.8.2 in /usr/local/lib/python3.10/dist-packages (from pandas<3.0.0,>=1.4.1->prince) (2.8.2)\n",
      "Requirement already satisfied: pytz>=2020.1 in /usr/local/lib/python3.10/dist-packages (from pandas<3.0.0,>=1.4.1->prince) (2023.4)\n",
      "Requirement already satisfied: tzdata>=2022.1 in /usr/local/lib/python3.10/dist-packages (from pandas<3.0.0,>=1.4.1->prince) (2024.1)\n",
      "Requirement already satisfied: scipy>=1.3.2 in /usr/local/lib/python3.10/dist-packages (from scikit-learn<2.0.0,>=1.0.2->prince) (1.11.4)\n",
      "Requirement already satisfied: joblib>=1.1.1 in /usr/local/lib/python3.10/dist-packages (from scikit-learn<2.0.0,>=1.0.2->prince) (1.3.2)\n",
      "Requirement already satisfied: threadpoolctl>=2.0.0 in /usr/local/lib/python3.10/dist-packages (from scikit-learn<2.0.0,>=1.0.2->prince) (3.4.0)\n",
      "Requirement already satisfied: attrs>=22.2.0 in /usr/local/lib/python3.10/dist-packages (from jsonschema>=3.0->altair<6.0.0,>=4.2.2->prince) (23.2.0)\n",
      "Requirement already satisfied: jsonschema-specifications>=2023.03.6 in /usr/local/lib/python3.10/dist-packages (from jsonschema>=3.0->altair<6.0.0,>=4.2.2->prince) (2023.12.1)\n",
      "Requirement already satisfied: referencing>=0.28.4 in /usr/local/lib/python3.10/dist-packages (from jsonschema>=3.0->altair<6.0.0,>=4.2.2->prince) (0.34.0)\n",
      "Requirement already satisfied: rpds-py>=0.7.1 in /usr/local/lib/python3.10/dist-packages (from jsonschema>=3.0->altair<6.0.0,>=4.2.2->prince) (0.18.0)\n",
      "Requirement already satisfied: six>=1.5 in /usr/local/lib/python3.10/dist-packages (from python-dateutil>=2.8.2->pandas<3.0.0,>=1.4.1->prince) (1.16.0)\n",
      "Requirement already satisfied: MarkupSafe>=2.0 in /usr/local/lib/python3.10/dist-packages (from jinja2->altair<6.0.0,>=4.2.2->prince) (2.1.5)\n",
      "Installing collected packages: prince\n",
      "Successfully installed prince-0.13.0\n"
     ]
    }
   ],
   "source": [
    "!pip install prince"
   ]
  },
  {
   "cell_type": "code",
   "execution_count": null,
   "metadata": {
    "colab": {
     "base_uri": "https://localhost:8080/",
     "height": 472
    },
    "id": "JzMGOt4mVJ8Q",
    "outputId": "e2aa7ecb-dbd3-4abb-f3cc-07beffd9c8cd"
   },
   "outputs": [
    {
     "data": {
      "image/png": "[encoded data removed]",
      "text/plain": [
       "<Figure size 640x480 with 1 Axes>"
      ]
     },
     "metadata": {},
     "output_type": "display_data"
    }
   ],
   "source": [
    "import pandas as pd\n",
    "from prince import FAMD\n",
    "from sklearn.cluster import KMeans\n",
    "\n",
    "# Perform FAMD with 2 components\n",
    "famd = FAMD(n_components=2, random_state=42)\n",
    "famd.fit(x_train)\n",
    "\n",
    "# Get factor loadings as features for clustering\n",
    "features = famd.transform(x_train)\n",
    "\n",
    "# Determine optimal number of clusters (example using Elbow Method)\n",
    "wcss = []\n",
    "for i in range(1, 11):\n",
    "    kmeans = KMeans(n_clusters=i, init=\"k-means++\", random_state=42)\n",
    "    kmeans.fit(features)\n",
    "    wcss.append(kmeans.inertia_)\n",
    "\n",
    "# Plot WCSS to visualize elbow point\n",
    "import matplotlib.pyplot as plt\n",
    "plt.plot(range(1, 11), wcss)\n",
    "plt.title(\"Elbow Method\")\n",
    "plt.xlabel(\"Number of Clusters\")\n",
    "plt.ylabel(\"WCSS\")\n",
    "plt.show()\n",
    "\n",
    "\n"
   ]
  },
  {
   "cell_type": "code",
   "execution_count": null,
   "metadata": {
    "id": "teFkAG2wVJ5l"
   },
   "outputs": [],
   "source": []
  },
  {
   "cell_type": "markdown",
   "metadata": {
    "id": "A-21POhUXs96"
   },
   "source": [
    "**MCA**"
   ]
  },
  {
   "cell_type": "code",
   "execution_count": null,
   "metadata": {
    "id": "gyN248xPGI3n"
   },
   "outputs": [],
   "source": [
    "categorical_predictors=x_train[['Term','Years in current job','Home Ownership','Purpose']]\n",
    "numerical_predictors=x_train[['Current Loan Amount','Credit Score','Annual Income','Monthly Debt','Years of Credit History','Number of Open Accounts',\n",
    "                                  'Number of Credit Problems','Current Credit Balance','Maximum Open Credit','Bankruptcies','Tax Liens']]"
   ]
  },
  {
   "cell_type": "code",
   "execution_count": null,
   "metadata": {
    "colab": {
     "base_uri": "https://localhost:8080/"
    },
    "id": "GqXDgndLZdwD",
    "outputId": "ef9bc551-98c6-428c-bb32-902fb19978af"
   },
   "outputs": [
    {
     "name": "stdout",
     "output_type": "stream",
     "text": [
      "Requirement already satisfied: prince in /usr/local/lib/python3.10/dist-packages (0.13.0)\n",
      "Requirement already satisfied: altair<6.0.0,>=4.2.2 in /usr/local/lib/python3.10/dist-packages (from prince) (4.2.2)\n",
      "Requirement already satisfied: pandas<3.0.0,>=1.4.1 in /usr/local/lib/python3.10/dist-packages (from prince) (2.0.3)\n",
      "Requirement already satisfied: scikit-learn<2.0.0,>=1.0.2 in /usr/local/lib/python3.10/dist-packages (from prince) (1.2.2)\n",
      "Requirement already satisfied: entrypoints in /usr/local/lib/python3.10/dist-packages (from altair<6.0.0,>=4.2.2->prince) (0.4)\n",
      "Requirement already satisfied: jinja2 in /usr/local/lib/python3.10/dist-packages (from altair<6.0.0,>=4.2.2->prince) (3.1.3)\n",
      "Requirement already satisfied: jsonschema>=3.0 in /usr/local/lib/python3.10/dist-packages (from altair<6.0.0,>=4.2.2->prince) (4.19.2)\n",
      "Requirement already satisfied: numpy in /usr/local/lib/python3.10/dist-packages (from altair<6.0.0,>=4.2.2->prince) (1.25.2)\n",
      "Requirement already satisfied: toolz in /usr/local/lib/python3.10/dist-packages (from altair<6.0.0,>=4.2.2->prince) (0.12.1)\n",
      "Requirement already satisfied: python-dateutil>=2.8.2 in /usr/local/lib/python3.10/dist-packages (from pandas<3.0.0,>=1.4.1->prince) (2.8.2)\n",
      "Requirement already satisfied: pytz>=2020.1 in /usr/local/lib/python3.10/dist-packages (from pandas<3.0.0,>=1.4.1->prince) (2023.4)\n",
      "Requirement already satisfied: tzdata>=2022.1 in /usr/local/lib/python3.10/dist-packages (from pandas<3.0.0,>=1.4.1->prince) (2024.1)\n",
      "Requirement already satisfied: scipy>=1.3.2 in /usr/local/lib/python3.10/dist-packages (from scikit-learn<2.0.0,>=1.0.2->prince) (1.11.4)\n",
      "Requirement already satisfied: joblib>=1.1.1 in /usr/local/lib/python3.10/dist-packages (from scikit-learn<2.0.0,>=1.0.2->prince) (1.3.2)\n",
      "Requirement already satisfied: threadpoolctl>=2.0.0 in /usr/local/lib/python3.10/dist-packages (from scikit-learn<2.0.0,>=1.0.2->prince) (3.4.0)\n",
      "Requirement already satisfied: attrs>=22.2.0 in /usr/local/lib/python3.10/dist-packages (from jsonschema>=3.0->altair<6.0.0,>=4.2.2->prince) (23.2.0)\n",
      "Requirement already satisfied: jsonschema-specifications>=2023.03.6 in /usr/local/lib/python3.10/dist-packages (from jsonschema>=3.0->altair<6.0.0,>=4.2.2->prince) (2023.12.1)\n",
      "Requirement already satisfied: referencing>=0.28.4 in /usr/local/lib/python3.10/dist-packages (from jsonschema>=3.0->altair<6.0.0,>=4.2.2->prince) (0.34.0)\n",
      "Requirement already satisfied: rpds-py>=0.7.1 in /usr/local/lib/python3.10/dist-packages (from jsonschema>=3.0->altair<6.0.0,>=4.2.2->prince) (0.18.0)\n",
      "Requirement already satisfied: six>=1.5 in /usr/local/lib/python3.10/dist-packages (from python-dateutil>=2.8.2->pandas<3.0.0,>=1.4.1->prince) (1.16.0)\n",
      "Requirement already satisfied: MarkupSafe>=2.0 in /usr/local/lib/python3.10/dist-packages (from jinja2->altair<6.0.0,>=4.2.2->prince) (2.1.5)\n"
     ]
    }
   ],
   "source": [
    "!pip install prince\n"
   ]
  },
  {
   "cell_type": "code",
   "execution_count": null,
   "metadata": {
    "colab": {
     "base_uri": "https://localhost:8080/",
     "height": 383
    },
    "id": "E6qOkfX-XcL4",
    "outputId": "c25ab365-9cef-4fb1-cca2-5d1584af13e8"
   },
   "outputs": [
    {
     "ename": "ModuleNotFoundError",
     "errorDetails": {
      "actions": [
       {
        "action": "open_url",
        "actionText": "Open Examples",
        "url": "/notebooks/snippets/importing_libraries.ipynb"
       }
      ]
     },
     "evalue": "No module named 'kmodes'",
     "output_type": "error",
     "traceback": [
      "\u001b[0;31m---------------------------------------------------------------------------\u001b[0m",
      "\u001b[0;31mModuleNotFoundError\u001b[0m                       Traceback (most recent call last)",
      "\u001b[0;32m<ipython-input-72-38e35566ce1b>\u001b[0m in \u001b[0;36m<cell line: 2>\u001b[0;34m()\u001b[0m\n\u001b[1;32m      1\u001b[0m \u001b[0;32mfrom\u001b[0m \u001b[0mprince\u001b[0m \u001b[0;32mimport\u001b[0m \u001b[0mMCA\u001b[0m\u001b[0;34m\u001b[0m\u001b[0;34m\u001b[0m\u001b[0m\n\u001b[0;32m----> 2\u001b[0;31m \u001b[0;32mfrom\u001b[0m \u001b[0mkmodes\u001b[0m\u001b[0;34m.\u001b[0m\u001b[0mkprototypes\u001b[0m \u001b[0;32mimport\u001b[0m \u001b[0mKPrototypes\u001b[0m\u001b[0;34m\u001b[0m\u001b[0;34m\u001b[0m\u001b[0m\n\u001b[0m\u001b[1;32m      3\u001b[0m \u001b[0;34m\u001b[0m\u001b[0m\n\u001b[1;32m      4\u001b[0m \u001b[0mmca\u001b[0m\u001b[0;34m=\u001b[0m\u001b[0mMCA\u001b[0m\u001b[0;34m(\u001b[0m\u001b[0mn_components\u001b[0m\u001b[0;34m=\u001b[0m\u001b[0;36m2\u001b[0m\u001b[0;34m)\u001b[0m\u001b[0;34m\u001b[0m\u001b[0;34m\u001b[0m\u001b[0m\n\u001b[1;32m      5\u001b[0m \u001b[0mmca_features\u001b[0m\u001b[0;34m=\u001b[0m\u001b[0mmca\u001b[0m\u001b[0;34m.\u001b[0m\u001b[0mfit_transform\u001b[0m\u001b[0;34m(\u001b[0m\u001b[0mcategorical_predictors\u001b[0m\u001b[0;34m)\u001b[0m\u001b[0;34m\u001b[0m\u001b[0;34m\u001b[0m\u001b[0m\n",
      "\u001b[0;31mModuleNotFoundError\u001b[0m: No module named 'kmodes'",
      "",
      "\u001b[0;31m---------------------------------------------------------------------------\u001b[0;32m\nNOTE: If your import is failing due to a missing package, you can\nmanually install dependencies using either !pip or !apt.\n\nTo view examples of installing some common dependencies, click the\n\"Open Examples\" button below.\n\u001b[0;31m---------------------------------------------------------------------------\u001b[0m\n"
     ]
    }
   ],
   "source": [
    "from prince import MCA\n",
    "from kmodes.kprototypes import KPrototypes\n",
    "\n",
    "mca=MCA(n_components=2)\n",
    "mca_features=mca.fit_transform(categorical_predictors)\n",
    "\n",
    "combined_features = pd.concat([mca_features, numerical_predictors], axis=1)\n",
    "combined_features\n",
    "\n",
    "kproto = KPrototypes(n_clusters=3, init='Cao', verbose=2)\n",
    "\n",
    "clusters = kproto.fit_predict(combined_features.values, categorical=[0, 1])  # Adjust categorical indices\n",
    "\n",
    "# Assign cluster labels to original data if needed\n",
    "x_train['Cluster'] = clusters\n"
   ]
  },
  {
   "cell_type": "code",
   "execution_count": null,
   "metadata": {
    "colab": {
     "base_uri": "https://localhost:8080/",
     "height": 211
    },
    "id": "cvnSsyMaXcJ9",
    "outputId": "04c2ace6-6256-4865-b4fd-758fc6228744"
   },
   "outputs": [
    {
     "ename": "NameError",
     "evalue": "name 'KPrototypes' is not defined",
     "output_type": "error",
     "traceback": [
      "\u001b[0;31m---------------------------------------------------------------------------\u001b[0m",
      "\u001b[0;31mNameError\u001b[0m                                 Traceback (most recent call last)",
      "\u001b[0;32m<ipython-input-73-f662eeb5acb0>\u001b[0m in \u001b[0;36m<cell line: 1>\u001b[0;34m()\u001b[0m\n\u001b[0;32m----> 1\u001b[0;31m \u001b[0mkproto\u001b[0m \u001b[0;34m=\u001b[0m \u001b[0mKPrototypes\u001b[0m\u001b[0;34m(\u001b[0m\u001b[0mn_clusters\u001b[0m\u001b[0;34m=\u001b[0m\u001b[0;36m3\u001b[0m\u001b[0;34m,\u001b[0m \u001b[0minit\u001b[0m\u001b[0;34m=\u001b[0m\u001b[0;34m'Cao'\u001b[0m\u001b[0;34m,\u001b[0m \u001b[0mverbose\u001b[0m\u001b[0;34m=\u001b[0m\u001b[0;36m2\u001b[0m\u001b[0;34m)\u001b[0m\u001b[0;34m\u001b[0m\u001b[0;34m\u001b[0m\u001b[0m\n\u001b[0m\u001b[1;32m      2\u001b[0m \u001b[0mclusters\u001b[0m \u001b[0;34m=\u001b[0m \u001b[0mkproto\u001b[0m\u001b[0;34m.\u001b[0m\u001b[0mfit_predict\u001b[0m\u001b[0;34m(\u001b[0m\u001b[0mx_transformed\u001b[0m\u001b[0;34m.\u001b[0m\u001b[0mvalues\u001b[0m\u001b[0;34m,\u001b[0m \u001b[0mcategorical\u001b[0m\u001b[0;34m=\u001b[0m\u001b[0;34m[\u001b[0m\u001b[0;36m0\u001b[0m\u001b[0;34m,\u001b[0m \u001b[0;36m1\u001b[0m\u001b[0;34m,\u001b[0m \u001b[0;36m2\u001b[0m\u001b[0;34m]\u001b[0m\u001b[0;34m)\u001b[0m  \u001b[0;31m# Adjust categorical indices\u001b[0m\u001b[0;34m\u001b[0m\u001b[0;34m\u001b[0m\u001b[0m\n\u001b[1;32m      3\u001b[0m \u001b[0;34m\u001b[0m\u001b[0m\n\u001b[1;32m      4\u001b[0m \u001b[0;31m# Assign cluster labels to original data if needed\u001b[0m\u001b[0;34m\u001b[0m\u001b[0;34m\u001b[0m\u001b[0m\n\u001b[1;32m      5\u001b[0m \u001b[0mx_train\u001b[0m\u001b[0;34m[\u001b[0m\u001b[0;34m'Cluster'\u001b[0m\u001b[0;34m]\u001b[0m \u001b[0;34m=\u001b[0m \u001b[0mclusters\u001b[0m\u001b[0;34m\u001b[0m\u001b[0;34m\u001b[0m\u001b[0m\n",
      "\u001b[0;31mNameError\u001b[0m: name 'KPrototypes' is not defined"
     ]
    }
   ],
   "source": [
    "kproto = KPrototypes(n_clusters=3, init='Cao', verbose=2)\n",
    "clusters = kproto.fit_predict(x_transformed.values, categorical=[0, 1, 2])  # Adjust categorical indices\n",
    "\n",
    "# Assign cluster labels to original data if needed\n",
    "x_train['Cluster'] = clusters"
   ]
  },
  {
   "cell_type": "code",
   "execution_count": null,
   "metadata": {
    "id": "PFQS_wRJXcIB"
   },
   "outputs": [],
   "source": []
  },
  {
   "cell_type": "code",
   "execution_count": null,
   "metadata": {
    "id": "l376hcryXb5m"
   },
   "outputs": [],
   "source": []
  },
  {
   "cell_type": "code",
   "execution_count": null,
   "metadata": {
    "id": "Iolu5rd0GI0_"
   },
   "outputs": [],
   "source": []
  },
  {
   "cell_type": "code",
   "execution_count": null,
   "metadata": {
    "id": "rj1pW_ZyGIyM"
   },
   "outputs": [],
   "source": []
  },
  {
   "cell_type": "code",
   "execution_count": null,
   "metadata": {
    "id": "NC8EdEdyt3Ej"
   },
   "outputs": [],
   "source": []
  },
  {
   "cell_type": "code",
   "execution_count": null,
   "metadata": {
    "id": "Y_Us0vplt3CO"
   },
   "outputs": [],
   "source": []
  },
  {
   "cell_type": "code",
   "execution_count": null,
   "metadata": {
    "id": "NrjdQwjvt2_B"
   },
   "outputs": [],
   "source": []
  },
  {
   "cell_type": "code",
   "execution_count": null,
   "metadata": {
    "id": "EbrzBM-Mt2xc"
   },
   "outputs": [],
   "source": []
  },
  {
   "cell_type": "markdown",
   "metadata": {
    "id": "h8-RbxB66bPV"
   },
   "source": [
    "**Advanced Analysis**"
   ]
  },
  {
   "cell_type": "code",
   "execution_count": 43,
   "metadata": {
    "id": "DImAr--D7rEZ"
   },
   "outputs": [],
   "source": [
    "from sklearn.model_selection import train_test_split, cross_val_score\n",
    "from sklearn.metrics import roc_auc_score, log_loss, accuracy_score\n",
    "from sklearn.metrics import roc_curve, roc_auc_score\n",
    "from sklearn.metrics import confusion_matrix, recall_score, precision_score\n",
    "from sklearn.preprocessing import binarize, PolynomialFeatures\n",
    "from sklearn.ensemble import RandomForestClassifier, AdaBoostClassifier\n",
    "from sklearn.linear_model import LogisticRegression, RidgeClassifier\n",
    "from sklearn.calibration import calibration_curve\n",
    "import warnings\n",
    "warnings.filterwarnings('ignore')\n",
    "import matplotlib.pyplot as plt"
   ]
  },
  {
   "cell_type": "code",
   "execution_count": 47,
   "metadata": {
    "id": "hfv75V9n8Ule"
   },
   "outputs": [],
   "source": [
    "def encoder(dataset, catFeatures, qtyFeatures):\n",
    "  dataset = dataset[catFeatures + qtyFeatures]\n",
    "  dataset_encoded = pd.get_dummies(dataset,\n",
    "                                   columns = catFeatures,\n",
    "                                   drop_first = True)\n",
    "\n",
    "  return(dataset_encoded)\n",
    "\n",
    "def plot_auc_curve(model, X, y):\n",
    "  try:\n",
    "      y_pred_prob = model.predict_proba(X)[:,1]\n",
    "  except:\n",
    "    d = model.decision_function(X)\n",
    "    y_pred_prob = np.exp(d) / (1 + np.exp(d))\n",
    "\n",
    "  auc = roc_auc_score(y, y_pred_prob)\n",
    "  fpr, tpr, thresholds = roc_curve(y, y_pred_prob)\n",
    "\n",
    "  plt.plot(fpr, tpr)\n",
    "  plt.xlim([0.0, 1.0])\n",
    "  plt.ylim([0.0, 1.0])\n",
    "  plt.title('ROC Curve\\n AUC={auc}'.format(auc = auc))\n",
    "  plt.xlabel('False Positive Rate')\n",
    "  plt.ylabel('True Positive Rate')\n",
    "  plt.grid(True)\n",
    "\n",
    "def model_training(model, X, y):\n",
    "  model.fit(X,y)\n",
    "\n",
    "  return(model)\n",
    "\n",
    "def print_accurcay_metrics(model, X, y, threshold):\n",
    "  try:\n",
    "      y_pred_prob = model.predict_proba(X)[:,1]\n",
    "  except:\n",
    "    d = model.decision_function(X)\n",
    "    y_pred_prob = np.exp(d) / (1 + np.exp(d))\n",
    "  y_pred_class = binarize([y_pred_prob], threshold)[0]\n",
    "\n",
    "  print(\"Accurcay:\", accuracy_score(y, y_pred_class))\n",
    "  print(\"AUC:\", roc_auc_score(y, y_pred_prob))\n",
    "  print(\"Log Loss:\", log_loss(y, y_pred_prob))\n",
    "  print(\"Confusion Matrix:\\n\", confusion_matrix(y, y_pred_class))\n",
    "  print(\"Recall:\", recall_score(y, y_pred_class))\n",
    "  print(\"Precision:\", precision_score(y, y_pred_class))\n",
    "\n",
    "\n",
    "def Find_Optimal_Cutoff(model, X, y):\n",
    "  try:\n",
    "    y_pred_prob = model.predict_proba(X)[:,1]\n",
    "  except:\n",
    "    d = model.decision_function(X)\n",
    "    y_pred_prob = np.exp(d) / (1 + np.exp(d))\n",
    "\n",
    "  fpr, tpr, threshold = roc_curve(y, y_pred_prob)\n",
    "  i = np.arange(len(tpr))\n",
    "  roc = pd.DataFrame({'tf' : pd.Series(tpr-(1-fpr), index=i), 'threshold' : pd.Series(threshold, index=i)})\n",
    "  roc_t = roc.loc[(roc.tf-0).abs().argsort()[:1]]\n",
    "\n",
    "  print(\"Optimal Cutoff:\", roc_t['threshold'].values)\n",
    "  return(roc_t['threshold'].values)\n",
    "\n",
    "def feature_importance(model, X):\n",
    "  importances = model.feature_importances_\n",
    "  std = np.std([tree.feature_importances_ for tree in model.estimators_],\n",
    "               axis=0)\n",
    "  indices = np.argsort(importances)[::-1]\n",
    "\n",
    "  # Print the feature ranking\n",
    "  print(\"Feature ranking:\")\n",
    "\n",
    "  for f in range(X.shape[1]):\n",
    "      print(\"%d. %s (%f)\" % (f + 1, X.columns[indices[f]], importances[indices[f]]))\n",
    "\n",
    "  # Plot the feature importances of the forest\n",
    "  plt.figure()\n",
    "  plt.title(\"Feature importances\")\n",
    "  plt.bar(range(X.shape[1]), importances[indices],\n",
    "          color=\"r\", yerr=std[indices], align=\"center\")\n",
    "  plt.xticks(range(X.shape[1]), indices)\n",
    "  plt.xlim([-1, X.shape[1]])\n",
    "  plt.show()\n",
    "\n",
    "# Plot calibration plots\n",
    "def plot_calibration(y_true, y_prob, n_bins, model_name):\n",
    "  plt.figure(figsize=(10, 10))\n",
    "  ax1 = plt.subplot2grid((3, 1), (0, 0), rowspan=2)\n",
    "  ax2 = plt.subplot2grid((3, 1), (2, 0))\n",
    "\n",
    "  ax1.plot([0, 1], [0, 1], \"k:\", label=\"Perfectly calibrated\")\n",
    "  fraction_of_positives, mean_predicted_value = \\\n",
    "        calibration_curve(y_true, y_prob, n_bins=n_bins)\n",
    "\n",
    "  ax1.plot(mean_predicted_value, fraction_of_positives, \"s-\",\n",
    "             label=\"%s\" % (model_name, ))\n",
    "\n",
    "  ax2.hist(y_pred_prob, range=(0, 1), bins=10, label=model_name,\n",
    "             histtype=\"step\", lw=2)\n",
    "  ax1.set_ylabel(\"Fraction of positives\")\n",
    "  ax1.set_ylim([-0.05, 1.05])\n",
    "  ax1.legend(loc=\"lower right\")\n",
    "  ax1.set_title('Calibration plots')\n",
    "\n",
    "  ax2.set_xlabel(\"Mean predicted value\")\n",
    "  ax2.set_ylabel(\"Count\")\n",
    "  ax2.legend(loc=\"upper right\", ncol=2)\n",
    "\n",
    "  plt.tight_layout()\n",
    "  plt.show()"
   ]
  },
  {
   "cell_type": "code",
   "execution_count": 48,
   "metadata": {
    "colab": {
     "base_uri": "https://localhost:8080/",
     "height": 791
    },
    "id": "UJt0s5jC6dgD",
    "outputId": "e794a4c0-6005-4feb-a0aa-dfddefe87101"
   },
   "outputs": [
    {
     "name": "stdout",
     "output_type": "stream",
     "text": [
      "Optimal Cutoff: [0.05]\n"
     ]
    },
    {
     "ename": "TypeError",
     "evalue": "binarize() takes 1 positional argument but 2 were given",
     "output_type": "error",
     "traceback": [
      "\u001b[0;31m---------------------------------------------------------------------------\u001b[0m",
      "\u001b[0;31mTypeError\u001b[0m                                 Traceback (most recent call last)",
      "\u001b[0;32m<ipython-input-48-a23c3fd9e83e>\u001b[0m in \u001b[0;36m<cell line: 19>\u001b[0;34m()\u001b[0m\n\u001b[1;32m     17\u001b[0m \u001b[0mplot_auc_curve\u001b[0m\u001b[0;34m(\u001b[0m\u001b[0mrf\u001b[0m\u001b[0;34m,\u001b[0m \u001b[0mx_test\u001b[0m\u001b[0;34m,\u001b[0m \u001b[0my_test\u001b[0m\u001b[0;34m)\u001b[0m\u001b[0;34m\u001b[0m\u001b[0;34m\u001b[0m\u001b[0m\n\u001b[1;32m     18\u001b[0m \u001b[0mFind_Optimal_Cutoff\u001b[0m\u001b[0;34m(\u001b[0m\u001b[0mrf\u001b[0m\u001b[0;34m,\u001b[0m \u001b[0mx_test\u001b[0m\u001b[0;34m,\u001b[0m \u001b[0my_test\u001b[0m\u001b[0;34m)\u001b[0m\u001b[0;34m\u001b[0m\u001b[0;34m\u001b[0m\u001b[0m\n\u001b[0;32m---> 19\u001b[0;31m \u001b[0mprint_accurcay_metrics\u001b[0m\u001b[0;34m(\u001b[0m\u001b[0mrf\u001b[0m\u001b[0;34m,\u001b[0m \u001b[0mx_test\u001b[0m\u001b[0;34m,\u001b[0m \u001b[0my_test\u001b[0m\u001b[0;34m,\u001b[0m \u001b[0;36m0.73\u001b[0m\u001b[0;34m)\u001b[0m\u001b[0;34m\u001b[0m\u001b[0;34m\u001b[0m\u001b[0m\n\u001b[0m",
      "\u001b[0;32m<ipython-input-47-6c053858ba11>\u001b[0m in \u001b[0;36mprint_accurcay_metrics\u001b[0;34m(model, X, y, threshold)\u001b[0m\n\u001b[1;32m     36\u001b[0m     \u001b[0md\u001b[0m \u001b[0;34m=\u001b[0m \u001b[0mmodel\u001b[0m\u001b[0;34m.\u001b[0m\u001b[0mdecision_function\u001b[0m\u001b[0;34m(\u001b[0m\u001b[0mX\u001b[0m\u001b[0;34m)\u001b[0m\u001b[0;34m\u001b[0m\u001b[0;34m\u001b[0m\u001b[0m\n\u001b[1;32m     37\u001b[0m     \u001b[0my_pred_prob\u001b[0m \u001b[0;34m=\u001b[0m \u001b[0mnp\u001b[0m\u001b[0;34m.\u001b[0m\u001b[0mexp\u001b[0m\u001b[0;34m(\u001b[0m\u001b[0md\u001b[0m\u001b[0;34m)\u001b[0m \u001b[0;34m/\u001b[0m \u001b[0;34m(\u001b[0m\u001b[0;36m1\u001b[0m \u001b[0;34m+\u001b[0m \u001b[0mnp\u001b[0m\u001b[0;34m.\u001b[0m\u001b[0mexp\u001b[0m\u001b[0;34m(\u001b[0m\u001b[0md\u001b[0m\u001b[0;34m)\u001b[0m\u001b[0;34m)\u001b[0m\u001b[0;34m\u001b[0m\u001b[0;34m\u001b[0m\u001b[0m\n\u001b[0;32m---> 38\u001b[0;31m   \u001b[0my_pred_class\u001b[0m \u001b[0;34m=\u001b[0m \u001b[0mbinarize\u001b[0m\u001b[0;34m(\u001b[0m\u001b[0;34m[\u001b[0m\u001b[0my_pred_prob\u001b[0m\u001b[0;34m]\u001b[0m\u001b[0;34m,\u001b[0m \u001b[0mthreshold\u001b[0m\u001b[0;34m)\u001b[0m\u001b[0;34m[\u001b[0m\u001b[0;36m0\u001b[0m\u001b[0;34m]\u001b[0m\u001b[0;34m\u001b[0m\u001b[0;34m\u001b[0m\u001b[0m\n\u001b[0m\u001b[1;32m     39\u001b[0m \u001b[0;34m\u001b[0m\u001b[0m\n\u001b[1;32m     40\u001b[0m   \u001b[0mprint\u001b[0m\u001b[0;34m(\u001b[0m\u001b[0;34m\"Accurcay:\"\u001b[0m\u001b[0;34m,\u001b[0m \u001b[0maccuracy_score\u001b[0m\u001b[0;34m(\u001b[0m\u001b[0my\u001b[0m\u001b[0;34m,\u001b[0m \u001b[0my_pred_class\u001b[0m\u001b[0;34m)\u001b[0m\u001b[0;34m)\u001b[0m\u001b[0;34m\u001b[0m\u001b[0;34m\u001b[0m\u001b[0m\n",
      "\u001b[0;31mTypeError\u001b[0m: binarize() takes 1 positional argument but 2 were given"
     ]
    },
    {
     "data": {
      "image/png": "[encoded data removed]",
      "text/plain": [
       "<Figure size 640x480 with 1 Axes>"
      ]
     },
     "metadata": {},
     "output_type": "display_data"
    }
   ],
   "source": [
    "import matplotlib.pyplot as plt\n",
    "\n",
    "from collections import OrderedDict\n",
    "from sklearn.ensemble import RandomForestClassifier\n",
    "\n",
    "import warnings\n",
    "warnings.filterwarnings(\"ignore\")\n",
    "\n",
    "RANDOM_STATE = 123\n",
    "\n",
    "rf = RandomForestClassifier(n_estimators=100,\n",
    "                            criterion='gini',\n",
    "                            max_features='sqrt',\n",
    "                            n_jobs=-1)\n",
    "model_training(rf, x_train, y_train)\n",
    "\n",
    "plot_auc_curve(rf, x_test, y_test)\n",
    "Find_Optimal_Cutoff(rf, x_test, y_test)\n",
    "print_accurcay_metrics(rf, x_test, y_test, 0.73)"
   ]
  },
  {
   "cell_type": "code",
   "execution_count": null,
   "metadata": {
    "id": "8wyzN_BA6dsc"
   },
   "outputs": [],
   "source": []
  },
  {
   "cell_type": "code",
   "execution_count": null,
   "metadata": {
    "id": "YQgIs3sj6dpY"
   },
   "outputs": [],
   "source": []
  },
  {
   "cell_type": "code",
   "execution_count": 33,
   "metadata": {
    "id": "ZIEOzpKy6dlz"
   },
   "outputs": [],
   "source": [
    "from sklearn.tree import DecisionTreeClassifier\n",
    "from sklearn.svm import SVC\n",
    "from sklearn.neighbors import KNeighborsClassifier\n",
    "from sklearn.naive_bayes import GaussianNB\n",
    "from sklearn.discriminant_analysis import LinearDiscriminantAnalysis\n",
    "from sklearn.linear_model import LogisticRegression\n",
    "from sklearn.ensemble import RandomForestClassifier"
   ]
  },
  {
   "cell_type": "code",
   "execution_count": 50,
   "metadata": {
    "id": "XIZMPm6e-I5x"
   },
   "outputs": [],
   "source": [
    "models=[]\n",
    "models.append((\"Logistic Regression\",LogisticRegression()))\n",
    "models.append((\"Decision Tree\",DecisionTreeClassifier()))\n",
    "models.append((\"Linear Discriminant Analysis\",LinearDiscriminantAnalysis()))\n",
    "models.append((\"Random Forest\",RandomForestClassifier()))\n",
    "models.append((\"Support Vector Classifier\",SVC()))\n",
    "models.append((\"K- Neirest Neighbour\",KNeighborsClassifier()))\n",
    "models.append((\"Naive Bayes\",GaussianNB()))"
   ]
  },
  {
   "cell_type": "code",
   "execution_count": 51,
   "metadata": {
    "id": "oNd69MBk-I2x"
   },
   "outputs": [],
   "source": [
    "scoring='accuracy'\n"
   ]
  },
  {
   "cell_type": "code",
   "execution_count": 52,
   "metadata": {
    "id": "IANm7T6Q-Iz6"
   },
   "outputs": [],
   "source": [
    "from sklearn.model_selection import KFold\n",
    "from sklearn.model_selection import cross_val_score\n",
    "result=[]\n",
    "names=[]"
   ]
  },
  {
   "cell_type": "code",
   "execution_count": null,
   "metadata": {
    "colab": {
     "base_uri": "https://localhost:8080/"
    },
    "id": "lQOD9FL1-QiQ",
    "outputId": "f941eae3-0712-432d-9215-f595a0a72548"
   },
   "outputs": [
    {
     "name": "stdout",
     "output_type": "stream",
     "text": [
      "LogisticRegression()\n",
      "Logistic Regression 0.799101\n",
      "DecisionTreeClassifier()\n",
      "Decision Tree 0.709910\n",
      "LinearDiscriminantAnalysis()\n",
      "Linear Discriminant Analysis 0.799117\n",
      "RandomForestClassifier()\n",
      "Random Forest 0.799133\n"
     ]
    }
   ],
   "source": [
    "\n",
    "import warnings\n",
    "warnings.filterwarnings(\"ignore\")\n",
    "\n",
    "for name,model in models:\n",
    "    kfold=KFold(n_splits=10)\n",
    "    cv_result=cross_val_score(model,x_train,y_train,cv=kfold,scoring=scoring)\n",
    "    result.append(cv_result)\n",
    "    names.append(name)\n",
    "    print(model)\n",
    "    print(\"%s %f\" % (name,cv_result.mean()))"
   ]
  },
  {
   "cell_type": "code",
   "execution_count": null,
   "metadata": {
    "id": "I9FDqxIN-Qfc"
   },
   "outputs": [],
   "source": []
  },
  {
   "cell_type": "code",
   "execution_count": 34,
   "metadata": {
    "colab": {
     "base_uri": "https://localhost:8080/"
    },
    "id": "BsaZlgyh-Qcu",
    "outputId": "63f0c237-1532-4971-f19e-1f50323b8ada"
   },
   "outputs": [
    {
     "name": "stdout",
     "output_type": "stream",
     "text": [
      "Model Accuracy:-  0.25401459854014596\n",
      "[[ 6786     0]\n",
      " [19929     0]]\n",
      "              precision    recall  f1-score   support\n",
      "\n",
      "           0       0.25      1.00      0.41      6786\n",
      "           1       0.00      0.00      0.00     19929\n",
      "\n",
      "    accuracy                           0.25     26715\n",
      "   macro avg       0.13      0.50      0.20     26715\n",
      "weighted avg       0.06      0.25      0.10     26715\n",
      "\n"
     ]
    },
    {
     "name": "stderr",
     "output_type": "stream",
     "text": [
      "C:\\Users\\acer\\anaconda3\\Lib\\site-packages\\sklearn\\metrics\\_classification.py:1469: UndefinedMetricWarning: Precision and F-score are ill-defined and being set to 0.0 in labels with no predicted samples. Use `zero_division` parameter to control this behavior.\n",
      "  _warn_prf(average, modifier, msg_start, len(result))\n",
      "C:\\Users\\acer\\anaconda3\\Lib\\site-packages\\sklearn\\metrics\\_classification.py:1469: UndefinedMetricWarning: Precision and F-score are ill-defined and being set to 0.0 in labels with no predicted samples. Use `zero_division` parameter to control this behavior.\n",
      "  _warn_prf(average, modifier, msg_start, len(result))\n",
      "C:\\Users\\acer\\anaconda3\\Lib\\site-packages\\sklearn\\metrics\\_classification.py:1469: UndefinedMetricWarning: Precision and F-score are ill-defined and being set to 0.0 in labels with no predicted samples. Use `zero_division` parameter to control this behavior.\n",
      "  _warn_prf(average, modifier, msg_start, len(result))\n"
     ]
    }
   ],
   "source": [
    "from sklearn.metrics import accuracy_score\n",
    "from sklearn.metrics import confusion_matrix\n",
    "from sklearn.metrics import classification_report\n",
    "\n",
    "LR=RandomForestClassifier()\n",
    "LR.fit(x_train,y_train)\n",
    "pred=LR.predict(x_test)\n",
    "print(\"Model Accuracy:- \",accuracy_score(y_test,pred))\n",
    "print(confusion_matrix(y_test,pred))\n",
    "print(classification_report(y_test,pred))"
   ]
  },
  {
   "cell_type": "code",
   "execution_count": 36,
   "metadata": {
    "id": "8KJzGv3x-QZ1"
   },
   "outputs": [],
   "source": [
    "import pickle\n",
    "from sklearn.tree import DecisionTreeClassifier\n",
    "from sklearn.ensemble import RandomForestClassifier\n",
    "\n",
    "# now you can save it to a file\n",
    "file = './Model/ML_Model1.pkl'\n",
    "with open(file, 'wb') as f:\n",
    "    pickle.dump(LR, f)"
   ]
  },
  {
   "cell_type": "code",
   "execution_count": 37,
   "metadata": {
    "id": "biUz3rhvHgHi"
   },
   "outputs": [],
   "source": [
    "with open(file, 'rb') as f:\n",
    "    k = pickle.load(f)"
   ]
  }
 ],
 "metadata": {
  "colab": {
   "gpuType": "T4",
   "provenance": []
  },
  "kernelspec": {
   "display_name": "Python 3 (ipykernel)",
   "language": "python",
   "name": "python3"
  },
  "language_info": {
   "codemirror_mode": {
    "name": "ipython",
    "version": 3
   },
   "file_extension": ".py",
   "mimetype": "text/x-python",
   "name": "python",
   "nbconvert_exporter": "python",
   "pygments_lexer": "ipython3",
   "version": "3.11.5"
  }
 },
 "nbformat": 4,
 "nbformat_minor": 1
}
